{
 "cells": [
  {
   "cell_type": "code",
   "execution_count": 1,
   "metadata": {},
   "outputs": [],
   "source": [
    "import json\n",
    "import utils\n",
    "import pandas as pd"
   ]
  },
  {
   "cell_type": "code",
   "execution_count": 2,
   "metadata": {},
   "outputs": [],
   "source": [
    "counter = 0\n",
    "\n",
    "queries = []\n",
    "incrid = []\n",
    "title = []\n",
    "toponyms = []\n",
    "contextwords = []\n",
    "redirected = []\n",
    "bhocontent = []\n",
    "with open('bho_parsed.json') as f:\n",
    "    \n",
    "    my_dict = json.load(f)\n",
    "    new_dict = dict()\n",
    "    for k in my_dict:\n",
    "        toponym_altnames = []\n",
    "        context_words = []\n",
    "        content = []\n",
    "        is_redirected = True\n",
    "        place_name = my_dict[k][\"place_name\"]\n",
    "        description = my_dict[k][\"description\"]\n",
    "        # Process only redirections:\n",
    "        if not \"—See \" in place_name:\n",
    "            toponym_altnames, context_words = utils.preprocess_title(place_name)\n",
    "            is_redirected = False\n",
    "            content = utils.process_content(description)\n",
    "        \n",
    "        incrid.append(k)\n",
    "        title.append(place_name)\n",
    "        toponyms.append(toponym_altnames)\n",
    "        contextwords.append(context_words)\n",
    "        redirected.append(is_redirected)\n",
    "        bhocontent.append(content)\n",
    "        \n",
    "        for t in toponym_altnames:\n",
    "            queries.append(t)\n",
    "\n",
    "queries = list(set(queries))\n",
    "utils.format_for_candranker(\"../toponym_matching/gazetteers/bho_queries\", queries)\n",
    "\n",
    "bhodf = pd.DataFrame()\n",
    "bhodf[\"id\"] = incrid\n",
    "bhodf[\"title\"] = title\n",
    "bhodf[\"toponyms\"] = toponyms\n",
    "bhodf[\"contextwords\"] = contextwords\n",
    "bhodf[\"redirected\"] = redirected\n",
    "bhodf[\"content\"] = bhocontent\n",
    "bhodf.to_csv(\"bho.csv\", index=False)"
   ]
  },
  {
   "cell_type": "code",
   "execution_count": null,
   "metadata": {},
   "outputs": [],
   "source": []
  }
 ],
 "metadata": {
  "kernelspec": {
   "display_name": "Python (py37deezy)",
   "language": "python",
   "name": "py37deezy"
  },
  "language_info": {
   "codemirror_mode": {
    "name": "ipython",
    "version": 3
   },
   "file_extension": ".py",
   "mimetype": "text/x-python",
   "name": "python",
   "nbconvert_exporter": "python",
   "pygments_lexer": "ipython3",
   "version": "3.7.9"
  }
 },
 "nbformat": 4,
 "nbformat_minor": 4
}
