{
 "metadata": {
  "language_info": {
   "codemirror_mode": {
    "name": "ipython",
    "version": 3
   },
   "file_extension": ".py",
   "mimetype": "text/x-python",
   "name": "python",
   "nbconvert_exporter": "python",
   "pygments_lexer": "ipython3",
   "version": "3.7.9-final"
  },
  "orig_nbformat": 2,
  "kernelspec": {
   "name": "python3",
   "display_name": "Python 3"
  }
 },
 "nbformat": 4,
 "nbformat_minor": 2,
 "cells": [
  {
   "cell_type": "code",
   "execution_count": 74,
   "metadata": {},
   "outputs": [
    {
     "output_type": "execute_result",
     "data": {
      "text/plain": [
       "        wkid                   altname         source        lat       lon\n",
       "0  Q63607865             Kilberry Head  english_label  55.818446 -5.667253\n",
       "1  Q63607865                  Kilberry       geonames  55.818446 -5.667253\n",
       "2  Q63759247   Sandhurst Memorial Park  english_label  51.344000 -0.793000\n",
       "3  Q63781193    Currie railway station  english_label  55.903100 -3.283500\n",
       "4  Q63859929  Stannington War Memorial  english_label  53.392659 -1.548018"
      ],
      "text/html": "<div>\n<style scoped>\n    .dataframe tbody tr th:only-of-type {\n        vertical-align: middle;\n    }\n\n    .dataframe tbody tr th {\n        vertical-align: top;\n    }\n\n    .dataframe thead th {\n        text-align: right;\n    }\n</style>\n<table border=\"1\" class=\"dataframe\">\n  <thead>\n    <tr style=\"text-align: right;\">\n      <th></th>\n      <th>wkid</th>\n      <th>altname</th>\n      <th>source</th>\n      <th>lat</th>\n      <th>lon</th>\n    </tr>\n  </thead>\n  <tbody>\n    <tr>\n      <th>0</th>\n      <td>Q63607865</td>\n      <td>Kilberry Head</td>\n      <td>english_label</td>\n      <td>55.818446</td>\n      <td>-5.667253</td>\n    </tr>\n    <tr>\n      <th>1</th>\n      <td>Q63607865</td>\n      <td>Kilberry</td>\n      <td>geonames</td>\n      <td>55.818446</td>\n      <td>-5.667253</td>\n    </tr>\n    <tr>\n      <th>2</th>\n      <td>Q63759247</td>\n      <td>Sandhurst Memorial Park</td>\n      <td>english_label</td>\n      <td>51.344000</td>\n      <td>-0.793000</td>\n    </tr>\n    <tr>\n      <th>3</th>\n      <td>Q63781193</td>\n      <td>Currie railway station</td>\n      <td>english_label</td>\n      <td>55.903100</td>\n      <td>-3.283500</td>\n    </tr>\n    <tr>\n      <th>4</th>\n      <td>Q63859929</td>\n      <td>Stannington War Memorial</td>\n      <td>english_label</td>\n      <td>53.392659</td>\n      <td>-1.548018</td>\n    </tr>\n  </tbody>\n</table>\n</div>"
     },
     "metadata": {},
     "execution_count": 74
    }
   ],
   "source": [
    "import pandas as pd\n",
    "import numpy as np \n",
    "from tqdm.auto import tqdm\n",
    "tqdm.pandas()\n",
    "\n",
    "bho_cands = pd.read_pickle(\"/home/mcollardanuy/PlaceLinking/toponym_matching/ranker_results/bho_queries_britwikidata_candidates_wikigaz_en_002.pkl\")\n",
    "#bho_cands = bho_cands.head(100)\n",
    "\n",
    "britwikidata_gazetteer = pd.read_pickle(\"/home/mcollardanuy/PlaceLinking/toponym_matching/gazetteers/britwikidata_gazetteer.pkl\")\n",
    "britwikidata_gazetteer.head()"
   ]
  },
  {
   "cell_type": "code",
   "execution_count": 80,
   "metadata": {},
   "outputs": [
    {
     "output_type": "execute_result",
     "data": {
      "text/plain": [
       "[('Q145', 147),\n",
       " ('Q25305', 102),\n",
       " ('Q5785', 99),\n",
       " ('Q43448', 86),\n",
       " ('Q27', 86),\n",
       " ('Q21', 78),\n",
       " ('Q9648', 67),\n",
       " ('Q18221', 61),\n",
       " ('Q23635', 61),\n",
       " ('Q35086', 59),\n",
       " ('Q25', 57),\n",
       " ('Q42314', 57),\n",
       " ('Q9676', 53),\n",
       " ('Q35794', 50),\n",
       " ('Q84', 49),\n",
       " ('Q1410', 48),\n",
       " ('Q8691', 46),\n",
       " ('Q192184', 46),\n",
       " ('Q22890', 43),\n",
       " ('Q160302', 39),\n",
       " ('Q23436', 38),\n",
       " ('Q35672', 35),\n",
       " ('Q8703', 35),\n",
       " ('Q100166', 34),\n",
       " ('Q42646', 34),\n",
       " ('Q212893', 33),\n",
       " ('Q23311', 33),\n",
       " ('Q42182', 33),\n",
       " ('Q170027', 32),\n",
       " ('Q172190', 32)]"
      ]
     },
     "metadata": {},
     "execution_count": 80
    }
   ],
   "source": []
  },
  {
   "cell_type": "code",
   "execution_count": 75,
   "metadata": {},
   "outputs": [
    {
     "output_type": "display_data",
     "data": {
      "text/plain": "HBox(children=(HTML(value=''), FloatProgress(value=0.0, max=15534.0), HTML(value='')))",
      "application/vnd.jupyter.widget-view+json": {
       "version_major": 2,
       "version_minor": 0,
       "model_id": "a4ea00bea19443e9974c74f36a6dfffc"
      }
     },
     "metadata": {}
    },
    {
     "output_type": "stream",
     "name": "stdout",
     "text": [
      "\n"
     ]
    }
   ],
   "source": [
    "\n",
    "def match_cands_wikidata(row,gazetteer,ranking):\n",
    "    wikidata_cands = {}\n",
    "    cands = row[ranking]\n",
    "    for cand,score in cands.items():\n",
    "        wikidataIds = gazetteer[gazetteer[\"altname\"] == cand][\"wkid\"]\n",
    "        for _id in wikidataIds:\n",
    "            if _id not in wikidata_cands:\n",
    "                wikidata_cands[_id] = score\n",
    "    return wikidata_cands\n",
    "\n",
    "tqdm.pandas()    \n",
    "bho_cands['wikidata_cands'] = bho_cands.progress_apply(lambda row : match_cands_wikidata(row,britwikidata_gazetteer,\"faiss_distance\"), axis=1) \n",
    "\n"
   ]
  },
  {
   "cell_type": "code",
   "execution_count": 76,
   "metadata": {},
   "outputs": [
    {
     "output_type": "execute_result",
     "data": {
      "text/plain": [
       "         query                                         pred_score  \\\n",
       "id                                                                  \n",
       "0      Griston  {'Griston': 0.923, 'Riston': 0.9437, 'Siston':...   \n",
       "1       Banham  {'Banham': 0.9622, 'Banham Zoo': 0.9814, 'Been...   \n",
       "2          Ash  {'Ash': 0.9825, 'Esh': 0.9585, 'RAF Ash': 0.88...   \n",
       "3      Kîlcarw  {'Killocraw': 0.9168, 'Kilcor': 0.9261, 'Kilke...   \n",
       "4   Shavington  {'Shavington': 0.974, 'Shannon Region': 0.98, ...   \n",
       "\n",
       "                                       faiss_distance  \\\n",
       "id                                                      \n",
       "0   {'Griston': 0.0, 'Riston': 1.2324, 'Siston': 1...   \n",
       "1   {'Banham': 0.0, 'Banham Zoo': 5.088, 'Beenham'...   \n",
       "2   {'Ash': 0.0, 'Esh': 2.518, 'RAF Ash': 3.6743, ...   \n",
       "3   {'Killocraw': 5.4492, 'Kilcor': 6.468, 'Kilkea...   \n",
       "4   {'Shavington': 0.0, 'Shannon Region': 4.1762, ...   \n",
       "\n",
       "                                           cosine_sim  \\\n",
       "id                                                      \n",
       "0   {'Griston': 1.0, 'Riston': 0.9779, 'Siston': 0...   \n",
       "1   {'Banham': 1.0, 'Banham Zoo': 0.9151, 'Beenham...   \n",
       "2   {'Ash': 1.0, 'Esh': 0.9124, 'RAF Ash': 0.87, '...   \n",
       "3   {'Killocraw': 0.9242, 'Kilcor': 0.9098, 'Kilke...   \n",
       "4   {'Shavington': 1.0, 'Shannon Region': 0.932, '...   \n",
       "\n",
       "                               candidate_original_ids  query_original_id  \\\n",
       "id                                                                         \n",
       "0   {'Griston': 514359, 'Riston': 188110, 'Siston'...                  0   \n",
       "1   {'Banham': 37944, 'Banham Zoo': 96118, 'Beenha...                  1   \n",
       "2   {'Ash': 608253, 'Esh': 604802, 'RAF Ash': 3965...                  2   \n",
       "3   {'Killocraw': 597570, 'Kilcor': 626486, 'Kilke...                  3   \n",
       "4   {'Shavington': 649846, 'Shannon Region': 34489...                  4   \n",
       "\n",
       "    num_all_searches                                     wikidata_cands  \n",
       "id                                                                       \n",
       "0                 20  {'Q59725806': 0.0, 'Q615956': 0.0, 'Q7336442':...  \n",
       "1                 20  {'Q2700979': 0.0, 'Q4855654': 5.088, 'Q2525831...  \n",
       "2                 20  {'Q17542375': 0.0, 'Q4804353': 0.0, 'Q26563812...  \n",
       "3                 20  {'Q31093532': 5.4492, 'Q59724554': 6.468, 'Q59...  \n",
       "4                 20  {'Q23869524': 0.0, 'Q6840838': 4.1762, 'Q61191...  "
      ],
      "text/html": "<div>\n<style scoped>\n    .dataframe tbody tr th:only-of-type {\n        vertical-align: middle;\n    }\n\n    .dataframe tbody tr th {\n        vertical-align: top;\n    }\n\n    .dataframe thead th {\n        text-align: right;\n    }\n</style>\n<table border=\"1\" class=\"dataframe\">\n  <thead>\n    <tr style=\"text-align: right;\">\n      <th></th>\n      <th>query</th>\n      <th>pred_score</th>\n      <th>faiss_distance</th>\n      <th>cosine_sim</th>\n      <th>candidate_original_ids</th>\n      <th>query_original_id</th>\n      <th>num_all_searches</th>\n      <th>wikidata_cands</th>\n    </tr>\n    <tr>\n      <th>id</th>\n      <th></th>\n      <th></th>\n      <th></th>\n      <th></th>\n      <th></th>\n      <th></th>\n      <th></th>\n      <th></th>\n    </tr>\n  </thead>\n  <tbody>\n    <tr>\n      <th>0</th>\n      <td>Griston</td>\n      <td>{'Griston': 0.923, 'Riston': 0.9437, 'Siston':...</td>\n      <td>{'Griston': 0.0, 'Riston': 1.2324, 'Siston': 1...</td>\n      <td>{'Griston': 1.0, 'Riston': 0.9779, 'Siston': 0...</td>\n      <td>{'Griston': 514359, 'Riston': 188110, 'Siston'...</td>\n      <td>0</td>\n      <td>20</td>\n      <td>{'Q59725806': 0.0, 'Q615956': 0.0, 'Q7336442':...</td>\n    </tr>\n    <tr>\n      <th>1</th>\n      <td>Banham</td>\n      <td>{'Banham': 0.9622, 'Banham Zoo': 0.9814, 'Been...</td>\n      <td>{'Banham': 0.0, 'Banham Zoo': 5.088, 'Beenham'...</td>\n      <td>{'Banham': 1.0, 'Banham Zoo': 0.9151, 'Beenham...</td>\n      <td>{'Banham': 37944, 'Banham Zoo': 96118, 'Beenha...</td>\n      <td>1</td>\n      <td>20</td>\n      <td>{'Q2700979': 0.0, 'Q4855654': 5.088, 'Q2525831...</td>\n    </tr>\n    <tr>\n      <th>2</th>\n      <td>Ash</td>\n      <td>{'Ash': 0.9825, 'Esh': 0.9585, 'RAF Ash': 0.88...</td>\n      <td>{'Ash': 0.0, 'Esh': 2.518, 'RAF Ash': 3.6743, ...</td>\n      <td>{'Ash': 1.0, 'Esh': 0.9124, 'RAF Ash': 0.87, '...</td>\n      <td>{'Ash': 608253, 'Esh': 604802, 'RAF Ash': 3965...</td>\n      <td>2</td>\n      <td>20</td>\n      <td>{'Q17542375': 0.0, 'Q4804353': 0.0, 'Q26563812...</td>\n    </tr>\n    <tr>\n      <th>3</th>\n      <td>Kîlcarw</td>\n      <td>{'Killocraw': 0.9168, 'Kilcor': 0.9261, 'Kilke...</td>\n      <td>{'Killocraw': 5.4492, 'Kilcor': 6.468, 'Kilkea...</td>\n      <td>{'Killocraw': 0.9242, 'Kilcor': 0.9098, 'Kilke...</td>\n      <td>{'Killocraw': 597570, 'Kilcor': 626486, 'Kilke...</td>\n      <td>3</td>\n      <td>20</td>\n      <td>{'Q31093532': 5.4492, 'Q59724554': 6.468, 'Q59...</td>\n    </tr>\n    <tr>\n      <th>4</th>\n      <td>Shavington</td>\n      <td>{'Shavington': 0.974, 'Shannon Region': 0.98, ...</td>\n      <td>{'Shavington': 0.0, 'Shannon Region': 4.1762, ...</td>\n      <td>{'Shavington': 1.0, 'Shannon Region': 0.932, '...</td>\n      <td>{'Shavington': 649846, 'Shannon Region': 34489...</td>\n      <td>4</td>\n      <td>20</td>\n      <td>{'Q23869524': 0.0, 'Q6840838': 4.1762, 'Q61191...</td>\n    </tr>\n  </tbody>\n</table>\n</div>"
     },
     "metadata": {},
     "execution_count": 76
    }
   ],
   "source": [
    "bho_cands.head()"
   ]
  },
  {
   "cell_type": "code",
   "execution_count": 79,
   "metadata": {
    "tags": []
   },
   "outputs": [
    {
     "output_type": "stream",
     "name": "stdout",
     "text": [
      "perfect unique match: 0.464\nperfect unique wikipedia match: 0.05\nmultiple best candidates: 0.12\nmultiple best candidates but no wikipedia match: 0.004\nsingle possible candidate: 0.053\nmultiple possible candidates: 0.288\nno wiki page available 0.021\n"
     ]
    }
   ],
   "source": [
    "from wikimapper import WikiMapper\n",
    "from pathlib import Path\n",
    "import urllib.parse\n",
    "\n",
    "mapper = WikiMapper(\"/resources/wikidata2wikipedia/index_enwiki-20190420.db\")\n",
    "\n",
    "def map_wikidata2wikidump(wikidataId):\n",
    "    path = \"/resources/wikipedia/extractedResources/Aspects/\"\n",
    "    wikititles = mapper.id_to_titles(wikidataId)\n",
    "    wikititles = [urllib.parse.quote(title.replace(\"_\",\" \")) for title in wikititles]\n",
    "    wikidumps = [path + title+\".json\" for title in wikititles if Path(path + title+\".json\").is_file()]\n",
    "    return wikidumps\n",
    "\n",
    "\n",
    "single_best_match = 0\n",
    "single_best_wikipedia_match = 0\n",
    "single_possible_match = 0\n",
    "multiple_best_match = 0\n",
    "multiple_possible_match = 0\n",
    "multiple_best_but_no_wiki_match = 0\n",
    "no_wiki_match = 0\n",
    "\n",
    "cutoff = 5\n",
    "\n",
    "for index, row in bho_cands.iterrows():\n",
    "    wikidata_cands = row[\"wikidata_cands\"]\n",
    "    best_match = [x for x,y in wikidata_cands.items() if y==0.0]\n",
    "    if len(best_match)>0:\n",
    "        if len(best_match)==1:\n",
    "            single_best_match+=1\n",
    "        else:\n",
    "            wikipages = [[wikidataId,page] for wikidataId in best_match for page in map_wikidata2wikidump(wikidataId)]\n",
    "            if len(wikipages)==1:\n",
    "                single_best_wikipedia_match+=1\n",
    "            elif len(wikipages)>1:\n",
    "                multiple_best_match+=1\n",
    "            elif len(wikipages)==0:\n",
    "                multiple_best_but_no_wiki_match+=1\n",
    "    else:\n",
    "        selected = [x for x in wikidata_cands.keys()][:cutoff]\n",
    "        wikipages = [[wikidataId,page] for wikidataId in selected for page in map_wikidata2wikidump(wikidataId)]\n",
    "        if len(wikipages)==1:\n",
    "            single_possible_match+=1\n",
    "        elif len(wikipages)>1:\n",
    "            multiple_possible_match+=1\n",
    "        elif len(wikipages)==0:\n",
    "            no_wiki_match+=1\n",
    "\n",
    "\n",
    "\n",
    "print (\"perfect unique match:\",round(single_best_match/len(bho_cands),3))\n",
    "print (\"perfect unique wikipedia match:\",round(single_best_wikipedia_match/len(bho_cands),3))\n",
    "print (\"multiple best candidates:\",round(multiple_best_match/len(bho_cands),3))\n",
    "print (\"multiple best candidates but no wikipedia match:\",round(multiple_best_but_no_wiki_match/len(bho_cands),3))\n",
    "print (\"single possible candidate:\",round(single_possible_match/len(bho_cands),3))\n",
    "print (\"multiple possible candidates:\",round(multiple_possible_match/len(bho_cands),3))\n",
    "#print (\"no single best candidate:\",(len(bho_cands)-single_match-multiple_match-no_wiki_match)/len(bho_cands))\n",
    "print (\"no wiki page available\",round(no_wiki_match/len(bho_cands),3))\n",
    "\n"
   ]
  },
  {
   "cell_type": "code",
   "execution_count": null,
   "metadata": {},
   "outputs": [],
   "source": []
  }
 ]
}