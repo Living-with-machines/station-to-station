{
 "metadata": {
  "language_info": {
   "codemirror_mode": {
    "name": "ipython",
    "version": 3
   },
   "file_extension": ".py",
   "mimetype": "text/x-python",
   "name": "python",
   "nbconvert_exporter": "python",
   "pygments_lexer": "ipython3",
   "version": "3.7.9-final"
  },
  "orig_nbformat": 2,
  "kernelspec": {
   "name": "python3",
   "display_name": "Python 3"
  }
 },
 "nbformat": 4,
 "nbformat_minor": 2,
 "cells": [
  {
   "cell_type": "code",
   "execution_count": 1,
   "metadata": {},
   "outputs": [
    {
     "output_type": "execute_result",
     "data": {
      "text/plain": [
       "        wkid                   altname         source        lat       lon\n",
       "0  Q63607865             Kilberry Head  english_label  55.818446 -5.667253\n",
       "1  Q63607865                  Kilberry       geonames  55.818446 -5.667253\n",
       "2  Q63759247   Sandhurst Memorial Park  english_label  51.344000 -0.793000\n",
       "3  Q63781193    Currie railway station  english_label  55.903100 -3.283500\n",
       "4  Q63859929  Stannington War Memorial  english_label  53.392659 -1.548018"
      ],
      "text/html": "<div>\n<style scoped>\n    .dataframe tbody tr th:only-of-type {\n        vertical-align: middle;\n    }\n\n    .dataframe tbody tr th {\n        vertical-align: top;\n    }\n\n    .dataframe thead th {\n        text-align: right;\n    }\n</style>\n<table border=\"1\" class=\"dataframe\">\n  <thead>\n    <tr style=\"text-align: right;\">\n      <th></th>\n      <th>wkid</th>\n      <th>altname</th>\n      <th>source</th>\n      <th>lat</th>\n      <th>lon</th>\n    </tr>\n  </thead>\n  <tbody>\n    <tr>\n      <th>0</th>\n      <td>Q63607865</td>\n      <td>Kilberry Head</td>\n      <td>english_label</td>\n      <td>55.818446</td>\n      <td>-5.667253</td>\n    </tr>\n    <tr>\n      <th>1</th>\n      <td>Q63607865</td>\n      <td>Kilberry</td>\n      <td>geonames</td>\n      <td>55.818446</td>\n      <td>-5.667253</td>\n    </tr>\n    <tr>\n      <th>2</th>\n      <td>Q63759247</td>\n      <td>Sandhurst Memorial Park</td>\n      <td>english_label</td>\n      <td>51.344000</td>\n      <td>-0.793000</td>\n    </tr>\n    <tr>\n      <th>3</th>\n      <td>Q63781193</td>\n      <td>Currie railway station</td>\n      <td>english_label</td>\n      <td>55.903100</td>\n      <td>-3.283500</td>\n    </tr>\n    <tr>\n      <th>4</th>\n      <td>Q63859929</td>\n      <td>Stannington War Memorial</td>\n      <td>english_label</td>\n      <td>53.392659</td>\n      <td>-1.548018</td>\n    </tr>\n  </tbody>\n</table>\n</div>"
     },
     "metadata": {},
     "execution_count": 1
    }
   ],
   "source": [
    "import pandas as pd\n",
    "import numpy as np \n",
    "from tqdm.auto import tqdm\n",
    "tqdm.pandas()\n",
    "\n",
    "bho_cands = pd.read_pickle(\"bho_queries_britwikidata_candidates+ids_wikigaz_en_002.pkl\")\n",
    "#bho_cands = bho_cands.head(100)\n",
    "\n",
    "britwikidata_gazetteer = pd.read_pickle(\"/home/mcollardanuy/PlaceLinking/toponym_matching/gazetteers/britwikidata_gazetteer.pkl\")\n",
    "britwikidata_gazetteer.head()"
   ]
  },
  {
   "cell_type": "code",
   "execution_count": 2,
   "metadata": {
    "tags": []
   },
   "outputs": [
    {
     "output_type": "stream",
     "name": "stdout",
     "text": [
      "perfect unique match: 0.464\nperfect unique wikipedia match: 0.05\nmultiple best candidates: 0.12\nmultiple best candidates but no wikipedia match: 0.004\nsingle possible candidate: 0.053\nmultiple possible candidates: 0.288\nno wiki page available 0.021\n"
     ]
    }
   ],
   "source": [
    "from wikimapper import WikiMapper\n",
    "from pathlib import Path\n",
    "import urllib.parse\n",
    "\n",
    "mapper = WikiMapper(\"/resources/wikidata2wikipedia/index_enwiki-20190420.db\")\n",
    "\n",
    "def map_wikidata2wikidump(wikidataId):\n",
    "    path = \"/resources/wikipedia/extractedResources/Aspects/\"\n",
    "    wikititles = mapper.id_to_titles(wikidataId)\n",
    "    wikititles = [urllib.parse.quote(title.replace(\"_\",\" \")) for title in wikititles]\n",
    "    wikidumps = [path + title+\".json\" for title in wikititles if Path(path + title+\".json\").is_file()]\n",
    "    return wikidumps\n",
    "\n",
    "\n",
    "single_best_match = 0\n",
    "single_best_wikipedia_match = 0\n",
    "single_possible_match = 0\n",
    "multiple_best_match = 0\n",
    "multiple_possible_match = 0\n",
    "multiple_best_but_no_wiki_match = 0\n",
    "no_wiki_match = 0\n",
    "\n",
    "cutoff = 5\n",
    "\n",
    "for index, row in bho_cands.iterrows():\n",
    "    wikidata_cands = row[\"wikidata_cands\"]\n",
    "    best_match = [x for x,y in wikidata_cands.items() if y==0.0]\n",
    "    if len(best_match)>0:\n",
    "        if len(best_match)==1:\n",
    "            single_best_match+=1\n",
    "        else:\n",
    "            wikipages = [[wikidataId,page] for wikidataId in best_match for page in map_wikidata2wikidump(wikidataId)]\n",
    "            if len(wikipages)==1:\n",
    "                single_best_wikipedia_match+=1\n",
    "            elif len(wikipages)>1:\n",
    "                multiple_best_match+=1\n",
    "            elif len(wikipages)==0:\n",
    "                multiple_best_but_no_wiki_match+=1\n",
    "    else:\n",
    "        selected = [x for x in wikidata_cands.keys()][:cutoff]\n",
    "        wikipages = [[wikidataId,page] for wikidataId in selected for page in map_wikidata2wikidump(wikidataId)]\n",
    "        if len(wikipages)==1:\n",
    "            single_possible_match+=1\n",
    "        elif len(wikipages)>1:\n",
    "            multiple_possible_match+=1\n",
    "        elif len(wikipages)==0:\n",
    "            no_wiki_match+=1\n",
    "\n",
    "\n",
    "\n",
    "print (\"perfect unique match:\",round(single_best_match/len(bho_cands),3))\n",
    "print (\"perfect unique wikipedia match:\",round(single_best_wikipedia_match/len(bho_cands),3))\n",
    "print (\"multiple best candidates:\",round(multiple_best_match/len(bho_cands),3))\n",
    "print (\"multiple best candidates but no wikipedia match:\",round(multiple_best_but_no_wiki_match/len(bho_cands),3))\n",
    "print (\"single possible candidate:\",round(single_possible_match/len(bho_cands),3))\n",
    "print (\"multiple possible candidates:\",round(multiple_possible_match/len(bho_cands),3))\n",
    "#print (\"no single best candidate:\",(len(bho_cands)-single_match-multiple_match-no_wiki_match)/len(bho_cands))\n",
    "print (\"no wiki page available\",round(no_wiki_match/len(bho_cands),3))\n",
    "\n"
   ]
  },
  {
   "cell_type": "code",
   "execution_count": null,
   "metadata": {},
   "outputs": [],
   "source": []
  }
 ]
}