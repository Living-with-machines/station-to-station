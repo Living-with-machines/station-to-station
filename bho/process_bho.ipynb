{
 "cells": [
  {
   "cell_type": "markdown",
   "metadata": {},
   "source": [
    "# Process BHO topographical dictionaries"
   ]
  },
  {
   "cell_type": "code",
   "execution_count": null,
   "metadata": {},
   "outputs": [],
   "source": [
    "#!/usr/bin/env python\n",
    "# -*- coding: utf-8 -*-\n",
    "\n",
    "from bs4 import BeautifulSoup as bs\n",
    "import lxml\n",
    "import glob\n",
    "import re\n",
    "import json\n",
    "import utils\n",
    "import pathlib\n",
    "import pandas as pd\n",
    "from difflib import SequenceMatcher"
   ]
  },
  {
   "cell_type": "code",
   "execution_count": null,
   "metadata": {},
   "outputs": [],
   "source": [
    "path_to_bho = \"/resources/bho/\" # Directory containing the \"England/\", \"Wales/\", and \"Scotland/\" subdirectories"
   ]
  },
  {
   "cell_type": "markdown",
   "metadata": {},
   "source": [
    "### Parse BHO topographical dictionaries"
   ]
  },
  {
   "cell_type": "code",
   "execution_count": null,
   "metadata": {
    "scrolled": true
   },
   "outputs": [],
   "source": [
    "regex_section = r\"s[0-9]+\\\">.*\"\n",
    "\n",
    "entry_id = 0\n",
    "bho_dict = dict()\n",
    "for path in glob.glob(path_to_bho + \"*/*\"):\n",
    "    # Read the XML file\n",
    "    with open(path, \"r\", encoding=\"ISO-8859-1\") as file:\n",
    "        # Read each line in the file, readlines() returns a list of lines\n",
    "        content = file.readlines()\n",
    "        content = \"\".join(content)\n",
    "        lcountry = path.split(\"/\")[-2]\n",
    "        bs_content = bs(content, \"lxml\")\n",
    "        report_title = bs_content.html.body.find(\"title\").getText()\n",
    "        if report_title not in [\"Preface\", \"Index\", \"Appendix\", \"Elizabeth\",\n",
    "                                \"Appendix 2\", \"Corrections and additions\",\n",
    "                                \"Addenda\", \"Appendix 1\", \"Marginal references\",\n",
    "                                \"Tables explaining numbers\", \"Corrigenda\",\n",
    "                                \"Introduction\"]:\n",
    "            sectext = str(bs_content.html.body)\n",
    "            sections = sectext.split(\"<section id=\\\"\")\n",
    "            for s in sections:\n",
    "                s = s.strip()\n",
    "                if re.match(regex_section, s):\n",
    "                    title, text = utils.clean_section(s)\n",
    "                    # Filter out wrong headers and section titles:\n",
    "                    if \"TOPOGRAPHICAL\" not in title and not(not \"-\" in report_title and not \"—See\" in title and title.strip().endswith(\".\")) and text and len(title) > 1 and not title.strip() == \"Ecclesiastical jurisdiction\":\n",
    "                        # Clean noise, eg.: Stirling<figure graphic=\"\\images\\fig96.gif\" id=\"fig96\" number=\"\"><caption><emph type=\"i\">Observe. Reverse. Ancient Burgh Seal</emph>.</caption></figure>\n",
    "                        if \"<\" in title:\n",
    "                            title = title.split(\"<\")[0]\n",
    "                        entry_id += 1\n",
    "                        bho_dict[entry_id] = {\"report_title\": report_title,\n",
    "                                          \"place_name\": title,\n",
    "                                          \"description\": text,\n",
    "                                          \"xmlfile\": path.split(\"/\")[-1],\n",
    "                                          \"country\": lcountry}"
   ]
  },
  {
   "cell_type": "code",
   "execution_count": null,
   "metadata": {},
   "outputs": [],
   "source": [
    "with open('bho_parsed.json', 'w') as f:\n",
    "    json.dump(bho_dict, f)"
   ]
  },
  {
   "cell_type": "markdown",
   "metadata": {},
   "source": [
    "### Clean parsed topographical dictionaries"
   ]
  },
  {
   "cell_type": "code",
   "execution_count": null,
   "metadata": {},
   "outputs": [],
   "source": [
    "queries = []\n",
    "incrid = []\n",
    "title = []\n",
    "toponyms = []\n",
    "contextwords = []\n",
    "redirected = []\n",
    "bhocontent = []\n",
    "country = []\n",
    "xmlfile = []\n",
    "report_title = []\n",
    "\n",
    "counter = 0\n",
    "with open('bho_parsed.json') as f:\n",
    "    \n",
    "    my_dict = json.load(f)\n",
    "    sorted_keys = sorted(my_dict.items(), key=lambda item: item[1]['place_name'])\n",
    "    \n",
    "    for t in sorted_keys:\n",
    "        dvalue = t[1]\n",
    "        toponym_altnames = []\n",
    "        context_words = []\n",
    "        content = []\n",
    "        is_redirected = True\n",
    "        place_name = dvalue[\"place_name\"]\n",
    "        description = dvalue[\"description\"]\n",
    "        # Process only redirections:\n",
    "        if not \"—See \" in place_name:\n",
    "            toponym_altnames, context_words = utils.preprocess_title(place_name, dvalue[\"country\"])\n",
    "            is_redirected = False\n",
    "            content = utils.process_content(description)\n",
    "        \n",
    "        incrid.append(counter)\n",
    "        title.append(place_name)\n",
    "        toponyms.append(toponym_altnames)\n",
    "        contextwords.append(context_words)\n",
    "        redirected.append(is_redirected)\n",
    "        bhocontent.append(content) \n",
    "        country.append(dvalue[\"country\"])\n",
    "        xmlfile.append(dvalue[\"xmlfile\"])\n",
    "        report_title.append(dvalue[\"report_title\"])\n",
    "        \n",
    "        for t in toponym_altnames:\n",
    "            queries.append(t)\n",
    "            \n",
    "        counter += 1\n",
    "\n",
    "# Prepare queries as input for DeezyMatch\n",
    "queries = list(set(queries))\n",
    "outputFolder = \"../toponym_matching/toponyms/\"\n",
    "pathlib.Path(outputFolder).mkdir(parents=True, exist_ok=True)\n",
    "utils.format_for_candranker(outputFolder + \"bho_queries\", queries)\n",
    "\n",
    "# Store structured dataset as csv\n",
    "bhodf = pd.DataFrame()\n",
    "bhodf[\"id\"] = incrid\n",
    "bhodf[\"title\"] = title\n",
    "bhodf[\"toponyms\"] = toponyms\n",
    "bhodf[\"contextwords\"] = contextwords\n",
    "bhodf[\"redirected\"] = redirected\n",
    "bhodf[\"content\"] = bhocontent\n",
    "bhodf[\"country\"] = country\n",
    "bhodf[\"xmlfile\"] = xmlfile\n",
    "bhodf[\"report_title\"] = report_title\n",
    "\n",
    "bhodf.to_csv(\"bho.csv\", index=False)"
   ]
  },
  {
   "cell_type": "code",
   "execution_count": null,
   "metadata": {},
   "outputs": [],
   "source": [
    "annotations_folder = \"../annotations/bho_content/\"\n",
    "pathlib.Path(annotations_folder).mkdir(parents=True, exist_ok=True)\n",
    "for i, row in bhodf.iterrows():\n",
    "    if row[\"redirected\"] == False:\n",
    "        with open(annotations_folder + row[\"country\"] + str(row[\"id\"]) + \".txt\", \"w\") as fw:\n",
    "            fw.write(\"[TITLE] \" + row[\"title\"])\n",
    "            fw.write(\"\\n[1stPARAGRAPH] \" + row[\"content\"][0])"
   ]
  },
  {
   "cell_type": "code",
   "execution_count": null,
   "metadata": {},
   "outputs": [],
   "source": []
  }
 ],
 "metadata": {
  "kernelspec": {
   "display_name": "Python (py37deezy)",
   "language": "python",
   "name": "py37deezy"
  },
  "language_info": {
   "codemirror_mode": {
    "name": "ipython",
    "version": 3
   },
   "file_extension": ".py",
   "mimetype": "text/x-python",
   "name": "python",
   "nbconvert_exporter": "python",
   "pygments_lexer": "ipython3",
   "version": "3.7.9"
  }
 },
 "nbformat": 4,
 "nbformat_minor": 4
}
