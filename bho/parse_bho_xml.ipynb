{
 "cells": [
  {
   "cell_type": "code",
   "execution_count": 1,
   "metadata": {},
   "outputs": [],
   "source": [
    "#!/usr/bin/env python\n",
    "# -*- coding: utf-8 -*-\n",
    "\n",
    "from bs4 import BeautifulSoup as bs\n",
    "import lxml\n",
    "import glob\n",
    "import re\n",
    "import json"
   ]
  },
  {
   "cell_type": "code",
   "execution_count": 2,
   "metadata": {},
   "outputs": [],
   "source": [
    "def clean_section(s):\n",
    "    has_paragraph = False\n",
    "    place_title = \"\"\n",
    "    clean_lines = []\n",
    "    lines = s.split(\"\\n\")\n",
    "    for line in lines:\n",
    "            \n",
    "        if re.search(\"s[0-9]+\\\">\", line): # If line does not contain sth like: s1\">\n",
    "            line = re.sub(\"s[0-9]+\\\">(.*)\", r\"\\1\", line)\n",
    "            line = line.strip()\n",
    "            if line:\n",
    "                clean_lines.append(line)\n",
    "        if re.search(\"</section>\", line): # If line does not contain sth like: s1\">\n",
    "            line = line.strip()\n",
    "            line = re.sub(\"(.*)</section>\", r\"\\1\", line)\n",
    "            if line:\n",
    "                clean_lines.append(line)\n",
    "        else:\n",
    "            clean_lines.append(line)\n",
    "                \n",
    "    lines = clean_lines\n",
    "    clean_lines = []\n",
    "                \n",
    "    for line in lines:\n",
    "        line = line.strip()\n",
    "        if not re.match(\"s[0-9]+\\\">\", line) and not line == \"</section>\": # If line does not have this shape: s1\">\n",
    "            if line.startswith(\"<para\"):\n",
    "                has_paragraph = True\n",
    "                clean_lines.append(line)\n",
    "            else:\n",
    "#                 if re.match(\".*<para\", line) and has_paragraph == False:\n",
    "#                     print(re.sub(\"(.*)<para\", r\"\\1\", line))\n",
    "                    \n",
    "                if has_paragraph == False:\n",
    "                    place_title = line\n",
    "                else:\n",
    "                    clean_lines.append(line)\n",
    "    clean_text = \" \".join(clean_lines)\n",
    "    # clean_text = bs(clean_text).get_text() # Return clean text\n",
    "    return place_title, clean_text"
   ]
  },
  {
   "cell_type": "code",
   "execution_count": 3,
   "metadata": {
    "scrolled": true
   },
   "outputs": [],
   "source": [
    "regex_section = r\"s[0-9]+\\\">.*\"\n",
    "\n",
    "entry_id = 0\n",
    "bho_dict = dict()\n",
    "for path in glob.glob(\"/resources/bho/*/*\"):\n",
    "    # Read the XML file\n",
    "    with open(path, \"r\", encoding=\"ISO-8859-1\") as file:\n",
    "        # Read each line in the file, readlines() returns a list of lines\n",
    "        content = file.readlines()\n",
    "        # Combine the lines in the list into a stringx\n",
    "        content = \"\".join(content)\n",
    "        bs_content = bs(content, \"lxml\")\n",
    "        report_title = bs_content.html.body.find(\"title\").getText()\n",
    "        if report_title != \"Preface\":\n",
    "            sectext = str(bs_content.html.body)\n",
    "            sections = sectext.split(\"<section id=\\\"\")\n",
    "            for s in sections:\n",
    "                s = s.strip()\n",
    "                if re.match(regex_section, s):\n",
    "                    entry_id += 1\n",
    "                    title, text = clean_section(s)\n",
    "                    bho_dict[entry_id] = {\"report_title\": report_title,\n",
    "                                          \"place_name\": title,\n",
    "                                          \"description\": text,\n",
    "                                          \"filepath\": path}"
   ]
  },
  {
   "cell_type": "code",
   "execution_count": 4,
   "metadata": {},
   "outputs": [],
   "source": [
    "with open('bho_parsed.json', 'w') as f:\n",
    "    json.dump(bho_dict, f)"
   ]
  },
  {
   "cell_type": "code",
   "execution_count": 5,
   "metadata": {},
   "outputs": [
    {
     "name": "stdout",
     "output_type": "stream",
     "text": [
      "1\n",
      "{'report_title': 'Abbas-Combe - Aberystwith', 'place_name': 'A TOPOGRAPHICAL DICTIONARY OF ENGLAND.', 'description': '', 'filepath': '/resources/bho/England/50741.xml'}\n",
      "=========\n",
      "2\n",
      "{'report_title': 'Abbas-Combe - Aberystwith', 'place_name': 'Abbas-Combe, or Temple-Combe (St. Mary)', 'description': '<para id=\"p1\">ABBAS-COMBE, or Temple-Combe (<emph type=\"i\">St. Mary</emph>), a parish, in the union of Wincanton, hundred of Horethorne, E. division of Somerset, 4½ miles (S. by W.) from Wincanton, on the road to Blandford; containing 461 inhabitants. It derived the name of Temple-Combe from the military order of Knights Templars, who had an establishment here, which at the Dissolution possessed a revenue of £128. 7. 9. Some remains of the chapel attached to the old priory-house are still to be seen. The parish comprises by measurement 1884 acres of land; and contains good building-stone of the granite species, and limestone, both of which are quarried. The living is a rectory, valued in the king\\'s books at £9. 9. 4½., and in the gift of the Rev. Thomas Fox: the tithes have been commuted for £370, and the glebe consists of 38 acres. The church has a tower on the south side of the nave. There is a place of worship for Independents.</para>', 'filepath': '/resources/bho/England/50741.xml'}\n",
      "=========\n",
      "3\n",
      "{'report_title': 'Abbas-Combe - Aberystwith', 'place_name': 'Abberbury, county Salop.—See Alberbury.', 'description': '<para id=\"p2\">ABBERBURY, county Salop.—See Alberbury.</para>', 'filepath': '/resources/bho/England/50741.xml'}\n",
      "=========\n",
      "4\n",
      "{'report_title': 'Abbas-Combe - Aberystwith', 'place_name': 'Abberley (St. Michael)', 'description': '<para id=\"p3\">ABBERLEY (<emph type=\"i\">St. Michael</emph>), a parish, in the union of Martley, Lower division of the hundred of Doddingtree, Hundred-House and W. divisions of the county of Worcester, 12 miles (N. W. by N.) from Worcester; containing 559 inhabitants. This place, formerly <emph type=\"i\">Abbotsley</emph>, comprises 2564 acres of land, of which the arable and pasture are in equal portions, with about 70 acres of wood; the surface is well watered, and the soil rather above the average in fertility. The village is situated to the right of the road leading from Worcester to Ludlow, in a valley surrounded by hills whose summits afford delightful prospects: from one eminence eleven counties may be seen. Coal of good quality is wrought, and there are large quarries of excellent stone for building, and of stone for repairing roads. Abberley Hall, a beautiful Italian edifice, was purchased in 1844, with its surrounding demesne, from the Misses Bromley by the late J. L. Moilliet, Esq., by whom considerable improvements and alterations were made, in the purest taste; the whole of the interior was destroyed by fire on the 25th December 1845, but the exterior remains quite perfect, and the mansion is now undergoing complete repair.</para> <para id=\"p4\">The living is a rectory, valued in the king\\'s books at £11. 10. 2½., and in the gift of Mrs. Moilliet; incumbent, the Rev. Francis Severne, whose tithes have been commuted for £333. 8., with two acres of glebe and a house. Certain impropriate tithes have been commuted for £100. The church is a neat ancient edifice, picturesquely situated on the east side of the village, and has a wood-shingle spire 99 feet high, with four bells; the architecture is of various styles, one of the windows presenting an excellent specimen of the Saxon arch. A school was founded under gifts made by Elizabeth and Victoria Walsh, in 1717; it has an income of £15 per annum, in addition to a house and garden: the school-house was rebuilt by Robert Bromley, Esq., in 1791. On Abberley hill, in the midst of a thickly-planted wood, stands an oak, said to have been a sapling from the oak-tree under which St. Augustine in the 6th century invited the Welsh bishops to a conference, as recorded by Milner in his Church History: the parent tree was afterwards consumed by fire. William Walsh, the poet, and a correspondent of Pope\\'s and Addison\\'s, was born in the parish in 1663: at the close of Pope\\'s <emph type=\"i\">Essay on Criticism</emph>, are some touching lines to his memory.</para>', 'filepath': '/resources/bho/England/50741.xml'}\n",
      "=========\n",
      "5\n",
      "{'report_title': 'Abbas-Combe - Aberystwith', 'place_name': 'Abbertoft', 'description': '<para id=\"p5\">ABBERTOFT, a hamlet, in the parish of Willoughby, union of Spilsby, Wold division of the hundred of Calceworth, parts of Lindsey, county of Lincoln, 7 miles (S. E.) from Alford; containing 23 inhabitants. This place, called also Habertoft, lies in the south-eastern portion of the parish, and is one of several hamlets within its limits. The Orby drain passes in an eastern direction here.</para>', 'filepath': '/resources/bho/England/50741.xml'}\n",
      "=========\n"
     ]
    }
   ],
   "source": [
    "with open('bho_parsed.json') as f:\n",
    "    my_dict = json.load(f)\n",
    "    for k in list(my_dict.keys())[:5]:\n",
    "        print(k)\n",
    "        print(my_dict[k])\n",
    "        print(\"=========\")"
   ]
  },
  {
   "cell_type": "code",
   "execution_count": null,
   "metadata": {},
   "outputs": [],
   "source": []
  }
 ],
 "metadata": {
  "kernelspec": {
   "display_name": "Python (py37deezy)",
   "language": "python",
   "name": "py37deezy"
  },
  "language_info": {
   "codemirror_mode": {
    "name": "ipython",
    "version": 3
   },
   "file_extension": ".py",
   "mimetype": "text/x-python",
   "name": "python",
   "nbconvert_exporter": "python",
   "pygments_lexer": "ipython3",
   "version": "3.7.9"
  }
 },
 "nbformat": 4,
 "nbformat_minor": 4
}
