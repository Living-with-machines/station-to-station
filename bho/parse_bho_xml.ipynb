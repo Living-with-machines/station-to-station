{
 "cells": [
  {
   "cell_type": "code",
   "execution_count": 1,
   "metadata": {},
   "outputs": [],
   "source": [
    "#!/usr/bin/env python\n",
    "# -*- coding: utf-8 -*-\n",
    "\n",
    "from bs4 import BeautifulSoup as bs\n",
    "import lxml\n",
    "import glob\n",
    "import re\n",
    "import json\n",
    "import utils"
   ]
  },
  {
   "cell_type": "code",
   "execution_count": 2,
   "metadata": {
    "scrolled": true
   },
   "outputs": [],
   "source": [
    "regex_section = r\"s[0-9]+\\\">.*\"\n",
    "\n",
    "entry_id = 0\n",
    "bho_dict = dict()\n",
    "for path in glob.glob(\"/resources/bho/*/*\"):\n",
    "    # Read the XML file\n",
    "    with open(path, \"r\", encoding=\"ISO-8859-1\") as file:\n",
    "        # Read each line in the file, readlines() returns a list of lines\n",
    "        content = file.readlines()\n",
    "        content = \"\".join(content)\n",
    "        bs_content = bs(content, \"lxml\")\n",
    "        report_title = bs_content.html.body.find(\"title\").getText()\n",
    "        if report_title not in [\"Preface\", \"Index\", \"Appendix\", \"Elizabeth\", \"Appendix 2\"]:\n",
    "            sectext = str(bs_content.html.body)\n",
    "            sections = sectext.split(\"<section id=\\\"\")\n",
    "            for s in sections:\n",
    "                s = s.strip()\n",
    "                if re.match(regex_section, s):\n",
    "                    title, text = utils.clean_section(s)\n",
    "                    if text:\n",
    "                        entry_id += 1\n",
    "                        bho_dict[entry_id] = {\"report_title\": report_title,\n",
    "                                              \"place_name\": title,\n",
    "                                              \"description\": text,\n",
    "                                              \"filepath\": path}"
   ]
  },
  {
   "cell_type": "code",
   "execution_count": 3,
   "metadata": {},
   "outputs": [],
   "source": [
    "with open('bho_parsed.json', 'w') as f:\n",
    "    json.dump(bho_dict, f)"
   ]
  },
  {
   "cell_type": "code",
   "execution_count": null,
   "metadata": {},
   "outputs": [],
   "source": []
  }
 ],
 "metadata": {
  "kernelspec": {
   "display_name": "Python (py37deezy)",
   "language": "python",
   "name": "py37deezy"
  },
  "language_info": {
   "codemirror_mode": {
    "name": "ipython",
    "version": 3
   },
   "file_extension": ".py",
   "mimetype": "text/x-python",
   "name": "python",
   "nbconvert_exporter": "python",
   "pygments_lexer": "ipython3",
   "version": "3.7.9"
  }
 },
 "nbformat": 4,
 "nbformat_minor": 4
}
