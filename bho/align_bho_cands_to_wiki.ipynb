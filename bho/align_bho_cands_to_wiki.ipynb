{
 "metadata": {
  "language_info": {
   "codemirror_mode": {
    "name": "ipython",
    "version": 3
   },
   "file_extension": ".py",
   "mimetype": "text/x-python",
   "name": "python",
   "nbconvert_exporter": "python",
   "pygments_lexer": "ipython3",
   "version": "3.7.9-final"
  },
  "orig_nbformat": 2,
  "kernelspec": {
   "name": "python3",
   "display_name": "Python 3"
  }
 },
 "nbformat": 4,
 "nbformat_minor": 2,
 "cells": [
  {
   "cell_type": "code",
   "execution_count": null,
   "metadata": {},
   "outputs": [],
   "source": [
    "import pandas as pd\n",
    "import numpy as np \n",
    "from tqdm.auto import tqdm\n",
    "tqdm.pandas()\n",
    "bho_cands = pd.read_pickle(\"/home/mcollardanuy/PlaceLinking/toponym_matching/ranker_results/bho_queries_britwikidata_candidates_wikigaz_en_002.pkl\")\n",
    "#bho_cands = bho_cands.head(1000)\n",
    "\n",
    "britwikidata_gazetteer = pd.read_pickle(\"/home/mcollardanuy/PlaceLinking/toponym_matching/gazetteers/britwikidata_gazetteer.pkl\")\n",
    "britwikidata_gazetteer.head()"
   ]
  },
  {
   "cell_type": "code",
   "execution_count": null,
   "metadata": {},
   "outputs": [],
   "source": [
    "\n",
    "def match_cands_wikidata(row,gazetteer,ranking):\n",
    "    wikidata_cands = {}\n",
    "    cands = row[ranking]\n",
    "    for cand,score in cands.items():\n",
    "        wikidataIds = gazetteer[gazetteer[\"altname\"] == cand][\"wkid\"]\n",
    "        for _id in wikidataIds:\n",
    "            if _id not in wikidata_cands:\n",
    "                wikidata_cands[_id] = score\n",
    "    return wikidata_cands\n",
    "\n",
    "tqdm.pandas()    \n",
    "bho_cands['wikidata_cands'] = bho_cands.progress_apply(lambda row : match_cands_wikidata(row,britwikidata_gazetteer,\"faiss_distance\"), axis=1) \n",
    "\n"
   ]
  },
  {
   "cell_type": "code",
   "execution_count": null,
   "metadata": {},
   "outputs": [],
   "source": [
    "bho_cands.head()"
   ]
  },
  {
   "cell_type": "code",
   "execution_count": null,
   "metadata": {
    "tags": []
   },
   "outputs": [],
   "source": [
    "from wikimapper import WikiMapper\n",
    "from pathlib import Path\n",
    "import urllib.parse\n",
    "\n",
    "mapper = WikiMapper(\"/resources/wikidata2wikipedia/index_enwiki-20190420.db\")\n",
    "\n",
    "def map_wikidata2wikidump(wikidataId):\n",
    "    path = \"/resources/wikipedia/extractedResources/Aspects/\"\n",
    "    wikititles = mapper.id_to_titles(wikidataId)\n",
    "    wikititles = [urllib.parse.quote(title.replace(\"_\",\" \")) for title in wikititles]\n",
    "    wikidumps = [path + title+\".json\" for title in wikititles if Path(path + title+\".json\").is_file()]\n",
    "    return wikidumps\n",
    "\n",
    "\n",
    "single_match = 0\n",
    "single_possible_match = 0\n",
    "multiple_best_match = 0\n",
    "multiple_possible_match = 0\n",
    "no_wiki_match = 0\n",
    "\n",
    "cutoff = 5\n",
    "\n",
    "for index, row in bho_cands.iterrows():\n",
    "    wikidata_cands = row[\"wikidata_cands\"]\n",
    "    best_match = [x for x,y in wikidata_cands.items() if y==0.0]\n",
    "    if len(best_match)>0:\n",
    "        if len(best_match)==1:\n",
    "            single_match+=1\n",
    "        else:\n",
    "            wikipages = [[wikidataId,page] for wikidataId in best_match for page in map_wikidata2wikidump(wikidataId)]\n",
    "            if len(wikipages)==1:\n",
    "                single_match+=1\n",
    "            elif len(wikipages)>1:\n",
    "                multiple_best_match+=1\n",
    "            elif len(wikipages)==0:\n",
    "                no_wiki_match+=1\n",
    "                print (row[\"query\"])\n",
    "                print (best_match)\n",
    "                print (\" \")\n",
    "    else:\n",
    "        selected = [x for x in wikidata_cands.keys()][:cutoff]\n",
    "        wikipages = [[wikidataId,page] for wikidataId in selected for page in map_wikidata2wikidump(wikidataId)]\n",
    "        if len(wikipages)==1:\n",
    "            single_possible_match+=1\n",
    "        elif len(wikipages)>1:\n",
    "            multiple_possible_match+=1\n",
    "        elif len(wikipages)==0:\n",
    "            no_wiki_match+=1\n",
    "\n",
    "\n",
    "\n",
    "print (\"perfect unique match:\",single_match/len(bho_cands))\n",
    "print (\"multiple best candidates:\",multiple_best_match/len(bho_cands))\n",
    "print (\"single possible candidate:\",single_possible_match/len(bho_cands))\n",
    "print (\"multiple possible candidates:\",multiple_possible_match/len(bho_cands))\n",
    "#print (\"no single best candidate:\",(len(bho_cands)-single_match-multiple_match-no_wiki_match)/len(bho_cands))\n",
    "print (\"no wiki page available\",no_wiki_match/len(bho_cands))\n",
    "\n"
   ]
  }
 ]
}