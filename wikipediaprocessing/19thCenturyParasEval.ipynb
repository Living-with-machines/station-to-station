{
 "metadata": {
  "language_info": {
   "codemirror_mode": {
    "name": "ipython",
    "version": 3
   },
   "file_extension": ".py",
   "mimetype": "text/x-python",
   "name": "python",
   "nbconvert_exporter": "python",
   "pygments_lexer": "ipython3",
   "version": "3.7.9-final"
  },
  "orig_nbformat": 2,
  "kernelspec": {
   "name": "python3",
   "display_name": "Python 3",
   "language": "python"
  }
 },
 "nbformat": 4,
 "nbformat_minor": 2,
 "cells": [
  {
   "cell_type": "code",
   "execution_count": 5,
   "metadata": {},
   "outputs": [],
   "source": [
    "import pandas as pd\n",
    "\n",
    "entity = \"New_York_City\"\n",
    "number_examples = \"20\"\n",
    "\n",
    "%run \"Find19thCParas\" -e $entity -t $number_examples"
   ]
  },
  {
   "cell_type": "code",
   "execution_count": 6,
   "metadata": {},
   "outputs": [
    {
     "output_type": "execute_result",
     "data": {
      "text/plain": [
       "                                                para label\n",
       "0  Manhattan Island is linked to New York City's ...   NEG\n",
       "1  In the 1970s, job losses due to industrial res...   NEG\n",
       "2  In 1904, the steamship \"General Slocum\" caught...   POS\n",
       "3  The draft riots deteriorated into attacks on N...   POS\n",
       "4  New York City is home to the headquarters of t...   POS"
      ],
      "text/html": "<div>\n<style scoped>\n    .dataframe tbody tr th:only-of-type {\n        vertical-align: middle;\n    }\n\n    .dataframe tbody tr th {\n        vertical-align: top;\n    }\n\n    .dataframe thead th {\n        text-align: right;\n    }\n</style>\n<table border=\"1\" class=\"dataframe\">\n  <thead>\n    <tr style=\"text-align: right;\">\n      <th></th>\n      <th>para</th>\n      <th>label</th>\n    </tr>\n  </thead>\n  <tbody>\n    <tr>\n      <th>0</th>\n      <td>Manhattan Island is linked to New York City's ...</td>\n      <td>NEG</td>\n    </tr>\n    <tr>\n      <th>1</th>\n      <td>In the 1970s, job losses due to industrial res...</td>\n      <td>NEG</td>\n    </tr>\n    <tr>\n      <th>2</th>\n      <td>In 1904, the steamship \"General Slocum\" caught...</td>\n      <td>POS</td>\n    </tr>\n    <tr>\n      <th>3</th>\n      <td>The draft riots deteriorated into attacks on N...</td>\n      <td>POS</td>\n    </tr>\n    <tr>\n      <th>4</th>\n      <td>New York City is home to the headquarters of t...</td>\n      <td>POS</td>\n    </tr>\n  </tbody>\n</table>\n</div>"
     },
     "metadata": {},
     "execution_count": 6
    }
   ],
   "source": [
    "examples = pd.read_csv(\"testing/\"+entity+\".tsv\", sep='\\t')\n",
    "\n",
    "examples.head()"
   ]
  }
 ]
}