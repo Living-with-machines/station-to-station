{
 "cells": [
  {
   "cell_type": "markdown",
   "metadata": {},
   "source": [
    "# Prepare British Isles wikigazetteer\n",
    "\n",
    "This notebook downloads an English wikigazetteer and filters alternate names of locations in the British Isles"
   ]
  },
  {
   "cell_type": "code",
   "execution_count": null,
   "metadata": {},
   "outputs": [],
   "source": [
    "import wget\n",
    "import pathlib\n",
    "import pandas as pd"
   ]
  },
  {
   "cell_type": "code",
   "execution_count": null,
   "metadata": {},
   "outputs": [],
   "source": [
    "save_to = \"/resources/wikigazetteer\"\n",
    "if not pathlib.Path(save_to).exists():\n",
    "    pathlib.Path(save_to).mkdir(parents=True, exist_ok=True)\n",
    "    url = \"https://zenodo.org/record/4034819/files/supplementary_toponym_matching.zip?download=1\"\n",
    "    wgaz = wget.download(url)\n",
    "    !mv {wgaz} {save_to}\n",
    "    !unzip -q {save_to}/{wgaz} -d {save_to}"
   ]
  },
  {
   "cell_type": "code",
   "execution_count": null,
   "metadata": {},
   "outputs": [],
   "source": [
    "wgdf = pd.read_pickle(save_to + \"/wikigaz_en_basic.pkl\")"
   ]
  },
  {
   "cell_type": "code",
   "execution_count": null,
   "metadata": {},
   "outputs": [],
   "source": [
    "wgdf = wgdf[wgdf[\"source\"].isin(['wikimain', 'geonamesmain', 'geonamesascii', 'geonamesalt', 'wikiredirect'])]\n",
    "wgdf = wgdf[wgdf[\"altname\"].str.len() < 40]\n",
    "wgdf['lat'] = wgdf['lat'].astype(float)\n",
    "wgdf['lon'] = wgdf['lon'].astype(float)\n",
    "wgdf = wgdf[wgdf['lat'].notna()]\n",
    "wgdf = wgdf[wgdf['lon'].notna()]\n",
    "britdf = wgdf[(wgdf[\"lat\"] > 49.9) & (wgdf[\"lat\"] < 61.1) & (wgdf[\"lon\"] > -11.4) & (wgdf[\"lon\"] < 2.3)]\n",
    "britdf = britdf.rename(columns={\"altname\": \"name\", \"pid\": \"wikititle\", \"lat\": \"latitude\", \"lon\": \"longitude\"})"
   ]
  },
  {
   "cell_type": "code",
   "execution_count": null,
   "metadata": {},
   "outputs": [],
   "source": [
    "britdf.to_pickle(save_to + \"/brit_wikigazetteer.pkl\")"
   ]
  },
  {
   "cell_type": "code",
   "execution_count": null,
   "metadata": {},
   "outputs": [],
   "source": []
  }
 ],
 "metadata": {
  "kernelspec": {
   "display_name": "Python (py37deezy)",
   "language": "python",
   "name": "py37deezy"
  },
  "language_info": {
   "codemirror_mode": {
    "name": "ipython",
    "version": 3
   },
   "file_extension": ".py",
   "mimetype": "text/x-python",
   "name": "python",
   "nbconvert_exporter": "python",
   "pygments_lexer": "ipython3",
   "version": "3.7.9"
  }
 },
 "nbformat": 4,
 "nbformat_minor": 4
}
