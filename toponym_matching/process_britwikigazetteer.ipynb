{
 "cells": [
  {
   "cell_type": "code",
   "execution_count": 1,
   "metadata": {},
   "outputs": [],
   "source": [
    "import pandas as pd"
   ]
  },
  {
   "cell_type": "markdown",
   "metadata": {},
   "source": [
    "# Create minimal gazetteer\n",
    "\n",
    "This uses `wikigaz_en_basic.pkl`, which is obtained from https://zenodo.org/record/4034819."
   ]
  },
  {
   "cell_type": "code",
   "execution_count": 3,
   "metadata": {},
   "outputs": [
    {
     "data": {
      "text/html": [
       "<div>\n",
       "<style scoped>\n",
       "    .dataframe tbody tr th:only-of-type {\n",
       "        vertical-align: middle;\n",
       "    }\n",
       "\n",
       "    .dataframe tbody tr th {\n",
       "        vertical-align: top;\n",
       "    }\n",
       "\n",
       "    .dataframe thead th {\n",
       "        text-align: right;\n",
       "    }\n",
       "</style>\n",
       "<table border=\"1\" class=\"dataframe\">\n",
       "  <thead>\n",
       "    <tr style=\"text-align: right;\">\n",
       "      <th></th>\n",
       "      <th>altname</th>\n",
       "      <th>pid</th>\n",
       "      <th>lat</th>\n",
       "      <th>lon</th>\n",
       "      <th>source</th>\n",
       "    </tr>\n",
       "  </thead>\n",
       "  <tbody>\n",
       "    <tr>\n",
       "      <th>0</th>\n",
       "      <td>İstasyon Cyprus</td>\n",
       "      <td>İstasyon_Cyprus</td>\n",
       "      <td>35.1103</td>\n",
       "      <td>32.8797</td>\n",
       "      <td>wikimain</td>\n",
       "    </tr>\n",
       "    <tr>\n",
       "      <th>1</th>\n",
       "      <td>Municipio de Ciudad de Tayabas</td>\n",
       "      <td>List_of_Cultural_Properties_of_the_Philippines...</td>\n",
       "      <td>14.0252</td>\n",
       "      <td>121.5930</td>\n",
       "      <td>wikigt</td>\n",
       "    </tr>\n",
       "    <tr>\n",
       "      <th>2</th>\n",
       "      <td>Rural Bank of Tayabas</td>\n",
       "      <td>List_of_Cultural_Properties_of_the_Philippines...</td>\n",
       "      <td>14.0242</td>\n",
       "      <td>121.5940</td>\n",
       "      <td>wikigt</td>\n",
       "    </tr>\n",
       "    <tr>\n",
       "      <th>3</th>\n",
       "      <td>Royola Ancestral House</td>\n",
       "      <td>List_of_Cultural_Properties_of_the_Philippines...</td>\n",
       "      <td>14.0239</td>\n",
       "      <td>121.5940</td>\n",
       "      <td>wikigt</td>\n",
       "    </tr>\n",
       "    <tr>\n",
       "      <th>4</th>\n",
       "      <td>Abrigo Ancestral House</td>\n",
       "      <td>List_of_Cultural_Properties_of_the_Philippines...</td>\n",
       "      <td>14.0284</td>\n",
       "      <td>121.5940</td>\n",
       "      <td>wikigt</td>\n",
       "    </tr>\n",
       "  </tbody>\n",
       "</table>\n",
       "</div>"
      ],
      "text/plain": [
       "                          altname  \\\n",
       "0                 İstasyon Cyprus   \n",
       "1  Municipio de Ciudad de Tayabas   \n",
       "2           Rural Bank of Tayabas   \n",
       "3          Royola Ancestral House   \n",
       "4          Abrigo Ancestral House   \n",
       "\n",
       "                                                 pid      lat       lon  \\\n",
       "0                                    İstasyon_Cyprus  35.1103   32.8797   \n",
       "1  List_of_Cultural_Properties_of_the_Philippines...  14.0252  121.5930   \n",
       "2  List_of_Cultural_Properties_of_the_Philippines...  14.0242  121.5940   \n",
       "3  List_of_Cultural_Properties_of_the_Philippines...  14.0239  121.5940   \n",
       "4  List_of_Cultural_Properties_of_the_Philippines...  14.0284  121.5940   \n",
       "\n",
       "     source  \n",
       "0  wikimain  \n",
       "1    wikigt  \n",
       "2    wikigt  \n",
       "3    wikigt  \n",
       "4    wikigt  "
      ]
     },
     "execution_count": 3,
     "metadata": {},
     "output_type": "execute_result"
    }
   ],
   "source": [
    "pd.read_pickle(\"/resources/wikigazetteer/wikigaz_en_basic.pkl\").head()"
   ]
  },
  {
   "cell_type": "code",
   "execution_count": 4,
   "metadata": {},
   "outputs": [],
   "source": [
    "bbox = (-11.31,48.78,2.41,61.28)\n",
    "\n",
    "wgdf = pd.read_pickle(\"/resources/wikigazetteer/wikigaz_en_basic.pkl\")\n",
    "wgdf = wgdf[wgdf[\"source\"].isin(['wikimain', 'geonamesmain', 'geonamesascii', 'geonamesalt', 'wikiredirect'])]\n",
    "wgdf = wgdf[wgdf[\"altname\"].str.len() < 30]\n",
    "wgdf['lat'] = wgdf['lat'].astype(float)\n",
    "wgdf['lon'] = wgdf['lon'].astype(float)\n",
    "wgdf = wgdf[wgdf['lat'].notna()]\n",
    "wgdf = wgdf[wgdf['lon'].notna()]                   \n",
    "wgdf = wgdf.loc[(wgdf['lat'] >= bbox[1]) & (wgdf['lat'] <= bbox[3]) & (wgdf['lon'] >= bbox[0]) & (wgdf['lon'] <= bbox[2])]\n",
    "wgdf = wgdf.rename(columns={\"altname\": \"name\", \"pid\": \"wikititle\", \"lat\": \"latitude\", \"lon\": \"longitude\"})\n",
    "wgdf.to_pickle(\"/resources/wikigazetteer/wikiGaz_en_filtered.pkl\")"
   ]
  },
  {
   "cell_type": "code",
   "execution_count": 6,
   "metadata": {},
   "outputs": [
    {
     "data": {
      "text/plain": [
       "(190408, 5)"
      ]
     },
     "execution_count": 6,
     "metadata": {},
     "output_type": "execute_result"
    }
   ],
   "source": [
    "wgdf.shape"
   ]
  },
  {
   "cell_type": "code",
   "execution_count": 7,
   "metadata": {},
   "outputs": [
    {
     "data": {
      "text/html": [
       "<div>\n",
       "<style scoped>\n",
       "    .dataframe tbody tr th:only-of-type {\n",
       "        vertical-align: middle;\n",
       "    }\n",
       "\n",
       "    .dataframe tbody tr th {\n",
       "        vertical-align: top;\n",
       "    }\n",
       "\n",
       "    .dataframe thead th {\n",
       "        text-align: right;\n",
       "    }\n",
       "</style>\n",
       "<table border=\"1\" class=\"dataframe\">\n",
       "  <thead>\n",
       "    <tr style=\"text-align: right;\">\n",
       "      <th></th>\n",
       "      <th>name</th>\n",
       "      <th>wikititle</th>\n",
       "      <th>latitude</th>\n",
       "      <th>longitude</th>\n",
       "      <th>source</th>\n",
       "    </tr>\n",
       "  </thead>\n",
       "  <tbody>\n",
       "    <tr>\n",
       "      <th>98</th>\n",
       "      <td>Corrour Old Lodge</td>\n",
       "      <td>Corrour_Old_Lodge</td>\n",
       "      <td>56.7475</td>\n",
       "      <td>-4.60500</td>\n",
       "      <td>wikimain</td>\n",
       "    </tr>\n",
       "    <tr>\n",
       "      <th>476</th>\n",
       "      <td>Derbyshire Dales NNR</td>\n",
       "      <td>Derbyshire_Dales_National_Nature_Reserve</td>\n",
       "      <td>53.1886</td>\n",
       "      <td>-1.72570</td>\n",
       "      <td>wikiredirect</td>\n",
       "    </tr>\n",
       "    <tr>\n",
       "      <th>488</th>\n",
       "      <td>Deil s Caldron</td>\n",
       "      <td>Deil's_Caldron</td>\n",
       "      <td>56.3886</td>\n",
       "      <td>-3.99714</td>\n",
       "      <td>wikimain</td>\n",
       "    </tr>\n",
       "    <tr>\n",
       "      <th>1265</th>\n",
       "      <td>River Laxford</td>\n",
       "      <td>River_Laxford</td>\n",
       "      <td>58.3686</td>\n",
       "      <td>-4.98139</td>\n",
       "      <td>wikimain</td>\n",
       "    </tr>\n",
       "    <tr>\n",
       "      <th>1266</th>\n",
       "      <td>Laxford Bay</td>\n",
       "      <td>Laxford_Bay</td>\n",
       "      <td>58.3828</td>\n",
       "      <td>-5.03889</td>\n",
       "      <td>wikimain</td>\n",
       "    </tr>\n",
       "  </tbody>\n",
       "</table>\n",
       "</div>"
      ],
      "text/plain": [
       "                      name                                 wikititle  \\\n",
       "98       Corrour Old Lodge                         Corrour_Old_Lodge   \n",
       "476   Derbyshire Dales NNR  Derbyshire_Dales_National_Nature_Reserve   \n",
       "488         Deil s Caldron                            Deil's_Caldron   \n",
       "1265         River Laxford                             River_Laxford   \n",
       "1266           Laxford Bay                               Laxford_Bay   \n",
       "\n",
       "      latitude  longitude        source  \n",
       "98     56.7475   -4.60500      wikimain  \n",
       "476    53.1886   -1.72570  wikiredirect  \n",
       "488    56.3886   -3.99714      wikimain  \n",
       "1265   58.3686   -4.98139      wikimain  \n",
       "1266   58.3828   -5.03889      wikimain  "
      ]
     },
     "execution_count": 7,
     "metadata": {},
     "output_type": "execute_result"
    }
   ],
   "source": [
    "wgdf.head()"
   ]
  },
  {
   "cell_type": "code",
   "execution_count": null,
   "metadata": {},
   "outputs": [],
   "source": []
  }
 ],
 "metadata": {
  "kernelspec": {
   "display_name": "Python (py37deezy)",
   "language": "python",
   "name": "py37deezy"
  },
  "language_info": {
   "codemirror_mode": {
    "name": "ipython",
    "version": 3
   },
   "file_extension": ".py",
   "mimetype": "text/x-python",
   "name": "python",
   "nbconvert_exporter": "python",
   "pygments_lexer": "ipython3",
   "version": "3.7.9"
  }
 },
 "nbformat": 4,
 "nbformat_minor": 4
}
