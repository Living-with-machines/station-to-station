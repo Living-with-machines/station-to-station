{
 "cells": [
  {
   "cell_type": "markdown",
   "metadata": {},
   "source": [
    "# Using KD-tree to query wikidata"
   ]
  },
  {
   "cell_type": "code",
   "execution_count": 1,
   "metadata": {},
   "outputs": [],
   "source": [
    "import glob\n",
    "import pandas as pd\n",
    "import numpy as np\n",
    "import os\n",
    "import pandas as pd\n",
    "import pyproj\n",
    "from scipy import spatial"
   ]
  },
  {
   "cell_type": "markdown",
   "metadata": {},
   "source": [
    "## Read Wikidata and create KD-tree"
   ]
  },
  {
   "cell_type": "code",
   "execution_count": 2,
   "metadata": {},
   "outputs": [
    {
     "data": {
      "text/html": [
       "<div>\n",
       "<style scoped>\n",
       "    .dataframe tbody tr th:only-of-type {\n",
       "        vertical-align: middle;\n",
       "    }\n",
       "\n",
       "    .dataframe tbody tr th {\n",
       "        vertical-align: top;\n",
       "    }\n",
       "\n",
       "    .dataframe thead th {\n",
       "        text-align: right;\n",
       "    }\n",
       "</style>\n",
       "<table border=\"1\" class=\"dataframe\">\n",
       "  <thead>\n",
       "    <tr style=\"text-align: right;\">\n",
       "      <th></th>\n",
       "      <th>Unnamed: 0</th>\n",
       "      <th>wikidata_id</th>\n",
       "      <th>english_label</th>\n",
       "      <th>instance_of</th>\n",
       "      <th>description_set</th>\n",
       "      <th>alias_dict</th>\n",
       "      <th>nativelabel</th>\n",
       "      <th>population_dict</th>\n",
       "      <th>area</th>\n",
       "      <th>hcounties</th>\n",
       "      <th>...</th>\n",
       "      <th>vchIDs</th>\n",
       "      <th>vob_placeIDs</th>\n",
       "      <th>vob_unitIDs</th>\n",
       "      <th>epns</th>\n",
       "      <th>os_grid_ref</th>\n",
       "      <th>connectswith</th>\n",
       "      <th>street_address</th>\n",
       "      <th>adjacent_stations</th>\n",
       "      <th>ukrailcode</th>\n",
       "      <th>connectline</th>\n",
       "    </tr>\n",
       "  </thead>\n",
       "  <tbody>\n",
       "    <tr>\n",
       "      <th>0</th>\n",
       "      <td>0</td>\n",
       "      <td>Q56240745</td>\n",
       "      <td>NaN</td>\n",
       "      <td>['Q8343784']</td>\n",
       "      <td>set()</td>\n",
       "      <td>{}</td>\n",
       "      <td>NaN</td>\n",
       "      <td>{}</td>\n",
       "      <td>NaN</td>\n",
       "      <td>[]</td>\n",
       "      <td>...</td>\n",
       "      <td>NaN</td>\n",
       "      <td>NaN</td>\n",
       "      <td>NaN</td>\n",
       "      <td>NaN</td>\n",
       "      <td>NaN</td>\n",
       "      <td>NaN</td>\n",
       "      <td>NaN</td>\n",
       "      <td>NaN</td>\n",
       "      <td>NaN</td>\n",
       "      <td>NaN</td>\n",
       "    </tr>\n",
       "    <tr>\n",
       "      <th>1</th>\n",
       "      <td>1</td>\n",
       "      <td>Q56240764</td>\n",
       "      <td>NaN</td>\n",
       "      <td>['Q8343784']</td>\n",
       "      <td>set()</td>\n",
       "      <td>{}</td>\n",
       "      <td>NaN</td>\n",
       "      <td>{}</td>\n",
       "      <td>NaN</td>\n",
       "      <td>[]</td>\n",
       "      <td>...</td>\n",
       "      <td>NaN</td>\n",
       "      <td>NaN</td>\n",
       "      <td>NaN</td>\n",
       "      <td>NaN</td>\n",
       "      <td>NaN</td>\n",
       "      <td>NaN</td>\n",
       "      <td>NaN</td>\n",
       "      <td>NaN</td>\n",
       "      <td>NaN</td>\n",
       "      <td>NaN</td>\n",
       "    </tr>\n",
       "    <tr>\n",
       "      <th>2</th>\n",
       "      <td>2</td>\n",
       "      <td>Q56240768</td>\n",
       "      <td>NaN</td>\n",
       "      <td>['Q8343784']</td>\n",
       "      <td>set()</td>\n",
       "      <td>{}</td>\n",
       "      <td>NaN</td>\n",
       "      <td>{}</td>\n",
       "      <td>NaN</td>\n",
       "      <td>[]</td>\n",
       "      <td>...</td>\n",
       "      <td>NaN</td>\n",
       "      <td>NaN</td>\n",
       "      <td>NaN</td>\n",
       "      <td>NaN</td>\n",
       "      <td>NaN</td>\n",
       "      <td>NaN</td>\n",
       "      <td>NaN</td>\n",
       "      <td>NaN</td>\n",
       "      <td>NaN</td>\n",
       "      <td>NaN</td>\n",
       "    </tr>\n",
       "    <tr>\n",
       "      <th>3</th>\n",
       "      <td>3</td>\n",
       "      <td>Q56241069</td>\n",
       "      <td>NaN</td>\n",
       "      <td>['Q23397']</td>\n",
       "      <td>{'lake in Canada'}</td>\n",
       "      <td>{}</td>\n",
       "      <td>NaN</td>\n",
       "      <td>{}</td>\n",
       "      <td>NaN</td>\n",
       "      <td>[]</td>\n",
       "      <td>...</td>\n",
       "      <td>NaN</td>\n",
       "      <td>NaN</td>\n",
       "      <td>NaN</td>\n",
       "      <td>NaN</td>\n",
       "      <td>NaN</td>\n",
       "      <td>NaN</td>\n",
       "      <td>NaN</td>\n",
       "      <td>NaN</td>\n",
       "      <td>NaN</td>\n",
       "      <td>NaN</td>\n",
       "    </tr>\n",
       "    <tr>\n",
       "      <th>4</th>\n",
       "      <td>4</td>\n",
       "      <td>Q56241445</td>\n",
       "      <td>fountain playground Rossfeld street</td>\n",
       "      <td>['Q43483']</td>\n",
       "      <td>set()</td>\n",
       "      <td>{'en': ['fountain playground Rossfeldstrasse',...</td>\n",
       "      <td>NaN</td>\n",
       "      <td>{}</td>\n",
       "      <td>NaN</td>\n",
       "      <td>[]</td>\n",
       "      <td>...</td>\n",
       "      <td>NaN</td>\n",
       "      <td>NaN</td>\n",
       "      <td>NaN</td>\n",
       "      <td>NaN</td>\n",
       "      <td>NaN</td>\n",
       "      <td>NaN</td>\n",
       "      <td>Rossfeldstrasse 21, 3004 Bern</td>\n",
       "      <td>NaN</td>\n",
       "      <td>NaN</td>\n",
       "      <td>NaN</td>\n",
       "    </tr>\n",
       "  </tbody>\n",
       "</table>\n",
       "<p>5 rows × 37 columns</p>\n",
       "</div>"
      ],
      "text/plain": [
       "   Unnamed: 0 wikidata_id                        english_label   instance_of  \\\n",
       "0           0   Q56240745                                  NaN  ['Q8343784']   \n",
       "1           1   Q56240764                                  NaN  ['Q8343784']   \n",
       "2           2   Q56240768                                  NaN  ['Q8343784']   \n",
       "3           3   Q56241069                                  NaN    ['Q23397']   \n",
       "4           4   Q56241445  fountain playground Rossfeld street    ['Q43483']   \n",
       "\n",
       "      description_set                                         alias_dict  \\\n",
       "0               set()                                                 {}   \n",
       "1               set()                                                 {}   \n",
       "2               set()                                                 {}   \n",
       "3  {'lake in Canada'}                                                 {}   \n",
       "4               set()  {'en': ['fountain playground Rossfeldstrasse',...   \n",
       "\n",
       "  nativelabel population_dict area hcounties  ... vchIDs vob_placeIDs  \\\n",
       "0         NaN              {}  NaN        []  ...    NaN          NaN   \n",
       "1         NaN              {}  NaN        []  ...    NaN          NaN   \n",
       "2         NaN              {}  NaN        []  ...    NaN          NaN   \n",
       "3         NaN              {}  NaN        []  ...    NaN          NaN   \n",
       "4         NaN              {}  NaN        []  ...    NaN          NaN   \n",
       "\n",
       "  vob_unitIDs epns os_grid_ref connectswith                 street_address  \\\n",
       "0         NaN  NaN         NaN          NaN                            NaN   \n",
       "1         NaN  NaN         NaN          NaN                            NaN   \n",
       "2         NaN  NaN         NaN          NaN                            NaN   \n",
       "3         NaN  NaN         NaN          NaN                            NaN   \n",
       "4         NaN  NaN         NaN          NaN  Rossfeldstrasse 21, 3004 Bern   \n",
       "\n",
       "  adjacent_stations ukrailcode connectline  \n",
       "0               NaN        NaN         NaN  \n",
       "1               NaN        NaN         NaN  \n",
       "2               NaN        NaN         NaN  \n",
       "3               NaN        NaN         NaN  \n",
       "4               NaN        NaN         NaN  \n",
       "\n",
       "[5 rows x 37 columns]"
      ]
     },
     "execution_count": 2,
     "metadata": {},
     "output_type": "execute_result"
    }
   ],
   "source": [
    "# Read Wikidata, distributed over several CSV files\n",
    "df_wiki = pd.concat(map(pd.read_csv, \n",
    "                   glob.glob(os.path.join('', \"/home/mcollardanuy/PlaceLinking/wikidata/extracted/*csv\"))))\n",
    "df_wiki.head()"
   ]
  },
  {
   "cell_type": "code",
   "execution_count": 3,
   "metadata": {},
   "outputs": [
    {
     "name": "stdout",
     "output_type": "stream",
     "text": [
      "1235000\n"
     ]
    }
   ],
   "source": [
    "print(len(df_wiki))"
   ]
  },
  {
   "cell_type": "code",
   "execution_count": 4,
   "metadata": {},
   "outputs": [
    {
     "name": "stderr",
     "output_type": "stream",
     "text": [
      "/data/anaconda/envs/py37deezy/lib/python3.7/site-packages/ipykernel_launcher.py:9: DeprecationWarning: This function is deprecated. See: https://pyproj4.github.io/pyproj/stable/gotchas.html#upgrading-to-pyproj-2-from-pyproj-1\n",
      "  if __name__ == '__main__':\n"
     ]
    }
   ],
   "source": [
    "# transform lat/lon ---> x,y,z\n",
    "# x,y,z will be used to create the KD-tree\n",
    "ecef = pyproj.Proj(proj='geocent', ellps='WGS84', datum='WGS84')\n",
    "lla = pyproj.Proj(proj='latlong', ellps='WGS84', datum='WGS84')\n",
    "x_wiki, y_wiki, z_wiki = pyproj.transform(lla, ecef,\n",
    "                                          df_wiki[\"longitude\"].to_numpy(),\n",
    "                                          df_wiki[\"latitude\"].to_numpy(),\n",
    "                                          np.zeros(len(df_wiki[\"latitude\"])),\n",
    "                                          radians=False)"
   ]
  },
  {
   "cell_type": "code",
   "execution_count": 5,
   "metadata": {},
   "outputs": [
    {
     "data": {
      "text/html": [
       "<div>\n",
       "<style scoped>\n",
       "    .dataframe tbody tr th:only-of-type {\n",
       "        vertical-align: middle;\n",
       "    }\n",
       "\n",
       "    .dataframe tbody tr th {\n",
       "        vertical-align: top;\n",
       "    }\n",
       "\n",
       "    .dataframe thead th {\n",
       "        text-align: right;\n",
       "    }\n",
       "</style>\n",
       "<table border=\"1\" class=\"dataframe\">\n",
       "  <thead>\n",
       "    <tr style=\"text-align: right;\">\n",
       "      <th></th>\n",
       "      <th>Unnamed: 0</th>\n",
       "      <th>wikidata_id</th>\n",
       "      <th>english_label</th>\n",
       "      <th>instance_of</th>\n",
       "      <th>description_set</th>\n",
       "      <th>alias_dict</th>\n",
       "      <th>nativelabel</th>\n",
       "      <th>population_dict</th>\n",
       "      <th>area</th>\n",
       "      <th>hcounties</th>\n",
       "      <th>...</th>\n",
       "      <th>epns</th>\n",
       "      <th>os_grid_ref</th>\n",
       "      <th>connectswith</th>\n",
       "      <th>street_address</th>\n",
       "      <th>adjacent_stations</th>\n",
       "      <th>ukrailcode</th>\n",
       "      <th>connectline</th>\n",
       "      <th>x</th>\n",
       "      <th>y</th>\n",
       "      <th>z</th>\n",
       "    </tr>\n",
       "  </thead>\n",
       "  <tbody>\n",
       "    <tr>\n",
       "      <th>0</th>\n",
       "      <td>0</td>\n",
       "      <td>Q56240745</td>\n",
       "      <td>NaN</td>\n",
       "      <td>['Q8343784']</td>\n",
       "      <td>set()</td>\n",
       "      <td>{}</td>\n",
       "      <td>NaN</td>\n",
       "      <td>{}</td>\n",
       "      <td>NaN</td>\n",
       "      <td>[]</td>\n",
       "      <td>...</td>\n",
       "      <td>NaN</td>\n",
       "      <td>NaN</td>\n",
       "      <td>NaN</td>\n",
       "      <td>NaN</td>\n",
       "      <td>NaN</td>\n",
       "      <td>NaN</td>\n",
       "      <td>NaN</td>\n",
       "      <td>2.185098e+06</td>\n",
       "      <td>-5.112594e+06</td>\n",
       "      <td>-3.114799e+06</td>\n",
       "    </tr>\n",
       "    <tr>\n",
       "      <th>1</th>\n",
       "      <td>1</td>\n",
       "      <td>Q56240764</td>\n",
       "      <td>NaN</td>\n",
       "      <td>['Q8343784']</td>\n",
       "      <td>set()</td>\n",
       "      <td>{}</td>\n",
       "      <td>NaN</td>\n",
       "      <td>{}</td>\n",
       "      <td>NaN</td>\n",
       "      <td>[]</td>\n",
       "      <td>...</td>\n",
       "      <td>NaN</td>\n",
       "      <td>NaN</td>\n",
       "      <td>NaN</td>\n",
       "      <td>NaN</td>\n",
       "      <td>NaN</td>\n",
       "      <td>NaN</td>\n",
       "      <td>NaN</td>\n",
       "      <td>1.888197e+06</td>\n",
       "      <td>-4.964821e+06</td>\n",
       "      <td>-3.518870e+06</td>\n",
       "    </tr>\n",
       "    <tr>\n",
       "      <th>2</th>\n",
       "      <td>2</td>\n",
       "      <td>Q56240768</td>\n",
       "      <td>NaN</td>\n",
       "      <td>['Q8343784']</td>\n",
       "      <td>set()</td>\n",
       "      <td>{}</td>\n",
       "      <td>NaN</td>\n",
       "      <td>{}</td>\n",
       "      <td>NaN</td>\n",
       "      <td>[]</td>\n",
       "      <td>...</td>\n",
       "      <td>NaN</td>\n",
       "      <td>NaN</td>\n",
       "      <td>NaN</td>\n",
       "      <td>NaN</td>\n",
       "      <td>NaN</td>\n",
       "      <td>NaN</td>\n",
       "      <td>NaN</td>\n",
       "      <td>2.390310e+06</td>\n",
       "      <td>-5.171445e+06</td>\n",
       "      <td>-2.857998e+06</td>\n",
       "    </tr>\n",
       "    <tr>\n",
       "      <th>3</th>\n",
       "      <td>3</td>\n",
       "      <td>Q56241069</td>\n",
       "      <td>NaN</td>\n",
       "      <td>['Q23397']</td>\n",
       "      <td>{'lake in Canada'}</td>\n",
       "      <td>{}</td>\n",
       "      <td>NaN</td>\n",
       "      <td>{}</td>\n",
       "      <td>NaN</td>\n",
       "      <td>[]</td>\n",
       "      <td>...</td>\n",
       "      <td>NaN</td>\n",
       "      <td>NaN</td>\n",
       "      <td>NaN</td>\n",
       "      <td>NaN</td>\n",
       "      <td>NaN</td>\n",
       "      <td>NaN</td>\n",
       "      <td>NaN</td>\n",
       "      <td>1.480053e+06</td>\n",
       "      <td>-3.927151e+06</td>\n",
       "      <td>4.786767e+06</td>\n",
       "    </tr>\n",
       "    <tr>\n",
       "      <th>4</th>\n",
       "      <td>4</td>\n",
       "      <td>Q56241445</td>\n",
       "      <td>fountain playground Rossfeld street</td>\n",
       "      <td>['Q43483']</td>\n",
       "      <td>set()</td>\n",
       "      <td>{'en': ['fountain playground Rossfeldstrasse',...</td>\n",
       "      <td>NaN</td>\n",
       "      <td>{}</td>\n",
       "      <td>NaN</td>\n",
       "      <td>[]</td>\n",
       "      <td>...</td>\n",
       "      <td>NaN</td>\n",
       "      <td>NaN</td>\n",
       "      <td>NaN</td>\n",
       "      <td>Rossfeldstrasse 21, 3004 Bern</td>\n",
       "      <td>NaN</td>\n",
       "      <td>NaN</td>\n",
       "      <td>NaN</td>\n",
       "      <td>4.323198e+06</td>\n",
       "      <td>5.649223e+05</td>\n",
       "      <td>4.639653e+06</td>\n",
       "    </tr>\n",
       "  </tbody>\n",
       "</table>\n",
       "<p>5 rows × 40 columns</p>\n",
       "</div>"
      ],
      "text/plain": [
       "   Unnamed: 0 wikidata_id                        english_label   instance_of  \\\n",
       "0           0   Q56240745                                  NaN  ['Q8343784']   \n",
       "1           1   Q56240764                                  NaN  ['Q8343784']   \n",
       "2           2   Q56240768                                  NaN  ['Q8343784']   \n",
       "3           3   Q56241069                                  NaN    ['Q23397']   \n",
       "4           4   Q56241445  fountain playground Rossfeld street    ['Q43483']   \n",
       "\n",
       "      description_set                                         alias_dict  \\\n",
       "0               set()                                                 {}   \n",
       "1               set()                                                 {}   \n",
       "2               set()                                                 {}   \n",
       "3  {'lake in Canada'}                                                 {}   \n",
       "4               set()  {'en': ['fountain playground Rossfeldstrasse',...   \n",
       "\n",
       "  nativelabel population_dict area hcounties  ... epns os_grid_ref  \\\n",
       "0         NaN              {}  NaN        []  ...  NaN         NaN   \n",
       "1         NaN              {}  NaN        []  ...  NaN         NaN   \n",
       "2         NaN              {}  NaN        []  ...  NaN         NaN   \n",
       "3         NaN              {}  NaN        []  ...  NaN         NaN   \n",
       "4         NaN              {}  NaN        []  ...  NaN         NaN   \n",
       "\n",
       "  connectswith                 street_address adjacent_stations ukrailcode  \\\n",
       "0          NaN                            NaN               NaN        NaN   \n",
       "1          NaN                            NaN               NaN        NaN   \n",
       "2          NaN                            NaN               NaN        NaN   \n",
       "3          NaN                            NaN               NaN        NaN   \n",
       "4          NaN  Rossfeldstrasse 21, 3004 Bern               NaN        NaN   \n",
       "\n",
       "  connectline             x             y             z  \n",
       "0         NaN  2.185098e+06 -5.112594e+06 -3.114799e+06  \n",
       "1         NaN  1.888197e+06 -4.964821e+06 -3.518870e+06  \n",
       "2         NaN  2.390310e+06 -5.171445e+06 -2.857998e+06  \n",
       "3         NaN  1.480053e+06 -3.927151e+06  4.786767e+06  \n",
       "4         NaN  4.323198e+06  5.649223e+05  4.639653e+06  \n",
       "\n",
       "[5 rows x 40 columns]"
      ]
     },
     "execution_count": 5,
     "metadata": {},
     "output_type": "execute_result"
    }
   ],
   "source": [
    "# add x, y, z to df\n",
    "df_wiki[\"x\"] = x_wiki\n",
    "df_wiki[\"y\"] = y_wiki\n",
    "df_wiki[\"z\"] = z_wiki\n",
    "df_wiki.head()"
   ]
  },
  {
   "cell_type": "code",
   "execution_count": 6,
   "metadata": {},
   "outputs": [],
   "source": [
    "# Create wiki_kdtree\n",
    "wiki_kdtree = spatial.cKDTree(df_wiki[[\"x\", \"y\", \"z\"]].to_numpy())"
   ]
  },
  {
   "cell_type": "markdown",
   "metadata": {},
   "source": [
    "## Read GB1900"
   ]
  },
  {
   "cell_type": "code",
   "execution_count": 7,
   "metadata": {},
   "outputs": [
    {
     "name": "stderr",
     "output_type": "stream",
     "text": [
      "/data/anaconda/envs/py37deezy/lib/python3.7/site-packages/IPython/core/interactiveshell.py:3146: DtypeWarning: Columns (9) have mixed types.Specify dtype option on import or set low_memory=False.\n",
      "  interactivity=interactivity, compiler=compiler, result=result)\n"
     ]
    }
   ],
   "source": [
    "# Read GB1900\n",
    "with open(\"/resources/gb1900/gb1900_gazetteer_complete_july_2018.csv\", encoding='UTF-16') as f:\n",
    "    df_gb1900 = pd.read_csv(f)"
   ]
  },
  {
   "cell_type": "code",
   "execution_count": 8,
   "metadata": {},
   "outputs": [
    {
     "name": "stderr",
     "output_type": "stream",
     "text": [
      "/data/anaconda/envs/py37deezy/lib/python3.7/site-packages/ipykernel_launcher.py:5: DeprecationWarning: This function is deprecated. See: https://pyproj4.github.io/pyproj/stable/gotchas.html#upgrading-to-pyproj-2-from-pyproj-1\n",
      "  \"\"\"\n"
     ]
    }
   ],
   "source": [
    "# transform lat/lon ---> x,y,z\n",
    "x_gb, y_gb, z_gb = pyproj.transform(lla, ecef,\n",
    "                                    df_gb1900[\"longitude\"].to_numpy(),\n",
    "                                    df_gb1900[\"latitude\"].to_numpy(),\n",
    "                                    np.zeros(len(df_gb1900[\"latitude\"])),\n",
    "                                    radians=False)"
   ]
  },
  {
   "cell_type": "markdown",
   "metadata": {},
   "source": [
    "## Find neighbours\n",
    "\n",
    "Here, our query points are from GB1900: x_gb, y_gb and z_gb, we use wiki_kdtree to find the closest points to GB1900 labels."
   ]
  },
  {
   "cell_type": "code",
   "execution_count": 9,
   "metadata": {},
   "outputs": [],
   "source": [
    "# Define threshold (static)\n",
    "num_neighbors = 20\n",
    "# distance in m\n",
    "#distance_upper_bound = 1000000\n",
    "\n",
    "all_dists, all_indxs = wiki_kdtree.query(np.array([x_gb, y_gb, z_gb]).T,\n",
    "                                         k=num_neighbors)\n",
    "                                         #distance_upper_bound=distance_upper_bound)"
   ]
  },
  {
   "cell_type": "code",
   "execution_count": 11,
   "metadata": {},
   "outputs": [
    {
     "name": "stdout",
     "output_type": "stream",
     "text": [
      "0, 1, 2, 3, 4, 5, 6, 7, 8, 9, 10, 11, 12, 13, 14, 15, 16, 17, 18, 19, "
     ]
    }
   ],
   "source": [
    "# By having the indices (all_indxs), extract english_label\n",
    "collect_candidates = None\n",
    "for nqueries in range(all_indxs.shape[1]):\n",
    "    print(nqueries, end=\", \")\n",
    "    if isinstance(collect_candidates, type(None)):\n",
    "        collect_candidates = df_wiki.iloc[all_indxs[:, nqueries]][[\"english_label\"]].to_numpy()\n",
    "    else:\n",
    "        collect_candidates = np.hstack([collect_candidates, \n",
    "                                        df_wiki.iloc[all_indxs[:, nqueries]][[\"english_label\"]].to_numpy()])"
   ]
  },
  {
   "cell_type": "markdown",
   "metadata": {},
   "source": [
    "## Examples"
   ]
  },
  {
   "cell_type": "code",
   "execution_count": 12,
   "metadata": {},
   "outputs": [
    {
     "data": {
      "text/html": [
       "<div>\n",
       "<style scoped>\n",
       "    .dataframe tbody tr th:only-of-type {\n",
       "        vertical-align: middle;\n",
       "    }\n",
       "\n",
       "    .dataframe tbody tr th {\n",
       "        vertical-align: top;\n",
       "    }\n",
       "\n",
       "    .dataframe thead th {\n",
       "        text-align: right;\n",
       "    }\n",
       "</style>\n",
       "<table border=\"1\" class=\"dataframe\">\n",
       "  <thead>\n",
       "    <tr style=\"text-align: right;\">\n",
       "      <th></th>\n",
       "      <th>pin_id</th>\n",
       "      <th>final_text</th>\n",
       "      <th>nation</th>\n",
       "      <th>local_authority</th>\n",
       "      <th>parish</th>\n",
       "      <th>osgb_east</th>\n",
       "      <th>osgb_north</th>\n",
       "      <th>latitude</th>\n",
       "      <th>longitude</th>\n",
       "      <th>notes</th>\n",
       "    </tr>\n",
       "  </thead>\n",
       "  <tbody>\n",
       "    <tr>\n",
       "      <th>39869</th>\n",
       "      <td>57eebf702c66dca322009566</td>\n",
       "      <td>King's Cross Sta.</td>\n",
       "      <td>England</td>\n",
       "      <td>Camden</td>\n",
       "      <td>Camden (Un-parished)</td>\n",
       "      <td>530210.590032</td>\n",
       "      <td>182959.512834</td>\n",
       "      <td>51.530538</td>\n",
       "      <td>-0.124229</td>\n",
       "      <td>NaN</td>\n",
       "    </tr>\n",
       "  </tbody>\n",
       "</table>\n",
       "</div>"
      ],
      "text/plain": [
       "                         pin_id         final_text   nation local_authority  \\\n",
       "39869  57eebf702c66dca322009566  King's Cross Sta.  England          Camden   \n",
       "\n",
       "                     parish      osgb_east     osgb_north   latitude  \\\n",
       "39869  Camden (Un-parished)  530210.590032  182959.512834  51.530538   \n",
       "\n",
       "       longitude notes  \n",
       "39869  -0.124229   NaN  "
      ]
     },
     "execution_count": 12,
     "metadata": {},
     "output_type": "execute_result"
    }
   ],
   "source": [
    "query = \"King's Cross Sta.\"\n",
    "df_query = df_gb1900[df_gb1900['final_text'].str.contains(query, case=False)]\n",
    "df_query.head()"
   ]
  },
  {
   "cell_type": "code",
   "execution_count": 13,
   "metadata": {},
   "outputs": [
    {
     "data": {
      "text/plain": [
       "array([[\"King's Cross St. Pancras tube station\", 'Drinking fountain',\n",
       "        'Great Northern Hotel', \"London King's Cross railway station\",\n",
       "        'The Meeting Place',\n",
       "        'St Pancras Station and former Midland Grand Hotel',\n",
       "        'Numbers 1-5 And Attached Railings', \"King's Cross\",\n",
       "        'Camden Town Hall', 'Numbers 27-43 And Attached Railings',\n",
       "        'Cotton library', 'British Library Philatelic Collections',\n",
       "        'Argyle Square', 'British Library Music Collections',\n",
       "        'Flying Scotsman', '34B, York Way',\n",
       "        'Stanley Buildings, Flats Numbers 1-20',\n",
       "        'Numbers 18 To 24 (Consecutive) And Attached Railings',\n",
       "        'Paradigm', 'General Chiropractic Council']], dtype=object)"
      ]
     },
     "execution_count": 13,
     "metadata": {},
     "output_type": "execute_result"
    }
   ],
   "source": [
    "# Show found candidates\n",
    "collect_candidates[df_query.index]"
   ]
  },
  {
   "cell_type": "code",
   "execution_count": 14,
   "metadata": {},
   "outputs": [
    {
     "data": {
      "text/plain": [
       "array([[ 38.70432957,  47.37242386,  66.41628643,  75.00399428,\n",
       "         80.3092222 , 105.14018541, 165.21225408, 190.24086424,\n",
       "        192.54473421, 209.61918716, 224.3178194 , 224.32688416,\n",
       "        230.38687389, 233.84252575, 244.73778797, 264.41418907,\n",
       "        267.45604416, 293.63843922, 296.31720355, 336.01542019]])"
      ]
     },
     "execution_count": 14,
     "metadata": {},
     "output_type": "execute_result"
    }
   ],
   "source": [
    "# distance\n",
    "all_dists[df_query.index]"
   ]
  },
  {
   "cell_type": "code",
   "execution_count": 15,
   "metadata": {},
   "outputs": [
    {
     "data": {
      "text/html": [
       "<div>\n",
       "<style scoped>\n",
       "    .dataframe tbody tr th:only-of-type {\n",
       "        vertical-align: middle;\n",
       "    }\n",
       "\n",
       "    .dataframe tbody tr th {\n",
       "        vertical-align: top;\n",
       "    }\n",
       "\n",
       "    .dataframe thead th {\n",
       "        text-align: right;\n",
       "    }\n",
       "</style>\n",
       "<table border=\"1\" class=\"dataframe\">\n",
       "  <thead>\n",
       "    <tr style=\"text-align: right;\">\n",
       "      <th></th>\n",
       "      <th>english_label</th>\n",
       "      <th>latitude</th>\n",
       "      <th>longitude</th>\n",
       "    </tr>\n",
       "  </thead>\n",
       "  <tbody>\n",
       "  </tbody>\n",
       "</table>\n",
       "</div>"
      ],
      "text/plain": [
       "Empty DataFrame\n",
       "Columns: [english_label, latitude, longitude]\n",
       "Index: []"
      ]
     },
     "execution_count": 15,
     "metadata": {},
     "output_type": "execute_result"
    }
   ],
   "source": [
    "# Do we have the query in wikidata\n",
    "df_wiki[df_wiki['english_label'].str.contains(query, case=False, na=False)][[\"english_label\", \"latitude\", \"longitude\"]]"
   ]
  },
  {
   "cell_type": "code",
   "execution_count": null,
   "metadata": {},
   "outputs": [],
   "source": []
  }
 ],
 "metadata": {
  "kernelspec": {
   "display_name": "Python 3",
   "language": "python",
   "name": "python3"
  },
  "language_info": {
   "codemirror_mode": {
    "name": "ipython",
    "version": 3
   },
   "file_extension": ".py",
   "mimetype": "text/x-python",
   "name": "python",
   "nbconvert_exporter": "python",
   "pygments_lexer": "ipython3",
   "version": "3.7.9"
  }
 },
 "nbformat": 4,
 "nbformat_minor": 4
}
