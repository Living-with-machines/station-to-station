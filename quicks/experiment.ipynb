{
 "cells": [
  {
   "cell_type": "code",
   "execution_count": 9,
   "metadata": {},
   "outputs": [],
   "source": [
    "from sentence_transformers import SentenceTransformer, util\n",
    "model = SentenceTransformer('paraphrase-distilroberta-base-v1')\n",
    "from haversine import haversine\n",
    "import numpy as np\n",
    "from ast import literal_eval\n",
    "from tqdm.notebook import trange, tqdm\n",
    "import pandas as pd"
   ]
  },
  {
   "cell_type": "code",
   "execution_count": 10,
   "metadata": {},
   "outputs": [
    {
     "data": {
      "application/vnd.jupyter.widget-view+json": {
       "model_id": "ce14bdc2b9e94d279238b10608b33eb0",
       "version_major": 2,
       "version_minor": 0
      },
      "text/plain": [
       "HBox(children=(FloatProgress(value=1.0, bar_style='info', max=1.0), HTML(value='')))"
      ]
     },
     "metadata": {},
     "output_type": "display_data"
    },
    {
     "name": "stdout",
     "output_type": "stream",
     "text": [
      "\n"
     ]
    },
    {
     "data": {
      "application/vnd.jupyter.widget-view+json": {
       "model_id": "bf9bdcbfc2d04e3f973292dc9d92d005",
       "version_major": 2,
       "version_minor": 0
      },
      "text/plain": [
       "HBox(children=(FloatProgress(value=0.0, max=14366.0), HTML(value='')))"
      ]
     },
     "metadata": {},
     "output_type": "display_data"
    },
    {
     "name": "stdout",
     "output_type": "stream",
     "text": [
      "\n"
     ]
    }
   ],
   "source": [
    "britdf = pd.read_csv(\"../wikidata/british_isles_stations.csv\", header=0, index_col=None, low_memory=False)\n",
    "britdf = britdf.drop(columns=['Unnamed: 0'])\n",
    "britdf['latitude'] = britdf['latitude'].astype(float)\n",
    "britdf['longitude'] = britdf['longitude'].astype(float)\n",
    "britdf = britdf[britdf['latitude'].notna()]\n",
    "britdf = britdf[britdf['longitude'].notna()]\n",
    "tmpdf = britdf\n",
    "\n",
    "measure_of_far = 300 # It does not matter how far a place is once it's farther than x\n",
    "\n",
    "coordinates = []\n",
    "indices = []\n",
    "list_descriptions = []\n",
    "dIndex2wkdt = dict()\n",
    "for i, row in tqdm(tmpdf.iterrows()):\n",
    "    indices.append(row[\"wikidata_id\"])\n",
    "    coordinates.append((row[\"latitude\"], row[\"longitude\"]))\n",
    "    \n",
    "    wkdt_description = \"\"\n",
    "    if row[\"description_set\"] != \"set()\":\n",
    "        wkdt_description = \", \".join(literal_eval(row[\"description_set\"]))\n",
    "        \n",
    "    list_descriptions.append(wkdt_description)\n",
    "    \n",
    "# embeddings = model.encode(list_descriptions)\n",
    "\n",
    "mtrx_geo = np.zeros((tmpdf.shape[0], tmpdf.shape[0]))\n",
    "# mtrx_sem = np.zeros((tmpdf.shape[0], tmpdf.shape[0]))\n",
    "for i in tqdm(range(len(indices))):\n",
    "    for j in range(len(indices)):\n",
    "        distance = haversine(coordinates[i], coordinates[j])\n",
    "        if distance >= measure_of_far:\n",
    "            distance = measure_of_far\n",
    "        mtrx_geo[i][j] = 1-(distance/measure_of_far)\n",
    "#         mtrx_sem[i][j] = util.pytorch_cos_sim(embeddings[i], embeddings[j])"
   ]
  },
  {
   "cell_type": "code",
   "execution_count": null,
   "metadata": {},
   "outputs": [],
   "source": [
    "# for i in range(len(indices)):\n",
    "#     for j in range(len(indices)):\n",
    "#         print(indices[i], \"-\", indices[j], \":::\", mtrx_geo[i, j])\n",
    "#     print()"
   ]
  },
  {
   "cell_type": "code",
   "execution_count": null,
   "metadata": {},
   "outputs": [],
   "source": [
    "print(mtrx_geo[2, 16])\n",
    "print(mtrx_sem[2, 16])"
   ]
  },
  {
   "cell_type": "code",
   "execution_count": null,
   "metadata": {},
   "outputs": [],
   "source": [
    "print(mtrx_geo[18, 19])\n",
    "print(mtrx_sem[18, 19])"
   ]
  },
  {
   "cell_type": "code",
   "execution_count": null,
   "metadata": {},
   "outputs": [],
   "source": [
    "indices"
   ]
  },
  {
   "cell_type": "code",
   "execution_count": null,
   "metadata": {},
   "outputs": [],
   "source": [
    "tmpdf.iloc[:50]"
   ]
  },
  {
   "cell_type": "code",
   "execution_count": null,
   "metadata": {},
   "outputs": [],
   "source": [
    "util.pytorch_cos_sim(embeddings[0], embeddings[1])"
   ]
  },
  {
   "cell_type": "code",
   "execution_count": null,
   "metadata": {},
   "outputs": [],
   "source": [
    "util.pytorch_cos_sim(embeddings[3], embeddings[4])"
   ]
  },
  {
   "cell_type": "code",
   "execution_count": null,
   "metadata": {
    "scrolled": true
   },
   "outputs": [],
   "source": [
    "coordinates"
   ]
  },
  {
   "cell_type": "code",
   "execution_count": null,
   "metadata": {
    "scrolled": true
   },
   "outputs": [],
   "source": [
    "indices"
   ]
  },
  {
   "cell_type": "code",
   "execution_count": null,
   "metadata": {},
   "outputs": [],
   "source": [
    "#     #Our sentences we like to encode\n",
    "# sentences = ['Barrow-in-Furness, Northumberland.',\n",
    "#     'ERYHOLME.',\n",
    "#     'railway station in Cumbria, England.',\n",
    "#     'railway station in Cumbria']\n",
    "\n",
    "# #Sentences are encoded by calling model.encode()\n",
    "# embeddings = model.encode(sentences)\n",
    "\n",
    "# #Print the embeddings\n",
    "# for sentence, embedding in zip(sentences, embeddings):\n",
    "#     print(\"Sentence:\", sentence)\n",
    "#     print(\"Embedding:\", embedding)\n",
    "#     print(\"\")\n",
    "    \n",
    "    \n",
    "#     dIndicesI[i] = irow[\"wikidata_id\"]\n",
    "#     wkdt_description_i = \"\"\n",
    "#     wkdt_description_i = \", \".join(literal_eval(irow[\"description_set\"])) if irow[\"description_set\"] != \"set()\" else \"\"\n",
    "#     geo_coordinates_i = (irow[\"latitude\"], irow[\"longitude\"])\n",
    "#     for j, jrow in tmpdf.iterrows():\n",
    "#         geo_coordinates_j = (jrow[\"latitude\"], jrow[\"longitude\"])\n",
    "#         mtrx_geo[i][j] = haversine(geo_coordinates_i, geo_coordinates_j)\n",
    "#         wkdt_description_j = \", \".join(literal_eval(jrow[\"description_set\"])) if jrow[\"description_set\"] != \"set()\" else \"\"\n",
    "        "
   ]
  },
  {
   "cell_type": "code",
   "execution_count": null,
   "metadata": {},
   "outputs": [],
   "source": [
    "a"
   ]
  },
  {
   "cell_type": "code",
   "execution_count": null,
   "metadata": {
    "scrolled": true
   },
   "outputs": [],
   "source": [
    "dIndicesI"
   ]
  },
  {
   "cell_type": "code",
   "execution_count": null,
   "metadata": {
    "scrolled": true
   },
   "outputs": [],
   "source": [
    "dIndicesJ"
   ]
  },
  {
   "cell_type": "code",
   "execution_count": null,
   "metadata": {},
   "outputs": [],
   "source": []
  }
 ],
 "metadata": {
  "kernelspec": {
   "display_name": "Python (py37deezy)",
   "language": "python",
   "name": "py37deezy"
  },
  "language_info": {
   "codemirror_mode": {
    "name": "ipython",
    "version": 3
   },
   "file_extension": ".py",
   "mimetype": "text/x-python",
   "name": "python",
   "nbconvert_exporter": "python",
   "pygments_lexer": "ipython3",
   "version": "3.7.9"
  }
 },
 "nbformat": 4,
 "nbformat_minor": 5
}
