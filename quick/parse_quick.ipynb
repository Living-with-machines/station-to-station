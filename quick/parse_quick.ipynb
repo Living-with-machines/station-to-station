{
 "cells": [
  {
   "cell_type": "code",
   "execution_count": 12,
   "metadata": {},
   "outputs": [],
   "source": [
    "import xml.etree.ElementTree as ET\n",
    "import pandas as pd\n",
    "import zipfile\n",
    "from lxml import etree\n",
    "from xml.etree.ElementTree import XML\n",
    "docxFileName = \"quick_test.docx\"\n",
    "docxZip = zipfile.ZipFile(docxFileName)\n",
    "documentXML = docxZip.read('word/document.xml')\n",
    "et = etree.XML(documentXML)\n",
    "ns = {'w': 'http://schemas.openxmlformats.org/wordprocessingml/2006/main'}"
   ]
  },
  {
   "cell_type": "code",
   "execution_count": 20,
   "metadata": {
    "tags": []
   },
   "outputs": [
    {
     "output_type": "stream",
     "name": "stdout",
     "text": [
      "MAIN: ABBEY\nDESCRIPTION: ABBEY\n\nSUB: A TOWN\nDESCRIPTION: A TOWN   [NB] op 3 September 1856** as A; TOWN added 1889 tt  (Cl) ; clo 7 September 1964  (RM October).  Initially ABBEYHOLME  (Brad).\n\nSUB: A JUNCTION\nDESCRIPTION: A JUNCTION   [Cal] op 31 August 1870  (co ½ T 26 September) . Clo 20 May 1921 (see 192 1  April/ May**).\n\nSUB: A JUNCTION\nDESCRIPTION: A JUNCTION   [NB] op 8 August 1870  (D&C 14) ; clo 1 September 1921 (Thursday)  (RCG)  – stops still shown until then in  Brad  ( all days August 1921)  but would seem to have been pointless after April/May 1921** .  L eft in case Cal line reopened? Did trains actually call?\n\nDESCRIPTION: Brad  and co tts seen all have Abbey Junction for the station concerned. OS maps show as effectively one station.\n\nMAIN: ABBEY & WEST DEREHAM \nDESCRIPTION: ABBEY & WEST DEREHAM  [GE] op 1 August 1882  (Thetford & Watton Times 5 th )  as  A; became A for W  D  1  January 1886  (Cl; RCG ref Jan) , A & W D 1 July 1923  (hbl 12 th ) ; clo 22 September 1930  (Cl) .\n\nMAIN: ABBEY FOREGATE \nDESCRIPTION: ABBEY FOREGATE  – see SHREWSBURY.\n\nMAIN: ABBEY HOUSES \nDESCRIPTION: ABBEY HOUSES  see BEAUCHIEF .\n\nMAIN: ABBEY MILLS \nDESCRIPTION: ABBEY MILLS  pumping station  [private line south of West Ham] (non-tt): visit of interested Vestries to this addition to London’s sewage disposal system on opening 30 July 1868 and whole week following; by river to North Woolwich and rail to West Ham, then private line  (Shipping & Mercantile Gazette 30 July; Kentish Independent August 8).\n\nMAIN: ABBEY OF DEER\nDESCRIPTION: ABBEY OF DEER   [GNS] (non-tt): pilgrimages; train for Roman Catholic pilgrimage to ‘special platform’ 9  square feet on down side near bridge 701, 100 yards east of milepost 32½  (LNE weekly circ 497  17 June 1932   via GNS) ;  first   use d  17 July 1932  (Scotsman 18 th ) ; following later usage established via  Aberdeen Press ... where always day after date given for event  – 19   August   1934, 7 July 1935, 9 August 1936, 7 August 1938; 1938 p erhaps  last – 2 July 1939 walked from Mintlaw  (Aberdeen Press ... 3 rd ) , though some had always come that way ; PLATFORM; {Maud – Mintlaw}. \n\nMAIN: ABBEY ROAD\nDESCRIPTION: ABBEY ROAD  [Dock] op 31 August 2011  (RM November) ; still open.\n\nMAIN: ABBEY WOOD\nDESCRIPTION: ABBEY WOOD   [SE] op on or by 1 November 1849 (included in notice of alterations  T 29 October , but not in earlier notices seen); still open. \n\nDESCRIPTION: Earliest co tt for line has place for this occupied by HARROW ROAD, no trains calling – intended name? (D Banks); at first one word in  hb , altered 1890  (hb) ; A W for the CRAYS  (Brad ,  e.g.  1850).\n\nMAIN: ABBEY WOOD\nDESCRIPTION: ABBEY WOOD  Bristol – see under FILTON.\n\nMAIN: ABBEYDORE \nDESCRIPTION: ABBEYDORE  [GW] op 1 September 1881**- line;  finally  clo 8 December 1941.\n\nMAIN: ABBEYHILL \nDESCRIPTION: ABBEYHILL  [NB] op 1 May 1869  (Scotsman 1 st ) ; clo 7 September 1964  (Cl) . At times ABBEY HILL  (hb) ; about 1875-8  Brad  called it EDINBURGH A .\n\nMAIN: ABBEYHOLME\nDESCRIPTION: ABBEYHOLME  [MC]: Macaulay’s 1851 map shows station just west of Leegate; not on 1854 map. No supporting evidence for existence. See 1840** for habits of MC; perhaps site between stations at which trains called often enough to cause confusion for someone drafting maps at a distance; perhaps stop for people of Abbey and district – seems to have disappeared from Macaulay’s maps at about time the North British opened its station there and latter was shown as ABBEY HOLM on his maps, early 1860s at least.\n\nMAIN: ABBOTS RIPTON\nDESCRIPTION: ABBOTS RIPTON   [GN] op 2 November 1885 (based on  GN –  says 1 st , but that a Sunday, no Sunday service here – first in  Brad  November; ‘now open’  Cambridge 7 th ); ABBOTTS R until 1938  (Cl) ; clo 15 September 1958  (RM October) .\n\nMAIN: ABBOTS WOOD JUNCTION\nDESCRIPTION: ABBOTS WOOD JUNCTION   [GW/Mid] op November 1850  (Mid)  as WORCESTER J; renamed 1 March 1852 co tt  (Mid) ; exchange only but in public tt; clo 1 October 1855  (Cl ); {physical junction  IA }.\n\nMAIN: ABBOTSBURY\nDESCRIPTION: ABBOTSBURY   [GW] op 9 November 1885  (W Gaz 13 th ) ; clo 1 December 1952  (W Gaz 5 th ) .\n\nMAIN: ABBOTSCLIFFE BOX\nDESCRIPTION: ABBOTSCLIFFE BOX  (non-tt): stops for staff shown 17 June 1957 wtt; {Folkestone East – Dover}.\n\nMAIN: ABBOTSFORD FERRY\nDESCRIPTION: ABBOTSFORD FERRY   [NB] first in  Brad  May 1856 – line op 5 April 1856 but A F not in op notice  Selkirk 5 th , paper of 3 May (next issue) said passengers now booked to ‘BOLDSIDE (A.F.)’; clo 5 January 1931  (Cl) .\n\nMAIN: ABBOTSHAM ROAD \nDESCRIPTION: ABBOTSHAM ROAD  [BWA]:   line op 18 May 1901**; clo 28 March 1917**.\n\nMAIN: ABDIE\nDESCRIPTION: ABDIE :   alias for LINDORES temp.\n\nMAIN: ABER\nDESCRIPTION: ABER   [TV]  –  see ABERTRIDWR.\n\nMAIN: ABER\nDESCRIPTION: ABER  near Caerphilly   [Rhy]  op 1  April 1908  (Aber)  as BEDDAU (BEDA, error, in  Brad ); became A JUNCTION 17 September 1926  (GW circ 3011) , A 6 May 1968  (Aberdare) ; HALT until 1968/9; still open.\n\nMAIN: ABER\nDESCRIPTION: ABER   near   Bangor [LNW] op 1 May 1848  (D&C 11; co n T 2 nd - line) ; clo 12 September 1960  (RM October ) .\n\nMAIN: ABERAMAN\nDESCRIPTION: ABERAMAN   [all TV]\n\nDESCRIPTION: First station  of this name probably op 5 April 1847 (in co tt of that date,  RAIL 981/491 , assumed to be opening tt as far as this station was concerned); although in tt, more of a private station for Crawshay Bailey than a public one; last train ran 12 July 1856 (Saturday)  (Aberdare) .\n\nDESCRIPTION: Another station , TREAMAN, op nearby October 1848; re-sited about ¾ mile north January 1857; renamed A 1888/9 – authorised 26 October 1888  (Aberdare; RCG ref January 1889) ; clo 16 March 1964  (Cl) .\n\nMAIN: ABERANGELL \nDESCRIPTION: ABERANGELL  [Cam] op 30 September 1867  (co n Merioneth 12 October) , when required – notice has ABERANGEL (also in  hb  until altered 1882) ; clo 17 April 1901 (Wednesday)  (Cl) ; reop 31 July 1911  (RCG) ; clo 1 January 1931** (Thursday)  (T 13 December 1930).\n\nMAIN: ABERAVON\nDESCRIPTION: ABERAVON   [RSB] {map 85}.\n\nSUB: A SEA SIDE\nDESCRIPTION: A SEA SIDE   op 1 March 1899 (station at Sandfields, Aberavon op on Wednesday,  S Wales Daily Post, Thursday 2 nd ) ; clo 3   December 1962  (RM January 1963) . A Jubilee Road pre-opening  (RAC) .\n\nSUB: A TOWN\nDESCRIPTION: A TOWN   op 25 June 1885  (Cambrian, 26 th )  as A; became A PORT TALBOT 1 December 1891  (RCG) ; P T 1895 tt  (Cl; RCG ref April) ; A TOWN 1 July 1924  (GW cirular 18 June) ; clo 3 December 1962  (RM January 1963) .\n\nMAIN: ABERAYRON\nDESCRIPTION: ABERAYRON   [GW] op 12 May 1911  (co n Lampeter) ; clo 12 February 1951  ( Cambrian News ,  16 February 1951, cited by Cozens)   – see 1951**.\n\nMAIN: ABERBARGOED\nDESCRIPTION: ABERBARGOED   [BM]\n\nDESCRIPTION: First station  op 16 April 1866  (Cardiff T 20 th - line)  at 16 m 16 ch;  ABER BARGOED  at start; clo 31 October 1869  (co Board Minute 1671) , probably last day of use; back March 1870; renamed A  B & BARGOED   1 September 1905  (RCG)  >\n\nDESCRIPTION: Replaced  1 March 1909 by B & A/B & A B at 16 m 26 ch; renamed A 1 July 1924  (GW circular 18 June)  >\n\nDESCRIPTION: Replaced again  30 September 1935  (co n dated 24 th )  by  ABERBARGOED , back at original site; aot request; clo 31 December 1962  (T 31 st ).\n\nSUB: BARGOED & ABERBARGOED\nDESCRIPTION: BARGOED & ABERBARGOED   (under ‘B’) was [Rhy].\n\nMAIN: ABERBEEG\nDESCRIPTION: ABERBEEG   [GW] op 23 December 1850**; clo 30 April 1962  (T 6 April) .\n\nMAIN: ABERBRAN \nDESCRIPTION: ABERBRAN  [N&B] op 14 September 1868  (N&B minutes ); became HALT 1941/42  Brad , 1941/44a  hb ; clo 15 October 1962  (RM November) .\n\nMAIN: ABERCAIRNY \nDESCRIPTION: ABERCAIRNY  [Cal] op 21 May 1866**; clo 1 October 1951  ( BR notice Strathearn Herald 22 September ) . ABBERCAIRNY until 1890/1  Brad , ABERCAIRNEY early  hb.\n\nMAIN: ABERCAMLAIS\nDESCRIPTION: ABERCAMLAIS  [N&B] (non-tt) private station: line op 3 June 1867  (T 5 th ) , station included in pre-opening inspection report; HALT at clo 15 October 1962 – but  Railways (1951,  issue ? )  said appeared not to have been used for some time; {Devynock – Aberbran}  (U) . Rev Garnons Williams had right to stop trains  (GW Deed 25931, dated 18 September 1866) .\n\nMAIN: ABERCANAID \nDESCRIPTION: ABERCANAID  [GW/Rhy] op 1 April 1886  (Cardiff T 20 March) ; became A & PENTREBACH 9 September 1913  (hbl 23 October) ; back to A 1 July 1924  (GW circular 18 June) ; last train 3 February 1951 – see 1951**.\n\nMAIN: ABERCARN \nDESCRIPTION: ABERCARN  [GW] op 23 December 1850**; re-sited on deviation about August 1867  (MT6/154/9, dated 8 August) ; clo 30 April 1962  (T 6 April) . ABERCARNE early –  Brad  to 1854 but still thus Monmouthshire co wtt November 1865.\n\nMAIN: ABERCHALDER \nDESCRIPTION: ABERCHALDER  [High; NB] op 22 July 1903**; clo 1 November 1911 (Wednesday), reop 1 August 1913  (RM August) ; clo 1 December 1933 (Friday)  (RM December).\n\nMAIN: ABERCORN\nDESCRIPTION: ABERCORN   – see PAISLEY.\n\nMAIN: ABERCRAVE \nDESCRIPTION: ABERCRAVE  [N&B] op 2 March 1891  (Western Mail 5 th ) ; clo 12 September 1932  (Cl) .\n\nMAIN: ABERCWMBOI \nDESCRIPTION: ABERCWMBOI  [TV] op 26 December  1904   ( Aberdare)  as DUFFRYN CROSSING PLATFORM; became A PLATFORM 1906 tt  (Cl) ; see 1904** for other name changes; first in  hb  1938 as HALT; clo 2 April 1956  (Cl) .\n\nMAIN: ABERCYNON\nDESCRIPTION: ABERCYNON\n\nSUB: A NORTH\nDESCRIPTION: A NORTH op 3 October 1988 (free publicity service 2 nd )  (Aberdare) ; >.\n\nSUB: A SOUTH\nDESCRIPTION: A SOUTH [TV] op 8 October 1840** as NAVIGATION HOUSE; became ABERDARE JUNCTION 1849 tt  (Cl) , ABERCYNON 1 December 1896  (hbl 28 January 1897) ; SOUTH added 1988 ;  still open.\n\nDESCRIPTION: In 2008 the junction between Aberdare and Merthyr lines was re-sited and one enlarged station replaced the two previous. Last train used  A NORTH  Saturday 24 May 2008 but station not officially closed until 30 May, because of time needed to complete the work, and then  A SOUTH  became plain  ABERCYNON .  (BLN 1066.452-4, 1067.504; Rly Obs July pp 359-69).\n\nDESCRIPTION: [Aberdare]  initially had  own station  here, when name was  ABERDARE JUNCTION ; just north of main station, at / near later Abercynon North; op 6 August 1846; order to move it south alongside TV station given 23 March 1848; merged with TV  station ?   (Aberdare).\n\nDESCRIPTION: Both ABERDARE JUNCTION stations reduced to exchange only after 29 October 1855 owing to dispute with landlord of nearby public house; full service again 1 May 1856  (Aberdare).\n\nMAIN: ABERDARE\nDESCRIPTION: ABERDARE   {map 86}.\n\nSUB: ABERDARE\nDESCRIPTION: ABERDARE  op 3 October 1988 (free publicity service 2 nd )  (Aberdare) ; old HL reop. Previously used for shoppers’ specials Saturdays 1 and 15 December 1984  (Aberdare Leader 24 November) ; again 19 January, 16 February, 16 March and in September 1985  (Rly Obs February, March, September 1985) ;  also  every Saturday 10 October to 15 December 1987  (official leaflet).  Still open.  \n\nSUB: A HL\nDESCRIPTION: A HL   [GW] op 24 September 1851**; HL added 1 July 1924  (GW circular 18 June) ; closed 15 June 1964**  (RM August) . \n\nSUB: A LL\nDESCRIPTION: A LL   [TV] op 6 August 1846  (Merlin 8 th ) ; LL added 1 July 1924  (GW circular18 June ) ;  clo  16 March 1964  (Cl).  \n\nDESCRIPTION: Also see COMMERCIAL STREET; MILL STREET.\n\nMAIN: ABERDARE \nDESCRIPTION: ABERDARE  JUNCTION    see  ABERCYNON.\n\nMAIN: ABERDEEN\nDESCRIPTION: ABERDEEN   {map 7}\n\nDESCRIPTION: Line from south op to temporary terminus at  FERRYHILL  [Aberdeen] 1 April 1850  (Aberdeen Herald 6 th ) ; replaced by >\n\nSUB: A GUILD STREET\nDESCRIPTION: A GUILD STREET   [Cal] when line extended 2 August 1854  ( Aberdeen Press 2 nd )  >\n\nDESCRIPTION: Line from north op to  A WATERLOO  [GNS] 1 April 1856  ( Aberdeen Press 2 nd )  >\n\nDESCRIPTION: Both termini replaced by  ABERDEEN,  op as A JOINT [Cal/GNS] 4 November 1867  ( G lasgow Evening Citizen 5 th ) ;  JOINT officially deleted in  ScR Weekly Operating Notice  of ca. September 1952 ;  still open.\n\nDESCRIPTION: Ticket Platforms  here, exact dates unknown:\n\nDESCRIPTION: References assumed to relate to same site, but this not certain – different distances result of re-siting or press guesswork? C onnecting line joins Scot NE at ticket platform   ( Aberdeen Press 3 December 1862 ) .   E x-Empress Eugenie (widow of Napoleon III) arrived from Perth at ticket platform about 1,000 yards outside station; her saloon switched to Ballater train outside station  (Glasgow Herald 4  October 1879 ).  Y esterday train from Banchory halted at ticket platform 500 yards from station owing to snow   ( Aberdeen Press 25   December 1880 ).  Arrangements for Royal Visit on 20 th  – Queen to spend 5 minutes at ticket platform at  Ferryhill   (Aberdeen Journal 17 May 1882) .  T icket platform opposite Dee Village; spectators in Wellington Road cheered Gladstone   (Aberdeen Free Press 4 September 1884 ).   I n Palmerston Road  (i bid 14 March 1891 ) .   Marquess of Salisbury (Prime Minister) served with breakfast at Ferryhill ticket platform when on way to Balmoral.   (ibid  24 October 1900 ) . Earlier terminus kept for this purpose?\n\nMAIN: B\nDESCRIPTION: B ridge over line near  Schoolhill  ticket platform   ( i bid 8 June 1895).   S eparate structure or station used as collection point  for Aberdeen ?   Schoolhill ticket platform :  timing cited in connection with accelerated service   (i bid 24 July 1895 ) .   Prince of  Wales’s saloon taken off ordinary train at Schoolhill ticket platform and then on by special train to Ballater   (Peterhead Sentinel 1  September   1906 ) .\n\nDESCRIPTION: (Non-tt)  temporary platforms:\n\nDESCRIPTION: At north end of Duthie Park for departure of Princess Beartice after opening Park 27 September 1883  (Aberdeen Express 28 th ).\n\nDESCRIPTION: For ordinary passengers, visit of Prince and Princes of Wales, for whom exclusive use of station was reserved, 28 April 1884  (Glasgow Herald 20 th ).\n\nDESCRIPTION: For presentation of a loyal address to Shah of Persia at Ferryhill Junction on his way back from visit to Deeside 18 June 1889  (Aberdeen Press 23 rd )  – paper cited did not mention platform but others that did, including  London Evening Standard 20 th , called it Ferryhead Junction. Possible this site was also used to present loyal addresses to Queen Victoria. Was this same as ticket platform?\n\nDESCRIPTION: One for visit of Tsar Nicholas II 22 September 1897 at Ferryhill Junction for him to have tea and be switched to line for Ballater; this one had to be removed promptly to allow ordinary traffic to resume, so not exactly same as others  (Scotsman 23 rd ) . \n\nDESCRIPTION: In area known as east docks (previously used as shunting yard) for excursion traffic; first used 5 July 1902 and later for Highland and Agricultural Show (15-18 July, inclusive)  (Aberdeen Press 7 July) ; used  until ?\n\nDESCRIPTION: Also see KITTYBREWSTER.\n\nMAIN: ABERDERFYN \nDESCRIPTION: ABERDERFYN  [GW] first in  Brad  October 1907; clo 29 March 1915**; HALT; {map 75}.\n\nMAIN: ABERDOUR \nDESCRIPTION: ABERDOUR  [NB] op 2 June 1890  (Scotsman 3 rd )  ;  still open.\n\nMAIN: ABERDOVEY\nDESCRIPTION: ABERDOVEY   [Cam]\n\nDESCRIPTION: First station  at Harbour op 24 October 1863  (T 28th) ; clo 14 August 1867.\n\nDESCRIPTION: Second : Savin, builder and early operator of line, used siding from 21 chains west of Ynyslas to Cerrig y Penrhyn, opposite harbour to ferry passengers and building materials across (shown, in truncated form, as FERRY in Col Cobb’s Atlas); no station or BoT sanction; this service ran until line along north bank of River Dovey supposed to open. Faulty tunnels led to BoT refusal for their use but rest of line and new station op 14 August 1867  (co n Merioneth 17 th ) , passengers being at first taken round faulty stretch by road  (Cam Coast)  – footnote to advertisement of excursion trains  (Merioneth 17 th )  said arrangement was temporary, worked out with landowners (presumably while disputes settled); still open. 1877  hb  had ABERDOVERY, corrected 1879a.\n\nMAIN: ABERDYLAIS \nDESCRIPTION: ABERDYLAIS  [GW] op 24 September 1851**; HALT from 1954; clo 15 June 1964  (RM August) . ABERDULASS  Brad , amended before end of 1851.\n\nMAIN: ABEREDW\nDESCRIPTION: ABEREDW   [Cam] first in  Brad  November 1867; aot request; clo 31 December 1962  (T 31 st ) .\n\nMAIN: ABERERCH \nDESCRIPTION: ABERERCH  [Cam] first in  Brad  July 1884; HALT added 1 May 1956, dropped 6 May 1968  (Cl) ;  aot request; see 2013 November  3**; still open.\n\nMAIN: ABERFAN \nDESCRIPTION: ABERFAN  [GW/Rhy] op 1 April 1886  (Cardiff T 25 March) ; became A for MERTHYR VALE 15 October 1891  (RCG) , back to A 1 July 1924  (GW circular 18 June ) ;    last train 3 February 1951 – see 1951**.\n\nMAIN: ABERFELDY \nDESCRIPTION: ABERFELDY  [High] several trains Saturday evening 1 July (presumably with verbal permission of Capt Rich), full opening 3 July 1865  (Dundee Courier 3 rd ) ; clo 3 May 1965  (RM June) .\n\nMAIN: ABERFFRWD\nDESCRIPTION: ABERFFRWD   [VoR]  ( ng) op 22 December 1902** (see for details); transferred to preservation 1989.\n\nMAIN: ABERFORD\nDESCRIPTION: ABERFORD  – see 1837 A**.\n\nMAIN: ABERFOYLE \nDESCRIPTION: ABERFOYLE  [NB] op 2 October 1882  (Edinburgh Evening News 3 rd ) ; clo 1 October 1951  (RM November) . \n\nMAIN: ABERGAVENNY\nDESCRIPTION: ABERGAVENNY   {map 91}\n\nDESCRIPTION: See 1829 A** for earliest ‘service’.\n\nSUB: ABERGAVENNY\nDESCRIPTION: ABERGAVENNY  [GW] op 2 January 1854  (co n Hereford Times 24 December) ; became A MONMOUTH ROAD 19 July 1950, reverted 6 May 1968 tt  (Cl) ; still open.\n\nSUB: A BRECON ROAD\nDESCRIPTION: A BRECON ROAD   [LNW] op 1 October 1862  (Hereford Times 18 th ) ; clo 6 January 1958  (RM February) .\n\nSUB: A JUNCTION [\nDESCRIPTION: A JUNCTION [ LNW] existed to provide link between Hereford to Newport line, already open, and Abergavenny to Tredegar line, op 1 October 1862; opening tt  (LNW Officers)  showed A BRECON ROAD as eastern terminus of latter; existence taken for granted, intended only as exchange, since  co op n Cardiff Times (3 rd )  said through booking to main line was possible, thus absence from public tt; first in  Brad  March 1864, then only in GW tables; added to LNW later. Re-sited 25 chains north 20 June 1870  (LNW Officers 5523) . Clo 9 June 1958  ( BR notice Western Mail 9 May ) . In LNW co tt 1864-70, at least: MERTHYR, TREDEGAR & A J.\n\nMAIN: ABERGELE & PENSARN \nDESCRIPTION: ABERGELE & PENSARN  [LNW] op 1 May 1848  (D&C 11; co n T 2 nd - line) ;  see 1879 August 17**;   still open. & P included intermittently,  Brad  and LNW co tt:  Brad  1868/9 to 1882/3 (also  hbl ref January 1883)  and 1888/9 on; LNW co tt 1869/70 to 1870/74 and 1874/5 on.  Hb  just A 1883 on.\n\nMAIN: ABERGLASLYN \nDESCRIPTION: ABERGLASLYN  [WH] (ng)   op 1 June 1923  (NGSC 2)  as NANTMOR for ABERGLASLYN; see 1922 July 31**; renamed 9 July 1934  (Cl) ; last train 26 September 1936; aot request; {map 76}.  \n\nMAIN: ABERGWILI \nDESCRIPTION: ABERGWILI    [ LNW] op 1 June 1865**; last trains shown March 1880  Brad ; back June 1880; clo 9 September 1963  (T 9 th ) . ABERGWILLY/ ABERGWILLI early, settled 28 July 1893  (LNW dates) . \n\nDESCRIPTION: \n\n"
     ]
    }
   ],
   "source": [
    "mainstation_xpath = './w:r[1][not(w:rPr/w:sz[@w:val=\"16\"])]/w:t[1]'\n",
    "lowerstation_xpath = './w:r[1][not(w:rPr/w:sz[@w:val=\"18\"])]/w:t[1]'\n",
    "first_token_para_xpath = './w:r[1]/w:t[1]'\n",
    "\n",
    "stations = pd.DataFrame(columns=['station','type','description'])\n",
    "\n",
    "def station_type (para):\n",
    "    #if para.xpath(first_token_para_xpath, namespaces=ns)[0].text.islower() == 'True':\n",
    "        #return 'na'\n",
    "    if para.xpath(mainstation_xpath, namespaces=ns):\n",
    "        return 'main'        \n",
    "    elif para.xpath(lowerstation_xpath, namespaces=ns):\n",
    "        return 'lower'\n",
    "    else:\n",
    "        return 'na'\n",
    "\n",
    "\n",
    "def is_upper(para):\n",
    "    if para.xpath(first_token_para_xpath, namespaces=ns):\n",
    "        if para.xpath(first_token_para_xpath, namespaces=ns)[0].text.isupper():\n",
    "            return 'station'\n",
    "        else: \n",
    "            return 'new_line'\n",
    "\n",
    "\n",
    "for i, para in enumerate(et.xpath('//w:p', namespaces=ns)):\n",
    "    text = para.xpath('./w:r/w:t', namespaces=ns)\n",
    "    description = \" \".join([t.text for t in text]) \n",
    "    if is_upper(para) == 'station':\n",
    "        if station_type(para) =='main':\n",
    "            mainstation = para.xpath(mainstation_xpath, namespaces=ns)            \n",
    "            stations.at[i,'station'] = mainstation[0].text\n",
    "            stations.at[i,'type'] = 'main'\n",
    "            print(\"MAIN:\", mainstation[0].text)\n",
    "        elif station_type(para) =='lower':\n",
    "            lowerstation = para.xpath(lowerstation_xpath, namespaces=ns)\n",
    "            stations.at[i,'station'] = lowerstation[0].text\n",
    "            stations.at[i,'type'] = 'secondary'\n",
    "            print(\"SUB:\", lowerstation[0].text)\n",
    "    else:\n",
    "        stations.at[i,'station'] = '-'\n",
    "        stations.at[i,'type'] = '-'\n",
    "    stations.at[i,'description'] = description\n",
    "    print(\"DESCRIPTION:\", description)\n",
    "    print()\n",
    "\n",
    "\n",
    "#stations.head(5)\n",
    "stations.to_csv('output.csv')\n",
    "\n",
    "\n",
    "##notes: \n",
    "#\"ABERDARE JUNCTION  see ABERCYNON.\" (\"JUNCTION\" in document.xml isn't marked-up correctly)\n",
    "#\"Bridge over line near Schoolhill ticket platform (ibid 8 June 1895). Separate structure or station used as collection point for...\" (\"Bridge\" in document.xml isn't marked-up correctly)\n",
    "    \n",
    "    \n"
   ]
  },
  {
   "cell_type": "code",
   "execution_count": 30,
   "metadata": {},
   "outputs": [
    {
     "output_type": "stream",
     "name": "stdout",
     "text": [
      "MAIN: ABBEY\n"
     ]
    },
    {
     "output_type": "error",
     "ename": "ValueError",
     "evalue": "cannot set using a multi-index selection indexer with a different length than the value",
     "traceback": [
      "\u001b[0;31m---------------------------------------------------------------------------\u001b[0m",
      "\u001b[0;31mKeyError\u001b[0m                                  Traceback (most recent call last)",
      "\u001b[0;32m~/anaconda3/lib/python3.7/site-packages/pandas/core/indexes/base.py\u001b[0m in \u001b[0;36mget_loc\u001b[0;34m(self, key, method, tolerance)\u001b[0m\n\u001b[1;32m   2888\u001b[0m             \u001b[0;32mtry\u001b[0m\u001b[0;34m:\u001b[0m\u001b[0;34m\u001b[0m\u001b[0;34m\u001b[0m\u001b[0m\n\u001b[0;32m-> 2889\u001b[0;31m                 \u001b[0;32mreturn\u001b[0m \u001b[0mself\u001b[0m\u001b[0;34m.\u001b[0m\u001b[0m_engine\u001b[0m\u001b[0;34m.\u001b[0m\u001b[0mget_loc\u001b[0m\u001b[0;34m(\u001b[0m\u001b[0mcasted_key\u001b[0m\u001b[0;34m)\u001b[0m\u001b[0;34m\u001b[0m\u001b[0;34m\u001b[0m\u001b[0m\n\u001b[0m\u001b[1;32m   2890\u001b[0m             \u001b[0;32mexcept\u001b[0m \u001b[0mKeyError\u001b[0m \u001b[0;32mas\u001b[0m \u001b[0merr\u001b[0m\u001b[0;34m:\u001b[0m\u001b[0;34m\u001b[0m\u001b[0;34m\u001b[0m\u001b[0m\n",
      "\u001b[0;32mpandas/_libs/index.pyx\u001b[0m in \u001b[0;36mpandas._libs.index.IndexEngine.get_loc\u001b[0;34m()\u001b[0m\n",
      "\u001b[0;32mpandas/_libs/index.pyx\u001b[0m in \u001b[0;36mpandas._libs.index.IndexEngine.get_loc\u001b[0;34m()\u001b[0m\n",
      "\u001b[0;32mpandas/_libs/hashtable_class_helper.pxi\u001b[0m in \u001b[0;36mpandas._libs.hashtable.PyObjectHashTable.get_item\u001b[0;34m()\u001b[0m\n",
      "\u001b[0;32mpandas/_libs/hashtable_class_helper.pxi\u001b[0m in \u001b[0;36mpandas._libs.hashtable.PyObjectHashTable.get_item\u001b[0;34m()\u001b[0m\n",
      "\u001b[0;31mKeyError\u001b[0m: 'rail_company'",
      "\nThe above exception was the direct cause of the following exception:\n",
      "\u001b[0;31mKeyError\u001b[0m                                  Traceback (most recent call last)",
      "\u001b[0;32m~/anaconda3/lib/python3.7/site-packages/pandas/core/frame.py\u001b[0m in \u001b[0;36m_set_value\u001b[0;34m(self, index, col, value, takeable)\u001b[0m\n\u001b[1;32m   3141\u001b[0m \u001b[0;34m\u001b[0m\u001b[0m\n\u001b[0;32m-> 3142\u001b[0;31m             \u001b[0mseries\u001b[0m \u001b[0;34m=\u001b[0m \u001b[0mself\u001b[0m\u001b[0;34m.\u001b[0m\u001b[0m_get_item_cache\u001b[0m\u001b[0;34m(\u001b[0m\u001b[0mcol\u001b[0m\u001b[0;34m)\u001b[0m\u001b[0;34m\u001b[0m\u001b[0;34m\u001b[0m\u001b[0m\n\u001b[0m\u001b[1;32m   3143\u001b[0m             \u001b[0mengine\u001b[0m \u001b[0;34m=\u001b[0m \u001b[0mself\u001b[0m\u001b[0;34m.\u001b[0m\u001b[0mindex\u001b[0m\u001b[0;34m.\u001b[0m\u001b[0m_engine\u001b[0m\u001b[0;34m\u001b[0m\u001b[0;34m\u001b[0m\u001b[0m\n",
      "\u001b[0;32m~/anaconda3/lib/python3.7/site-packages/pandas/core/generic.py\u001b[0m in \u001b[0;36m_get_item_cache\u001b[0;34m(self, item)\u001b[0m\n\u001b[1;32m   3530\u001b[0m \u001b[0;34m\u001b[0m\u001b[0m\n\u001b[0;32m-> 3531\u001b[0;31m             \u001b[0mloc\u001b[0m \u001b[0;34m=\u001b[0m \u001b[0mself\u001b[0m\u001b[0;34m.\u001b[0m\u001b[0mcolumns\u001b[0m\u001b[0;34m.\u001b[0m\u001b[0mget_loc\u001b[0m\u001b[0;34m(\u001b[0m\u001b[0mitem\u001b[0m\u001b[0;34m)\u001b[0m\u001b[0;34m\u001b[0m\u001b[0;34m\u001b[0m\u001b[0m\n\u001b[0m\u001b[1;32m   3532\u001b[0m             \u001b[0mvalues\u001b[0m \u001b[0;34m=\u001b[0m \u001b[0mself\u001b[0m\u001b[0;34m.\u001b[0m\u001b[0m_mgr\u001b[0m\u001b[0;34m.\u001b[0m\u001b[0miget\u001b[0m\u001b[0;34m(\u001b[0m\u001b[0mloc\u001b[0m\u001b[0;34m)\u001b[0m\u001b[0;34m\u001b[0m\u001b[0;34m\u001b[0m\u001b[0m\n",
      "\u001b[0;32m~/anaconda3/lib/python3.7/site-packages/pandas/core/indexes/base.py\u001b[0m in \u001b[0;36mget_loc\u001b[0;34m(self, key, method, tolerance)\u001b[0m\n\u001b[1;32m   2890\u001b[0m             \u001b[0;32mexcept\u001b[0m \u001b[0mKeyError\u001b[0m \u001b[0;32mas\u001b[0m \u001b[0merr\u001b[0m\u001b[0;34m:\u001b[0m\u001b[0;34m\u001b[0m\u001b[0;34m\u001b[0m\u001b[0m\n\u001b[0;32m-> 2891\u001b[0;31m                 \u001b[0;32mraise\u001b[0m \u001b[0mKeyError\u001b[0m\u001b[0;34m(\u001b[0m\u001b[0mkey\u001b[0m\u001b[0;34m)\u001b[0m \u001b[0;32mfrom\u001b[0m \u001b[0merr\u001b[0m\u001b[0;34m\u001b[0m\u001b[0;34m\u001b[0m\u001b[0m\n\u001b[0m\u001b[1;32m   2892\u001b[0m \u001b[0;34m\u001b[0m\u001b[0m\n",
      "\u001b[0;31mKeyError\u001b[0m: 'rail_company'",
      "\nDuring handling of the above exception, another exception occurred:\n",
      "\u001b[0;31mValueError\u001b[0m                                Traceback (most recent call last)",
      "\u001b[0;32m<ipython-input-30-11a80f539222>\u001b[0m in \u001b[0;36m<module>\u001b[0;34m\u001b[0m\n\u001b[1;32m     46\u001b[0m         \u001b[0mstations\u001b[0m\u001b[0;34m.\u001b[0m\u001b[0mat\u001b[0m\u001b[0;34m[\u001b[0m\u001b[0mi\u001b[0m\u001b[0;34m,\u001b[0m\u001b[0;34m'station'\u001b[0m\u001b[0;34m]\u001b[0m \u001b[0;34m=\u001b[0m \u001b[0;34m'-'\u001b[0m\u001b[0;34m\u001b[0m\u001b[0;34m\u001b[0m\u001b[0m\n\u001b[1;32m     47\u001b[0m         \u001b[0mstations\u001b[0m\u001b[0;34m.\u001b[0m\u001b[0mat\u001b[0m\u001b[0;34m[\u001b[0m\u001b[0mi\u001b[0m\u001b[0;34m,\u001b[0m\u001b[0;34m'type'\u001b[0m\u001b[0;34m]\u001b[0m \u001b[0;34m=\u001b[0m \u001b[0;34m'-'\u001b[0m\u001b[0;34m\u001b[0m\u001b[0;34m\u001b[0m\u001b[0m\n\u001b[0;32m---> 48\u001b[0;31m     \u001b[0mstations\u001b[0m\u001b[0;34m.\u001b[0m\u001b[0mat\u001b[0m\u001b[0;34m[\u001b[0m\u001b[0mi\u001b[0m\u001b[0;34m,\u001b[0m\u001b[0;34m'rail_company'\u001b[0m\u001b[0;34m]\u001b[0m \u001b[0;34m=\u001b[0m \u001b[0mrail_company\u001b[0m\u001b[0;34m(\u001b[0m\u001b[0mdescription\u001b[0m\u001b[0;34m)\u001b[0m\u001b[0;34m\u001b[0m\u001b[0;34m\u001b[0m\u001b[0m\n\u001b[0m\u001b[1;32m     49\u001b[0m     \u001b[0mstations\u001b[0m\u001b[0;34m.\u001b[0m\u001b[0mat\u001b[0m\u001b[0;34m[\u001b[0m\u001b[0mi\u001b[0m\u001b[0;34m,\u001b[0m\u001b[0;34m'description'\u001b[0m\u001b[0;34m]\u001b[0m \u001b[0;34m=\u001b[0m \u001b[0mdescription\u001b[0m\u001b[0;34m\u001b[0m\u001b[0;34m\u001b[0m\u001b[0m\n\u001b[1;32m     50\u001b[0m     \u001b[0mprint\u001b[0m\u001b[0;34m(\u001b[0m\u001b[0;34m\"DESCRIPTION:\"\u001b[0m\u001b[0;34m,\u001b[0m \u001b[0mdescription\u001b[0m\u001b[0;34m)\u001b[0m\u001b[0;34m\u001b[0m\u001b[0;34m\u001b[0m\u001b[0m\n",
      "\u001b[0;32m~/anaconda3/lib/python3.7/site-packages/pandas/core/indexing.py\u001b[0m in \u001b[0;36m__setitem__\u001b[0;34m(self, key, value)\u001b[0m\n\u001b[1;32m   2089\u001b[0m             \u001b[0;32mreturn\u001b[0m\u001b[0;34m\u001b[0m\u001b[0;34m\u001b[0m\u001b[0m\n\u001b[1;32m   2090\u001b[0m \u001b[0;34m\u001b[0m\u001b[0m\n\u001b[0;32m-> 2091\u001b[0;31m         \u001b[0;32mreturn\u001b[0m \u001b[0msuper\u001b[0m\u001b[0;34m(\u001b[0m\u001b[0;34m)\u001b[0m\u001b[0;34m.\u001b[0m\u001b[0m__setitem__\u001b[0m\u001b[0;34m(\u001b[0m\u001b[0mkey\u001b[0m\u001b[0;34m,\u001b[0m \u001b[0mvalue\u001b[0m\u001b[0;34m)\u001b[0m\u001b[0;34m\u001b[0m\u001b[0;34m\u001b[0m\u001b[0m\n\u001b[0m\u001b[1;32m   2092\u001b[0m \u001b[0;34m\u001b[0m\u001b[0m\n\u001b[1;32m   2093\u001b[0m \u001b[0;34m\u001b[0m\u001b[0m\n",
      "\u001b[0;32m~/anaconda3/lib/python3.7/site-packages/pandas/core/indexing.py\u001b[0m in \u001b[0;36m__setitem__\u001b[0;34m(self, key, value)\u001b[0m\n\u001b[1;32m   2040\u001b[0m             \u001b[0;32mraise\u001b[0m \u001b[0mValueError\u001b[0m\u001b[0;34m(\u001b[0m\u001b[0;34m\"Not enough indexers for scalar access (setting)!\"\u001b[0m\u001b[0;34m)\u001b[0m\u001b[0;34m\u001b[0m\u001b[0;34m\u001b[0m\u001b[0m\n\u001b[1;32m   2041\u001b[0m \u001b[0;34m\u001b[0m\u001b[0m\n\u001b[0;32m-> 2042\u001b[0;31m         \u001b[0mself\u001b[0m\u001b[0;34m.\u001b[0m\u001b[0mobj\u001b[0m\u001b[0;34m.\u001b[0m\u001b[0m_set_value\u001b[0m\u001b[0;34m(\u001b[0m\u001b[0;34m*\u001b[0m\u001b[0mkey\u001b[0m\u001b[0;34m,\u001b[0m \u001b[0mvalue\u001b[0m\u001b[0;34m=\u001b[0m\u001b[0mvalue\u001b[0m\u001b[0;34m,\u001b[0m \u001b[0mtakeable\u001b[0m\u001b[0;34m=\u001b[0m\u001b[0mself\u001b[0m\u001b[0;34m.\u001b[0m\u001b[0m_takeable\u001b[0m\u001b[0;34m)\u001b[0m\u001b[0;34m\u001b[0m\u001b[0;34m\u001b[0m\u001b[0m\n\u001b[0m\u001b[1;32m   2043\u001b[0m \u001b[0;34m\u001b[0m\u001b[0m\n\u001b[1;32m   2044\u001b[0m \u001b[0;34m\u001b[0m\u001b[0m\n",
      "\u001b[0;32m~/anaconda3/lib/python3.7/site-packages/pandas/core/frame.py\u001b[0m in \u001b[0;36m_set_value\u001b[0;34m(self, index, col, value, takeable)\u001b[0m\n\u001b[1;32m   3153\u001b[0m                 \u001b[0mself\u001b[0m\u001b[0;34m.\u001b[0m\u001b[0miloc\u001b[0m\u001b[0;34m[\u001b[0m\u001b[0mindex\u001b[0m\u001b[0;34m,\u001b[0m \u001b[0mcol\u001b[0m\u001b[0;34m]\u001b[0m \u001b[0;34m=\u001b[0m \u001b[0mvalue\u001b[0m\u001b[0;34m\u001b[0m\u001b[0;34m\u001b[0m\u001b[0m\n\u001b[1;32m   3154\u001b[0m             \u001b[0;32melse\u001b[0m\u001b[0;34m:\u001b[0m\u001b[0;34m\u001b[0m\u001b[0;34m\u001b[0m\u001b[0m\n\u001b[0;32m-> 3155\u001b[0;31m                 \u001b[0mself\u001b[0m\u001b[0;34m.\u001b[0m\u001b[0mloc\u001b[0m\u001b[0;34m[\u001b[0m\u001b[0mindex\u001b[0m\u001b[0;34m,\u001b[0m \u001b[0mcol\u001b[0m\u001b[0;34m]\u001b[0m \u001b[0;34m=\u001b[0m \u001b[0mvalue\u001b[0m\u001b[0;34m\u001b[0m\u001b[0;34m\u001b[0m\u001b[0m\n\u001b[0m\u001b[1;32m   3156\u001b[0m             \u001b[0mself\u001b[0m\u001b[0;34m.\u001b[0m\u001b[0m_item_cache\u001b[0m\u001b[0;34m.\u001b[0m\u001b[0mpop\u001b[0m\u001b[0;34m(\u001b[0m\u001b[0mcol\u001b[0m\u001b[0;34m,\u001b[0m \u001b[0;32mNone\u001b[0m\u001b[0;34m)\u001b[0m\u001b[0;34m\u001b[0m\u001b[0;34m\u001b[0m\u001b[0m\n\u001b[1;32m   3157\u001b[0m \u001b[0;34m\u001b[0m\u001b[0m\n",
      "\u001b[0;32m~/anaconda3/lib/python3.7/site-packages/pandas/core/indexing.py\u001b[0m in \u001b[0;36m__setitem__\u001b[0;34m(self, key, value)\u001b[0m\n\u001b[1;32m    668\u001b[0m \u001b[0;34m\u001b[0m\u001b[0m\n\u001b[1;32m    669\u001b[0m         \u001b[0miloc\u001b[0m \u001b[0;34m=\u001b[0m \u001b[0mself\u001b[0m \u001b[0;32mif\u001b[0m \u001b[0mself\u001b[0m\u001b[0;34m.\u001b[0m\u001b[0mname\u001b[0m \u001b[0;34m==\u001b[0m \u001b[0;34m\"iloc\"\u001b[0m \u001b[0;32melse\u001b[0m \u001b[0mself\u001b[0m\u001b[0;34m.\u001b[0m\u001b[0mobj\u001b[0m\u001b[0;34m.\u001b[0m\u001b[0miloc\u001b[0m\u001b[0;34m\u001b[0m\u001b[0;34m\u001b[0m\u001b[0m\n\u001b[0;32m--> 670\u001b[0;31m         \u001b[0miloc\u001b[0m\u001b[0;34m.\u001b[0m\u001b[0m_setitem_with_indexer\u001b[0m\u001b[0;34m(\u001b[0m\u001b[0mindexer\u001b[0m\u001b[0;34m,\u001b[0m \u001b[0mvalue\u001b[0m\u001b[0;34m)\u001b[0m\u001b[0;34m\u001b[0m\u001b[0;34m\u001b[0m\u001b[0m\n\u001b[0m\u001b[1;32m    671\u001b[0m \u001b[0;34m\u001b[0m\u001b[0m\n\u001b[1;32m    672\u001b[0m     \u001b[0;32mdef\u001b[0m \u001b[0m_validate_key\u001b[0m\u001b[0;34m(\u001b[0m\u001b[0mself\u001b[0m\u001b[0;34m,\u001b[0m \u001b[0mkey\u001b[0m\u001b[0;34m,\u001b[0m \u001b[0maxis\u001b[0m\u001b[0;34m:\u001b[0m \u001b[0mint\u001b[0m\u001b[0;34m)\u001b[0m\u001b[0;34m:\u001b[0m\u001b[0;34m\u001b[0m\u001b[0;34m\u001b[0m\u001b[0m\n",
      "\u001b[0;32m~/anaconda3/lib/python3.7/site-packages/pandas/core/indexing.py\u001b[0m in \u001b[0;36m_setitem_with_indexer\u001b[0;34m(self, indexer, value)\u001b[0m\n\u001b[1;32m   1599\u001b[0m                             \u001b[0mindexer\u001b[0m\u001b[0;34m,\u001b[0m \u001b[0mself\u001b[0m\u001b[0;34m.\u001b[0m\u001b[0mobj\u001b[0m\u001b[0;34m.\u001b[0m\u001b[0maxes\u001b[0m\u001b[0;34m\u001b[0m\u001b[0;34m\u001b[0m\u001b[0m\n\u001b[1;32m   1600\u001b[0m                         )\n\u001b[0;32m-> 1601\u001b[0;31m                         \u001b[0mself\u001b[0m\u001b[0;34m.\u001b[0m\u001b[0m_setitem_with_indexer\u001b[0m\u001b[0;34m(\u001b[0m\u001b[0mnew_indexer\u001b[0m\u001b[0;34m,\u001b[0m \u001b[0mvalue\u001b[0m\u001b[0;34m)\u001b[0m\u001b[0;34m\u001b[0m\u001b[0;34m\u001b[0m\u001b[0m\n\u001b[0m\u001b[1;32m   1602\u001b[0m \u001b[0;34m\u001b[0m\u001b[0m\n\u001b[1;32m   1603\u001b[0m                         \u001b[0;32mreturn\u001b[0m\u001b[0;34m\u001b[0m\u001b[0;34m\u001b[0m\u001b[0m\n",
      "\u001b[0;32m~/anaconda3/lib/python3.7/site-packages/pandas/core/indexing.py\u001b[0m in \u001b[0;36m_setitem_with_indexer\u001b[0;34m(self, indexer, value)\u001b[0m\n\u001b[1;32m   1665\u001b[0m                     \u001b[0;31m# Exclude zero-len for e.g. boolean masking that is all-false\u001b[0m\u001b[0;34m\u001b[0m\u001b[0;34m\u001b[0m\u001b[0;34m\u001b[0m\u001b[0m\n\u001b[1;32m   1666\u001b[0m                     raise ValueError(\n\u001b[0;32m-> 1667\u001b[0;31m                         \u001b[0;34m\"cannot set using a multi-index \"\u001b[0m\u001b[0;34m\u001b[0m\u001b[0;34m\u001b[0m\u001b[0m\n\u001b[0m\u001b[1;32m   1668\u001b[0m                         \u001b[0;34m\"selection indexer with a different \"\u001b[0m\u001b[0;34m\u001b[0m\u001b[0;34m\u001b[0m\u001b[0m\n\u001b[1;32m   1669\u001b[0m                         \u001b[0;34m\"length than the value\"\u001b[0m\u001b[0;34m\u001b[0m\u001b[0;34m\u001b[0m\u001b[0m\n",
      "\u001b[0;31mValueError\u001b[0m: cannot set using a multi-index selection indexer with a different length than the value"
     ]
    }
   ],
   "source": [
    "import re\n",
    "mainstation_xpath = './w:r[1][not(w:rPr/w:sz[@w:val=\"16\"])]/w:t[1]'\n",
    "lowerstation_xpath = './w:r[1][not(w:rPr/w:sz[@w:val=\"18\"])]/w:t[1]'\n",
    "first_token_para_xpath = './w:r[1]/w:t[1]'\n",
    "\n",
    "stations = pd.DataFrame(columns=['station','type','description'])\n",
    "\n",
    "def station_type (para):\n",
    "    #if para.xpath(first_token_para_xpath, namespaces=ns)[0].text.islower() == 'True':\n",
    "        #return 'na'\n",
    "    if para.xpath(mainstation_xpath, namespaces=ns):\n",
    "        return 'main'        \n",
    "    elif para.xpath(lowerstation_xpath, namespaces=ns):\n",
    "        return 'lower'\n",
    "    else:\n",
    "        return 'na'\n",
    "\n",
    "\n",
    "def is_upper(para):\n",
    "    if para.xpath(first_token_para_xpath, namespaces=ns):\n",
    "        if para.xpath(first_token_para_xpath, namespaces=ns)[0].text.isupper():\n",
    "            return 'station'\n",
    "        else: \n",
    "            return 'new_line'\n",
    "\n",
    "def rail_company(text):\n",
    "    rail_company = re.findall(r'\\[[a-zA-Z]+\\]', text)\n",
    "    return rail_company\n",
    "\n",
    "\n",
    "for i, para in enumerate(et.xpath('//w:p', namespaces=ns)):\n",
    "    text = para.xpath('./w:r/w:t', namespaces=ns)\n",
    "    description = \" \".join([t.text for t in text]) \n",
    "    if is_upper(para) == 'station':\n",
    "        if station_type(para) =='main':\n",
    "            mainstation = para.xpath(mainstation_xpath, namespaces=ns)            \n",
    "            stations.at[i,'station'] = mainstation[0].text\n",
    "            stations.at[i,'type'] = 'main'\n",
    "            print(\"MAIN:\", mainstation[0].text)\n",
    "        elif station_type(para) =='lower':\n",
    "            lowerstation = para.xpath(lowerstation_xpath, namespaces=ns)\n",
    "            stations.at[i,'station'] = lowerstation[0].text\n",
    "            stations.at[i,'type'] = 'secondary'\n",
    "            print(\"SUB:\", lowerstation[0].text)\n",
    "    else:\n",
    "        stations.at[i,'station'] = '-'\n",
    "        stations.at[i,'type'] = '-'\n",
    "    stations.at[i,'rail_company'] = rail_company(description)\n",
    "    stations.at[i,'description'] = description\n",
    "    print(\"DESCRIPTION:\", description)\n",
    "    print()\n",
    "\n",
    "\n",
    "#stations.head(5)\n",
    "stations.to_csv('output.csv')\n",
    "\n",
    "\n",
    "##notes: \n",
    "#\"ABERDARE JUNCTION  see ABERCYNON.\" (\"JUNCTION\" in document.xml isn't marked-up correctly)\n",
    "#\"Bridge over line near Schoolhill ticket platform (ibid 8 June 1895). Separate structure or station used as collection point for...\" (\"Bridge\" in document.xml isn't marked-up correctly)\n",
    "    \n",
    "    \n"
   ]
  },
  {
   "cell_type": "code",
   "execution_count": null,
   "metadata": {},
   "outputs": [],
   "source": []
  }
 ],
 "metadata": {
  "kernelspec": {
   "name": "python3",
   "display_name": "Python 3.7.1 64-bit ('base': conda)",
   "metadata": {
    "interpreter": {
     "hash": "f966da9536c3faa86ef2c2f0d127179eec9b161a24d22fffbb1b8d6f1300bfc7"
    }
   }
  },
  "language_info": {
   "codemirror_mode": {
    "name": "ipython",
    "version": 3
   },
   "file_extension": ".py",
   "mimetype": "text/x-python",
   "name": "python",
   "nbconvert_exporter": "python",
   "pygments_lexer": "ipython3",
   "version": "3.7.1-final"
  }
 },
 "nbformat": 4,
 "nbformat_minor": 4
}