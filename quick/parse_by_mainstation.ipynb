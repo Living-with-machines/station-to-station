{
 "cells": [
  {
   "cell_type": "code",
   "execution_count": 7,
   "metadata": {},
   "outputs": [],
   "source": [
    "import xml.etree.ElementTree as ET\n",
    "import pandas as pd\n",
    "import zipfile\n",
    "import re\n",
    "import json\n",
    "import dateparser\n",
    "import collections\n",
    "from lxml import etree\n",
    "from xml.etree.ElementTree import XML\n",
    "from random import shuffle\n",
    "docxFileName = \"quick_section4.docx\"\n",
    "docxZip = zipfile.ZipFile(docxFileName)\n",
    "documentXML = docxZip.read('word/document.xml')\n",
    "et = etree.XML(documentXML)\n",
    "ns = {'w': 'http://schemas.openxmlformats.org/wordprocessingml/2006/main'}"
   ]
  },
  {
   "cell_type": "code",
   "execution_count": 23,
   "metadata": {},
   "outputs": [
    {
     "output_type": "stream",
     "name": "stdout",
     "text": [
      "PORTSMOUTH\nPORTSMOUTH ARMS\nPORTSOY\nPORTSWOOD\nPORTWOOD\nPOSSIL\nPOST OFFICE\nPOSTLAND\nPOTTER HEIGHAM\nPOTTERHANWORTH\nPOTTERHILL\nPOTTERS BAR\nPOTTERY SIDING\nPOTTO\nPOTTON\nPOULTON LANE\nPOULTON\nPOULTON-LE-SANDS\nPOWDERHALL\nPOWDERHAM \nPOWERSTOCK\nPOWFOOT\nPOYLE\nPOYNTON\nPRAED STREET\nPRAZE\nPREES\nPREES HEATH MILITARY CAMP \nPREESALL\nPRESCOT\nPRESCOTT SIDING\nPRESGWYN\nPRESTATYN\nPRESTBURY\nPRESTEIGN\nPRESTHOPE\nPRESTON\nPRESTON BROOK\nPRESTON JUNCTION\nPRESTON PARK\nPRESTON ROAD\nPRESTON ROAD\nPRESTON WEST END GATE\nPRESTONPANS\nPRESTWICH\nPRESTWICK\nPRICKWILLOW\nPRIESTFIELD\nPRIESTHILL & DARNLEY\nPRIMROSE HILL\nPRINCE OF WALES\nPRINCE REGENT\nPRINCES DOCK\nPRINCES END\nPRINCES RISBOROUGH\nPRINCES STREET\nPRINCETOWN\nPRIORY\nPRIORY HALT\nPRITCHARD(S) SIDING\nPRITTLEWELL\nPRIVETT\nPRIVETT\nPRIZE-FIGHTS\nPROBUS & LADOCK\nPROSPECT HILL\n"
     ]
    }
   ],
   "source": [
    "mainstation_xpath = './w:r[1][not(w:rPr/w:sz[@w:val=\"16\"])][..//w:b]/w:t[1]'\n",
    "first_token_para_xpath = './w:r[1]/w:t[1]'\n",
    "\n",
    "stations = pd.DataFrame(columns=['station','type','description'])\n",
    "\n",
    "def is_upper(para):\n",
    "    if para.xpath(first_token_para_xpath, namespaces=ns):\n",
    "        if para.xpath(first_token_para_xpath, namespaces=ns)[0].text.isupper():\n",
    "            return 'station'\n",
    "        else: \n",
    "            return 'new_line'\n",
    "\n",
    "mainstation = \"\"\n",
    "initial_letter = \"\"\n",
    "lowerstation = \"\"\n",
    "dText = dict()\n",
    "counter = 0\n",
    "for i, para in enumerate(et.xpath('//w:p', namespaces=ns)):\n",
    "    text = para.xpath('./w:r/w:t', namespaces=ns)\n",
    "    description = \" \".join([t.text for t in text])\n",
    "    if is_upper(para) == 'station':\n",
    "        mainxpath = para.xpath(mainstation_xpath, namespaces=ns)\n",
    "        # Filter out wrongly formatted substations:\n",
    "        if mainxpath and len(mainxpath[0].text) > 1 and not mainxpath[0].text.startswith(initial_letter + \" \"):\n",
    "            print(mainxpath[0].text)\n",
    "            counter += 1\n",
    "            mainstation = mainxpath[0].text\n",
    "            initial_letter = mainstation[0]\n",
    "    description = description.lstrip('\\x01').strip()\n",
    "    if description:\n",
    "        if (counter, mainstation) in dText:\n",
    "            dText[(counter, mainstation)].append(description)# += \"\\n\" + description\n",
    "        else:\n",
    "            description = re.sub('^(' + re.escape(mainstation) + ')', '\\1', description).lstrip('\\x01').strip()\n",
    "            description = re.sub(r\" +\", \" \", description).lstrip('\\x01').strip()\n",
    "            if description:\n",
    "                dText[(counter, mainstation)] = [description]"
   ]
  },
  {
   "cell_type": "code",
   "execution_count": 9,
   "metadata": {},
   "outputs": [],
   "source": [
    "dStations = collections.OrderedDict(dText)"
   ]
  },
  {
   "cell_type": "code",
   "execution_count": 10,
   "metadata": {},
   "outputs": [],
   "source": [
    "indices = []\n",
    "stations = []\n",
    "descriptions = []\n",
    "for k in dStations:\n",
    "    indices.append(k[0])\n",
    "    stations.append(k[1])\n",
    "    descriptions.append(dStations[k])"
   ]
  },
  {
   "cell_type": "code",
   "execution_count": 11,
   "metadata": {},
   "outputs": [],
   "source": [
    "stationdf = pd.DataFrame(columns=[\"Index\", \"Station\", \"Description\"])\n",
    "stationdf[\"Index\"] = indices\n",
    "stationdf[\"Station\"] = stations\n",
    "stationdf[\"Description\"] = descriptions\n",
    "stationdf = stationdf.set_index(\"Index\")"
   ]
  },
  {
   "cell_type": "code",
   "execution_count": 15,
   "metadata": {},
   "outputs": [
    {
     "output_type": "execute_result",
     "data": {
      "text/plain": [
       "                          Station  \\\n",
       "Index                               \n",
       "1                      PORTSMOUTH   \n",
       "2           WATERING ISLAND JETTY   \n",
       "3                 PORTSMOUTH ARMS   \n",
       "4                         PORTSOY   \n",
       "5                       PORTSWOOD   \n",
       "6                        PORTWOOD   \n",
       "7                          POSSIL   \n",
       "8                     POST OFFICE   \n",
       "9                        POSTLAND   \n",
       "10                 POTTER HEIGHAM   \n",
       "11                 POTTERHANWORTH   \n",
       "12                     POTTERHILL   \n",
       "13                    POTTERS BAR   \n",
       "14                 POTTERY SIDING   \n",
       "15                          POTTO   \n",
       "16                         POTTON   \n",
       "17                   POULTON LANE   \n",
       "18                        POULTON   \n",
       "19               POULTON-LE-SANDS   \n",
       "20                     POWDERHALL   \n",
       "21                     POWDERHAM    \n",
       "22                     POWERSTOCK   \n",
       "23                        POWFOOT   \n",
       "24                          POYLE   \n",
       "25                        POYNTON   \n",
       "26                   PRAED STREET   \n",
       "27                          PRAZE   \n",
       "28                          PREES   \n",
       "29     PREES HEATH MILITARY CAMP    \n",
       "30                       PREESALL   \n",
       "31                        PRESCOT   \n",
       "32                PRESCOTT SIDING   \n",
       "33                       PRESGWYN   \n",
       "34                      PRESTATYN   \n",
       "35                      PRESTBURY   \n",
       "36                      PRESTEIGN   \n",
       "37                      PRESTHOPE   \n",
       "38                        PRESTON   \n",
       "39                  PRESTON BROOK   \n",
       "40               PRESTON JUNCTION   \n",
       "\n",
       "                                             Description  \n",
       "Index                                                     \n",
       "1      [[LSW/LBSC], P & SOUTHSEA   op 14 June 1847  (...  \n",
       "2      [put out of use when access pier damaged by en...  \n",
       "3      [[LSW]: op March 1855?; letter (25 July 1854) ...  \n",
       "4      [[GNS] op 30 July 1859**; re-sited when line e...  \n",
       "5      [op 1 May 1861* (Hants Advertiser 4 th ) ; clo...  \n",
       "6                               [– see under STOCKPORT.]  \n",
       "7      [[Cal] op to workmen 1 February 1897 (U) , to ...  \n",
       "8                                      [– see ST PAULS.]  \n",
       "9      [[GN/GE] op 2 September 1867* (GN) as CROWLAND...  \n",
       "10     [[MGN], POTTER HEIGHAM   op 17 January 1880  (...  \n",
       "11     [[GN/GE] op 1 August 1882 (GN/GE) ; clo 2 May ...  \n",
       "12                                [– see under PAISLEY.]  \n",
       "13     [[GN] op 7 August 1850 (T 6 th & 8 th ) as P B...  \n",
       "14                                 [[GW] – see DUNBALL.]  \n",
       "15     [[NE] op 3 March 1857**; clo 14 June 1954 (Cl) .]  \n",
       "16     [[Sandy & Potton] terminus on Biggleswade Road...  \n",
       "17                              [– see MORECAMBE [LNW].]  \n",
       "18     [-le-Fylde [PW], P CURVE   op 1 February 1909 ...  \n",
       "19                         [– see BARE LANE; MORECAMBE.]  \n",
       "20     [[NB] op 22 April 1895 (Edinburgh Evening News...  \n",
       "21     [[GW] (non-tt): special platforms here, near t...  \n",
       "22     [[GW] op 12 November 1857 (co n Bridport) ; cl...  \n",
       "23     [[LMS] (non-tt): ICI explosives factory worker...  \n",
       "24     [[GW]; {Staines Branch}, POYLE  op 1 June 1927...  \n",
       "25     [[LNW], P MIDWAY   op 24 November 1845** (just...  \n",
       "26                                   [– see PADDINGTON.]  \n",
       "27     [[GW] op 9 May 1887 (Cornish Tel 12 th ) ; clo...  \n",
       "28     [[LNW] op 1 September 1858 (co n Liverpool Mer...  \n",
       "29     [[LNW] (non-tt): exact dates ?; in use March 1...  \n",
       "30     [[KE] op 3 August 1908**; clo 31 March 1930 (L...  \n",
       "31     [[LNW] op 1 January 1872 (LNW Officers 6927, 7...  \n",
       "32     [[CMDP] op 21 November 1908**; clo 26 Septembe...  \n",
       "33     [[GW] op 14 October 1848 (Shrewsbury 13 th ) ;...  \n",
       "34     [[LNW] op 1 May 1848 (D&C 11; co n T 2 nd - li...  \n",
       "35     [[LNW] op 24 November 1845**; see 2003 May 18*...  \n",
       "36     [[GW] op 10 September 1875 (Brad Sh) ; clo 5 F...  \n",
       "37     [[GW] earliest use 4 September 1866 by Bridgno...  \n",
       "38     [near Torquay [GW] op 24 July 1911 (RCG) ; PLA...  \n",
       "39     [[LNW] op 4 July 1837 (co n Gore’s Liverpool G...  \n",
       "40     [– see EAGLESCLIFFE; LOWTON; TODD LANE JUNCTION.]  "
      ],
      "text/html": "<div>\n<style scoped>\n    .dataframe tbody tr th:only-of-type {\n        vertical-align: middle;\n    }\n\n    .dataframe tbody tr th {\n        vertical-align: top;\n    }\n\n    .dataframe thead th {\n        text-align: right;\n    }\n</style>\n<table border=\"1\" class=\"dataframe\">\n  <thead>\n    <tr style=\"text-align: right;\">\n      <th></th>\n      <th>Station</th>\n      <th>Description</th>\n    </tr>\n    <tr>\n      <th>Index</th>\n      <th></th>\n      <th></th>\n    </tr>\n  </thead>\n  <tbody>\n    <tr>\n      <th>1</th>\n      <td>PORTSMOUTH</td>\n      <td>[[LSW/LBSC], P &amp; SOUTHSEA   op 14 June 1847  (...</td>\n    </tr>\n    <tr>\n      <th>2</th>\n      <td>WATERING ISLAND JETTY</td>\n      <td>[put out of use when access pier damaged by en...</td>\n    </tr>\n    <tr>\n      <th>3</th>\n      <td>PORTSMOUTH ARMS</td>\n      <td>[[LSW]: op March 1855?; letter (25 July 1854) ...</td>\n    </tr>\n    <tr>\n      <th>4</th>\n      <td>PORTSOY</td>\n      <td>[[GNS] op 30 July 1859**; re-sited when line e...</td>\n    </tr>\n    <tr>\n      <th>5</th>\n      <td>PORTSWOOD</td>\n      <td>[op 1 May 1861* (Hants Advertiser 4 th ) ; clo...</td>\n    </tr>\n    <tr>\n      <th>6</th>\n      <td>PORTWOOD</td>\n      <td>[– see under STOCKPORT.]</td>\n    </tr>\n    <tr>\n      <th>7</th>\n      <td>POSSIL</td>\n      <td>[[Cal] op to workmen 1 February 1897 (U) , to ...</td>\n    </tr>\n    <tr>\n      <th>8</th>\n      <td>POST OFFICE</td>\n      <td>[– see ST PAULS.]</td>\n    </tr>\n    <tr>\n      <th>9</th>\n      <td>POSTLAND</td>\n      <td>[[GN/GE] op 2 September 1867* (GN) as CROWLAND...</td>\n    </tr>\n    <tr>\n      <th>10</th>\n      <td>POTTER HEIGHAM</td>\n      <td>[[MGN], POTTER HEIGHAM   op 17 January 1880  (...</td>\n    </tr>\n    <tr>\n      <th>11</th>\n      <td>POTTERHANWORTH</td>\n      <td>[[GN/GE] op 1 August 1882 (GN/GE) ; clo 2 May ...</td>\n    </tr>\n    <tr>\n      <th>12</th>\n      <td>POTTERHILL</td>\n      <td>[– see under PAISLEY.]</td>\n    </tr>\n    <tr>\n      <th>13</th>\n      <td>POTTERS BAR</td>\n      <td>[[GN] op 7 August 1850 (T 6 th &amp; 8 th ) as P B...</td>\n    </tr>\n    <tr>\n      <th>14</th>\n      <td>POTTERY SIDING</td>\n      <td>[[GW] – see DUNBALL.]</td>\n    </tr>\n    <tr>\n      <th>15</th>\n      <td>POTTO</td>\n      <td>[[NE] op 3 March 1857**; clo 14 June 1954 (Cl) .]</td>\n    </tr>\n    <tr>\n      <th>16</th>\n      <td>POTTON</td>\n      <td>[[Sandy &amp; Potton] terminus on Biggleswade Road...</td>\n    </tr>\n    <tr>\n      <th>17</th>\n      <td>POULTON LANE</td>\n      <td>[– see MORECAMBE [LNW].]</td>\n    </tr>\n    <tr>\n      <th>18</th>\n      <td>POULTON</td>\n      <td>[-le-Fylde [PW], P CURVE   op 1 February 1909 ...</td>\n    </tr>\n    <tr>\n      <th>19</th>\n      <td>POULTON-LE-SANDS</td>\n      <td>[– see BARE LANE; MORECAMBE.]</td>\n    </tr>\n    <tr>\n      <th>20</th>\n      <td>POWDERHALL</td>\n      <td>[[NB] op 22 April 1895 (Edinburgh Evening News...</td>\n    </tr>\n    <tr>\n      <th>21</th>\n      <td>POWDERHAM</td>\n      <td>[[GW] (non-tt): special platforms here, near t...</td>\n    </tr>\n    <tr>\n      <th>22</th>\n      <td>POWERSTOCK</td>\n      <td>[[GW] op 12 November 1857 (co n Bridport) ; cl...</td>\n    </tr>\n    <tr>\n      <th>23</th>\n      <td>POWFOOT</td>\n      <td>[[LMS] (non-tt): ICI explosives factory worker...</td>\n    </tr>\n    <tr>\n      <th>24</th>\n      <td>POYLE</td>\n      <td>[[GW]; {Staines Branch}, POYLE  op 1 June 1927...</td>\n    </tr>\n    <tr>\n      <th>25</th>\n      <td>POYNTON</td>\n      <td>[[LNW], P MIDWAY   op 24 November 1845** (just...</td>\n    </tr>\n    <tr>\n      <th>26</th>\n      <td>PRAED STREET</td>\n      <td>[– see PADDINGTON.]</td>\n    </tr>\n    <tr>\n      <th>27</th>\n      <td>PRAZE</td>\n      <td>[[GW] op 9 May 1887 (Cornish Tel 12 th ) ; clo...</td>\n    </tr>\n    <tr>\n      <th>28</th>\n      <td>PREES</td>\n      <td>[[LNW] op 1 September 1858 (co n Liverpool Mer...</td>\n    </tr>\n    <tr>\n      <th>29</th>\n      <td>PREES HEATH MILITARY CAMP</td>\n      <td>[[LNW] (non-tt): exact dates ?; in use March 1...</td>\n    </tr>\n    <tr>\n      <th>30</th>\n      <td>PREESALL</td>\n      <td>[[KE] op 3 August 1908**; clo 31 March 1930 (L...</td>\n    </tr>\n    <tr>\n      <th>31</th>\n      <td>PRESCOT</td>\n      <td>[[LNW] op 1 January 1872 (LNW Officers 6927, 7...</td>\n    </tr>\n    <tr>\n      <th>32</th>\n      <td>PRESCOTT SIDING</td>\n      <td>[[CMDP] op 21 November 1908**; clo 26 Septembe...</td>\n    </tr>\n    <tr>\n      <th>33</th>\n      <td>PRESGWYN</td>\n      <td>[[GW] op 14 October 1848 (Shrewsbury 13 th ) ;...</td>\n    </tr>\n    <tr>\n      <th>34</th>\n      <td>PRESTATYN</td>\n      <td>[[LNW] op 1 May 1848 (D&amp;C 11; co n T 2 nd - li...</td>\n    </tr>\n    <tr>\n      <th>35</th>\n      <td>PRESTBURY</td>\n      <td>[[LNW] op 24 November 1845**; see 2003 May 18*...</td>\n    </tr>\n    <tr>\n      <th>36</th>\n      <td>PRESTEIGN</td>\n      <td>[[GW] op 10 September 1875 (Brad Sh) ; clo 5 F...</td>\n    </tr>\n    <tr>\n      <th>37</th>\n      <td>PRESTHOPE</td>\n      <td>[[GW] earliest use 4 September 1866 by Bridgno...</td>\n    </tr>\n    <tr>\n      <th>38</th>\n      <td>PRESTON</td>\n      <td>[near Torquay [GW] op 24 July 1911 (RCG) ; PLA...</td>\n    </tr>\n    <tr>\n      <th>39</th>\n      <td>PRESTON BROOK</td>\n      <td>[[LNW] op 4 July 1837 (co n Gore’s Liverpool G...</td>\n    </tr>\n    <tr>\n      <th>40</th>\n      <td>PRESTON JUNCTION</td>\n      <td>[– see EAGLESCLIFFE; LOWTON; TODD LANE JUNCTION.]</td>\n    </tr>\n  </tbody>\n</table>\n</div>"
     },
     "metadata": {},
     "execution_count": 15
    }
   ],
   "source": [
    "word/document.xml')\n",
    "et = etree.XML(documentXML)\n",
    "ns = {'w': 'http://schemas.openxmlformats.org/wordprocessingml/2006/main'})"
   ]
  },
  {
   "cell_type": "code",
   "execution_count": 13,
   "metadata": {},
   "outputs": [],
   "source": [
    "stationdf.to_pickle('quick_processed.pkl')"
   ]
  },
  {
   "cell_type": "code",
   "execution_count": 14,
   "metadata": {},
   "outputs": [
    {
     "output_type": "error",
     "ename": "ValueError",
     "evalue": "Cannot take a larger sample than population when 'replace=False'",
     "traceback": [
      "\u001b[0;31m---------------------------------------------------------------------------\u001b[0m",
      "\u001b[0;31mValueError\u001b[0m                                Traceback (most recent call last)",
      "\u001b[0;32m<ipython-input-14-2ab9e0e0e7e1>\u001b[0m in \u001b[0;36m<module>\u001b[0;34m\u001b[0m\n\u001b[0;32m----> 1\u001b[0;31m \u001b[0mstationdf_sample\u001b[0m \u001b[0;34m=\u001b[0m \u001b[0mstationdf\u001b[0m\u001b[0;34m.\u001b[0m\u001b[0msample\u001b[0m\u001b[0;34m(\u001b[0m\u001b[0mn\u001b[0m\u001b[0;34m=\u001b[0m\u001b[0;36m100\u001b[0m\u001b[0;34m,\u001b[0m \u001b[0mrandom_state\u001b[0m\u001b[0;34m=\u001b[0m\u001b[0;36m42\u001b[0m\u001b[0;34m)\u001b[0m\u001b[0;34m\u001b[0m\u001b[0;34m\u001b[0m\u001b[0m\n\u001b[0m\u001b[1;32m      2\u001b[0m \u001b[0;34m\u001b[0m\u001b[0m\n\u001b[1;32m      3\u001b[0m \u001b[0;31m# Get 100 random entries:\u001b[0m\u001b[0;34m\u001b[0m\u001b[0;34m\u001b[0m\u001b[0;34m\u001b[0m\u001b[0m\n\u001b[1;32m      4\u001b[0m \u001b[0;32mfor\u001b[0m \u001b[0mi\u001b[0m\u001b[0;34m,\u001b[0m \u001b[0mrow\u001b[0m \u001b[0;32min\u001b[0m \u001b[0mstationdf_sample\u001b[0m\u001b[0;34m.\u001b[0m\u001b[0miterrows\u001b[0m\u001b[0;34m(\u001b[0m\u001b[0;34m)\u001b[0m\u001b[0;34m:\u001b[0m\u001b[0;34m\u001b[0m\u001b[0;34m\u001b[0m\u001b[0m\n\u001b[1;32m      5\u001b[0m     \u001b[0;32mwith\u001b[0m \u001b[0mopen\u001b[0m\u001b[0;34m(\u001b[0m\u001b[0;34m\"to_annotate/\"\u001b[0m \u001b[0;34m+\u001b[0m \u001b[0mstr\u001b[0m\u001b[0;34m(\u001b[0m\u001b[0mi\u001b[0m\u001b[0;34m)\u001b[0m \u001b[0;34m+\u001b[0m \u001b[0;34m\".txt\"\u001b[0m\u001b[0;34m,\u001b[0m \u001b[0;34m\"w\"\u001b[0m\u001b[0;34m)\u001b[0m \u001b[0;32mas\u001b[0m \u001b[0mfw\u001b[0m\u001b[0;34m:\u001b[0m\u001b[0;34m\u001b[0m\u001b[0;34m\u001b[0m\u001b[0m\n",
      "\u001b[0;32m~/opt/anaconda3/lib/python3.8/site-packages/pandas/core/generic.py\u001b[0m in \u001b[0;36msample\u001b[0;34m(self, n, frac, replace, weights, random_state, axis)\u001b[0m\n\u001b[1;32m   4991\u001b[0m             )\n\u001b[1;32m   4992\u001b[0m \u001b[0;34m\u001b[0m\u001b[0m\n\u001b[0;32m-> 4993\u001b[0;31m         \u001b[0mlocs\u001b[0m \u001b[0;34m=\u001b[0m \u001b[0mrs\u001b[0m\u001b[0;34m.\u001b[0m\u001b[0mchoice\u001b[0m\u001b[0;34m(\u001b[0m\u001b[0maxis_length\u001b[0m\u001b[0;34m,\u001b[0m \u001b[0msize\u001b[0m\u001b[0;34m=\u001b[0m\u001b[0mn\u001b[0m\u001b[0;34m,\u001b[0m \u001b[0mreplace\u001b[0m\u001b[0;34m=\u001b[0m\u001b[0mreplace\u001b[0m\u001b[0;34m,\u001b[0m \u001b[0mp\u001b[0m\u001b[0;34m=\u001b[0m\u001b[0mweights\u001b[0m\u001b[0;34m)\u001b[0m\u001b[0;34m\u001b[0m\u001b[0;34m\u001b[0m\u001b[0m\n\u001b[0m\u001b[1;32m   4994\u001b[0m         \u001b[0;32mreturn\u001b[0m \u001b[0mself\u001b[0m\u001b[0;34m.\u001b[0m\u001b[0mtake\u001b[0m\u001b[0;34m(\u001b[0m\u001b[0mlocs\u001b[0m\u001b[0;34m,\u001b[0m \u001b[0maxis\u001b[0m\u001b[0;34m=\u001b[0m\u001b[0maxis\u001b[0m\u001b[0;34m)\u001b[0m\u001b[0;34m\u001b[0m\u001b[0;34m\u001b[0m\u001b[0m\n\u001b[1;32m   4995\u001b[0m \u001b[0;34m\u001b[0m\u001b[0m\n",
      "\u001b[0;32mmtrand.pyx\u001b[0m in \u001b[0;36mnumpy.random.mtrand.RandomState.choice\u001b[0;34m()\u001b[0m\n",
      "\u001b[0;31mValueError\u001b[0m: Cannot take a larger sample than population when 'replace=False'"
     ]
    }
   ],
   "source": [
    "stationdf_sample = stationdf.sample(n=100, random_state=42)\n",
    "\n",
    "# Get 100 random entries:\n",
    "for i, row in stationdf_sample.iterrows():\n",
    "    with open(\"to_annotate/\" + str(i) + \".txt\", \"w\") as fw:\n",
    "        fw.write(\"[[[STATION: \" + row[\"Station\"] + \"]]]\")\n",
    "        for d in row[\"Description\"]:\n",
    "            fw.write(\"\\n\" + d)\n",
    "\n",
    "# Get 25 long entries:\n",
    "stationdf_sample = stationdf.sample(frac=1, random_state=42)\n",
    "counter = 1\n",
    "for i, row in stationdf_sample.iterrows():\n",
    "    if len(row['Description']) >= 10:\n",
    "        with open(\"to_annotate/\" + str(i) + \".txt\", \"w\") as fw:\n",
    "            fw.write(\"[[[STATION: \" + row[\"Station\"] + \"]]]\")\n",
    "            for d in row[\"Description\"]:\n",
    "                fw.write(\"\\n\" + d)\n",
    "        if counter >= 25:\n",
    "            break\n",
    "        counter += 1"
   ]
  },
  {
   "cell_type": "code",
   "execution_count": null,
   "metadata": {},
   "outputs": [],
   "source": []
  }
 ],
 "metadata": {
  "kernelspec": {
   "display_name": "Python 3",
   "language": "python",
   "name": "python3"
  },
  "language_info": {
   "codemirror_mode": {
    "name": "ipython",
    "version": 3
   },
   "file_extension": ".py",
   "mimetype": "text/x-python",
   "name": "python",
   "nbconvert_exporter": "python",
   "pygments_lexer": "ipython3",
   "version": "3.8.5-final"
  }
 },
 "nbformat": 4,
 "nbformat_minor": 2
}