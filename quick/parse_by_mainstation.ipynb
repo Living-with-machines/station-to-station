{
 "cells": [
  {
   "cell_type": "code",
   "execution_count": 16,
   "metadata": {},
   "outputs": [],
   "source": [
    "import xml.etree.ElementTree as ET\n",
    "import pandas as pd\n",
    "import zipfile\n",
    "import re\n",
    "import json\n",
    "import dateparser\n",
    "import collections\n",
    "from lxml import etree\n",
    "from xml.etree.ElementTree import XML\n",
    "from random import shuffle\n",
    "docxFileName = \"quick_section4.docx\"\n",
    "docxZip = zipfile.ZipFile(docxFileName)\n",
    "documentXML = docxZip.read('word/document.xml')\n",
    "et = etree.XML(documentXML)\n",
    "ns = {'w': 'http://schemas.openxmlformats.org/wordprocessingml/2006/main'}"
   ]
  },
  {
   "cell_type": "code",
   "execution_count": 17,
   "metadata": {},
   "outputs": [],
   "source": [
    "mainstation_xpath = './w:r[1][not(w:rPr/w:sz[@w:val=\"16\"])]/w:t[1]'\n",
    "first_token_para_xpath = './w:r[1]/w:t[1]'\n",
    "\n",
    "stations = pd.DataFrame(columns=['station','type','description'])\n",
    "\n",
    "\n",
    "def is_upper(para):\n",
    "    if para.xpath(first_token_para_xpath, namespaces=ns):\n",
    "        if para.xpath(first_token_para_xpath, namespaces=ns)[0].text.isupper():\n",
    "            return 'station'\n",
    "        else: \n",
    "            return 'new_line'\n",
    "\n",
    "\n",
    "mainstation = \"\"\n",
    "lowerstation = \"\"\n",
    "dText = dict()\n",
    "for i, para in enumerate(et.xpath('//w:p', namespaces=ns)):\n",
    "    text = para.xpath('./w:r/w:t', namespaces=ns)\n",
    "    description = \" \".join([t.text for t in text])\n",
    "    if is_upper(para) == 'station':\n",
    "        mainxpath = para.xpath(mainstation_xpath, namespaces=ns)\n",
    "        if mainxpath and len(mainxpath[0].text) > 1:\n",
    "            mainstation = mainxpath[0].text\n",
    "    description = description.lstrip('\\x01').strip()\n",
    "    if description:\n",
    "        if mainstation in dText:\n",
    "            dText[mainstation].append(description)# += \"\\n\" + description\n",
    "        else:\n",
    "            description = re.sub('^(' + re.escape(mainstation) + ')', '\\1', description).lstrip('\\x01').strip()\n",
    "            description = re.sub(r\" +\", \" \", description).lstrip('\\x01').strip()\n",
    "            if description:\n",
    "                dText[mainstation] = [description]"
   ]
  },
  {
   "cell_type": "code",
   "execution_count": 18,
   "metadata": {},
   "outputs": [],
   "source": [
    "dStations = collections.OrderedDict(dText)"
   ]
  },
  {
   "cell_type": "code",
   "execution_count": 19,
   "metadata": {},
   "outputs": [],
   "source": [
    "stations = []\n",
    "descriptions = []\n",
    "for k in dStations:\n",
    "    stations.append(k)\n",
    "    descriptions.append(dStations[k])"
   ]
  },
  {
   "cell_type": "code",
   "execution_count": 20,
   "metadata": {},
   "outputs": [],
   "source": [
    "stationdf = pd.DataFrame(columns=[\"Station\", \"Description\"])\n",
    "stationdf[\"Station\"] = stations\n",
    "stationdf[\"Description\"] = descriptions"
   ]
  },
  {
   "cell_type": "code",
   "execution_count": 21,
   "metadata": {},
   "outputs": [
    {
     "data": {
      "text/html": [
       "<div>\n",
       "<style scoped>\n",
       "    .dataframe tbody tr th:only-of-type {\n",
       "        vertical-align: middle;\n",
       "    }\n",
       "\n",
       "    .dataframe tbody tr th {\n",
       "        vertical-align: top;\n",
       "    }\n",
       "\n",
       "    .dataframe thead th {\n",
       "        text-align: right;\n",
       "    }\n",
       "</style>\n",
       "<table border=\"1\" class=\"dataframe\">\n",
       "  <thead>\n",
       "    <tr style=\"text-align: right;\">\n",
       "      <th></th>\n",
       "      <th>Station</th>\n",
       "      <th>Description</th>\n",
       "    </tr>\n",
       "  </thead>\n",
       "  <tbody>\n",
       "    <tr>\n",
       "      <th>0</th>\n",
       "      <td>ABBEY</td>\n",
       "      <td>[A TOWN [NB] op 3 September 1856** as A; TOWN ...</td>\n",
       "    </tr>\n",
       "    <tr>\n",
       "      <th>1</th>\n",
       "      <td>ABBEY &amp; WEST DEREHAM</td>\n",
       "      <td>[[GE] op 1 August 1882 (Thetford &amp; Watton Time...</td>\n",
       "    </tr>\n",
       "    <tr>\n",
       "      <th>2</th>\n",
       "      <td>ABBEY FOREGATE</td>\n",
       "      <td>[– see SHREWSBURY.]</td>\n",
       "    </tr>\n",
       "    <tr>\n",
       "      <th>3</th>\n",
       "      <td>ABBEY HOUSES</td>\n",
       "      <td>[see BEAUCHIEF .]</td>\n",
       "    </tr>\n",
       "    <tr>\n",
       "      <th>4</th>\n",
       "      <td>ABBEY MILLS</td>\n",
       "      <td>[pumping station [private line south of West H...</td>\n",
       "    </tr>\n",
       "  </tbody>\n",
       "</table>\n",
       "</div>"
      ],
      "text/plain": [
       "                 Station                                        Description\n",
       "0                  ABBEY  [A TOWN [NB] op 3 September 1856** as A; TOWN ...\n",
       "1  ABBEY & WEST DEREHAM   [[GE] op 1 August 1882 (Thetford & Watton Time...\n",
       "2        ABBEY FOREGATE                                 [– see SHREWSBURY.]\n",
       "3          ABBEY HOUSES                                   [see BEAUCHIEF .]\n",
       "4           ABBEY MILLS   [pumping station [private line south of West H..."
      ]
     },
     "execution_count": 21,
     "metadata": {},
     "output_type": "execute_result"
    }
   ],
   "source": [
    "stationdf.head()"
   ]
  },
  {
   "cell_type": "code",
   "execution_count": 22,
   "metadata": {},
   "outputs": [],
   "source": [
    "d = pd.read_pickle('quick_processed.pkl').iloc[9306]"
   ]
  },
  {
   "cell_type": "code",
   "execution_count": 25,
   "metadata": {},
   "outputs": [
    {
     "data": {
      "text/plain": [
       "list"
      ]
     },
     "execution_count": 25,
     "metadata": {},
     "output_type": "execute_result"
    }
   ],
   "source": [
    "type(d[\"Description\"])"
   ]
  },
  {
   "cell_type": "code",
   "execution_count": 26,
   "metadata": {},
   "outputs": [],
   "source": [
    "stationdf.to_pickle('quick_processed.pkl')"
   ]
  },
  {
   "cell_type": "code",
   "execution_count": 8,
   "metadata": {},
   "outputs": [],
   "source": [
    "stationdf_sample = stationdf.sample(n=100, random_state=42)\n",
    "\n",
    "for i, row in stationdf_sample.iterrows():\n",
    "    with open(\"to_annotate/\" + str(i) + \".txt\", \"w\") as fw:\n",
    "        fw.write(\"[[[STATION: \" + row[\"Station\"] + \"]]]\")\n",
    "        for d in row[\"Description\"]:\n",
    "            fw.write(\"\\n\" + d)"
   ]
  },
  {
   "cell_type": "code",
   "execution_count": 30,
   "metadata": {},
   "outputs": [
    {
     "name": "stdout",
     "output_type": "stream",
     "text": [
      "[ N&B] opened 19 November 1873 (G&S) as YNISCEDWYN; renamed 1 May 1893 (hbl 27 April) ; closed 12 September 1932 (RM October).\n"
     ]
    }
   ],
   "source": [
    "d = pd.read_pickle('quick_processed.pkl').iloc[9306]\n",
    "for k in d[\"Description\"]:\n",
    "    print(k)"
   ]
  },
  {
   "cell_type": "code",
   "execution_count": 15,
   "metadata": {},
   "outputs": [
    {
     "name": "stdout",
     "output_type": "stream",
     "text": [
      "[\n",
      " \n",
      "N\n",
      "&\n",
      "B\n",
      "]\n",
      " \n",
      "o\n",
      "p\n",
      "e\n",
      "n\n",
      "e\n",
      "d\n",
      " \n",
      "1\n",
      "9\n",
      " \n",
      "N\n",
      "o\n",
      "v\n",
      "e\n",
      "m\n",
      "b\n",
      "e\n",
      "r\n",
      " \n",
      "1\n",
      "8\n",
      "7\n",
      "3\n",
      " \n",
      "(\n",
      "G\n",
      "&\n",
      "S\n",
      ")\n",
      " \n",
      "a\n",
      "s\n",
      " \n",
      "Y\n",
      "N\n",
      "I\n",
      "S\n",
      "C\n",
      "E\n",
      "D\n",
      "W\n",
      "Y\n",
      "N\n",
      ";\n",
      " \n",
      "r\n",
      "e\n",
      "n\n",
      "a\n",
      "m\n",
      "e\n",
      "d\n",
      " \n",
      "1\n",
      " \n",
      "M\n",
      "a\n",
      "y\n",
      " \n",
      "1\n",
      "8\n",
      "9\n",
      "3\n",
      " \n",
      "(\n",
      "h\n",
      "b\n",
      "l\n",
      " \n",
      "2\n",
      "7\n",
      " \n",
      "A\n",
      "p\n",
      "r\n",
      "i\n",
      "l\n",
      ")\n",
      " \n",
      ";\n",
      " \n",
      "c\n",
      "l\n",
      "o\n",
      "s\n",
      "e\n",
      "d\n",
      " \n",
      "1\n",
      "2\n",
      " \n",
      "S\n",
      "e\n",
      "p\n",
      "t\n",
      "e\n",
      "m\n",
      "b\n",
      "e\n",
      "r\n",
      " \n",
      "1\n",
      "9\n",
      "3\n",
      "2\n",
      " \n",
      "(\n",
      "R\n",
      "M\n",
      " \n",
      "O\n",
      "c\n",
      "t\n",
      "o\n",
      "b\n",
      "e\n",
      "r\n",
      ")\n",
      ".\n"
     ]
    }
   ],
   "source": [
    "for d in pd.read_pickle('quick_processed.pkl').iloc[9306][\"Description\"]:\n",
    "    for k in d:\n",
    "        print(k)"
   ]
  },
  {
   "cell_type": "code",
   "execution_count": null,
   "metadata": {},
   "outputs": [],
   "source": []
  }
 ],
 "metadata": {
  "kernelspec": {
   "display_name": "Python (py37deezy)",
   "language": "python",
   "name": "py37deezy"
  },
  "language_info": {
   "codemirror_mode": {
    "name": "ipython",
    "version": 3
   },
   "file_extension": ".py",
   "mimetype": "text/x-python",
   "name": "python",
   "nbconvert_exporter": "python",
   "pygments_lexer": "ipython3",
   "version": "3.7.7"
  }
 },
 "nbformat": 4,
 "nbformat_minor": 2
}
