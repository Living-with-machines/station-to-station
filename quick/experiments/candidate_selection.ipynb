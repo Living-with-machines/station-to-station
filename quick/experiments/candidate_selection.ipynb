{
 "metadata": {
  "language_info": {
   "codemirror_mode": {
    "name": "ipython",
    "version": 3
   },
   "file_extension": ".py",
   "mimetype": "text/x-python",
   "name": "python",
   "nbconvert_exporter": "python",
   "pygments_lexer": "ipython3",
   "version": "3.7.9-final"
  },
  "orig_nbformat": 2,
  "kernelspec": {
   "name": "python3",
   "display_name": "Python 3",
   "language": "python"
  }
 },
 "nbformat": 4,
 "nbformat_minor": 2,
 "cells": [
  {
   "cell_type": "code",
   "execution_count": 1,
   "metadata": {},
   "outputs": [],
   "source": [
    "import pandas as pd\n",
    "from tools import eval, selection_methods\n",
    "\n",
    "df = pd.read_pickle(\"../outputs/quicks_dev.pkl\")\n",
    "# we need to change this path\n",
    "wikidata_df = pd.read_pickle(\"/home/mcollardanuy/PlaceLinking/toponym_matching/gazetteers/stnwikidata_gazetteer.pkl\")\n"
   ]
  },
  {
   "cell_type": "code",
   "execution_count": 3,
   "metadata": {},
   "outputs": [
    {
     "output_type": "stream",
     "name": "stdout",
     "text": [
      "perfect_match\n",
      "p1: 0.0\n",
      "map: 0.0\n",
      "\n",
      "partial_match\n",
      "p1: 0.5108225108225108\n",
      "map: 0.5392496392496392\n"
     ]
    }
   ],
   "source": [
    "approach = \"perfect_match\"\n",
    "df[approach] = df.apply(lambda row: selection_methods.perfect_match(row[\"SubStFormatted\"], wikidata_df), axis=1)\n",
    "print (approach)\n",
    "print (\"p1:\", df.apply(lambda row: eval.p1(row, approach), axis=1).mean())\n",
    "print (\"map:\", df.apply(lambda row: eval.avgP(row, approach), axis=1).mean())\n",
    "\n",
    "approach = \"\\npartial_match\"\n",
    "df[approach] = df.apply(lambda row: selection_methods.partial_match(row[\"SubStFormatted\"], wikidata_df), axis=1)\n",
    "print (approach)\n",
    "print (\"p1:\", df.apply(lambda row: eval.p1(row, approach), axis=1).mean())\n",
    "print (\"map:\", df.apply(lambda row: eval.avgP(row, approach), axis=1).mean())\n",
    "\n",
    "# we need to decide if we want to extend the df with these new columns or save it as a new one"
   ]
  }
 ]
}