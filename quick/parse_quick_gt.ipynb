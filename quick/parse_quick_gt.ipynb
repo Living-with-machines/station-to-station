{
 "cells": [
  {
   "cell_type": "code",
   "execution_count": 1,
   "metadata": {},
   "outputs": [
    {
     "output_type": "execute_result",
     "data": {
      "text/plain": [
       "'\\ndocxFileName = \"quick_test.docx\"\\ndocxZip = zipfile.ZipFile(docxFileName)\\ndocumentXML = docxZip.read(\\'word/document.xml\\')\\net = etree.XML(documentXML)\\nns = {\\'w\\': \\'http://schemas.openxmlformats.org/wordprocessingml/2006/main\\'}\\n'"
      ]
     },
     "metadata": {},
     "execution_count": 1
    }
   ],
   "source": [
    "import xml.etree.ElementTree as ET\n",
    "import pandas as pd\n",
    "import zipfile\n",
    "import re\n",
    "import dateparser\n",
    "from lxml import etree\n",
    "from xml.etree.ElementTree import XML\n",
    "'''\n",
    "docxFileName = \"quick_test.docx\"\n",
    "docxZip = zipfile.ZipFile(docxFileName)\n",
    "documentXML = docxZip.read('word/document.xml')\n",
    "et = etree.XML(documentXML)\n",
    "ns = {'w': 'http://schemas.openxmlformats.org/wordprocessingml/2006/main'}\n",
    "'''"
   ]
  },
  {
   "cell_type": "code",
   "execution_count": 2,
   "metadata": {
    "tags": []
   },
   "outputs": [
    {
     "output_type": "execute_result",
     "data": {
      "text/plain": [
       "'\\nmainstation_xpath = \\'./w:r[1][not(w:rPr/w:sz[@w:val=\"16\"])]/w:t[1]\\'\\nlowerstation_xpath = \\'./w:r[1][not(w:rPr/w:sz[@w:val=\"18\"])]/w:t[1]\\'\\nfirst_token_para_xpath = \\'./w:r[1]/w:t[1]\\'\\n\\nstations = pd.DataFrame(columns=[\\'station\\',\\'type\\',\\'description\\'])\\n\\ndef station_type (para):\\n    #if para.xpath(first_token_para_xpath, namespaces=ns)[0].text.islower() == \\'True\\':\\n        #return \\'na\\'\\n    if para.xpath(mainstation_xpath, namespaces=ns):\\n        return \\'main\\'        \\n    elif para.xpath(lowerstation_xpath, namespaces=ns):\\n        return \\'lower\\'\\n    else:\\n        return \\'na\\'\\n\\n\\ndef is_upper(para):\\n    if para.xpath(first_token_para_xpath, namespaces=ns):\\n        if para.xpath(first_token_para_xpath, namespaces=ns)[0].text.isupper():\\n            return \\'station\\'\\n        else: \\n            return \\'new_line\\'\\n\\n\\nfor i, para in enumerate(et.xpath(\\'//w:p\\', namespaces=ns)):\\n    text = para.xpath(\\'./w:r/w:t\\', namespaces=ns)\\n    description = \" \".join([t.text for t in text]) \\n    if is_upper(para) == \\'station\\':\\n        if station_type(para) ==\\'main\\':\\n            mainstation = para.xpath(mainstation_xpath, namespaces=ns)            \\n            stations.at[i,\\'station\\'] = mainstation[0].text\\n            stations.at[i,\\'type\\'] = \\'main\\'\\n            #print(\"MAIN:\", mainstation[0].text)\\n        elif station_type(para) ==\\'lower\\':\\n            lowerstation = para.xpath(lowerstation_xpath, namespaces=ns)\\n            stations.at[i,\\'station\\'] = lowerstation[0].text\\n            stations.at[i,\\'type\\'] = \\'secondary\\'\\n            #print(\"SUB:\", lowerstation[0].text)\\n    else:\\n        stations.at[i,\\'station\\'] = \\'-\\'\\n        stations.at[i,\\'type\\'] = \\'-\\'\\n    stations.at[i,\\'description\\'] = description\\n    #print(\"DESCRIPTION:\", description)\\n    #print()\\n\\n\\nstations.head(3)\\npd.options.display.max_colwidth = 100\\n#stations.to_csv(\\'output.csv\\')\\n\\n\\n##notes: \\n#\"ABERDARE JUNCTION  see ABERCYNON.\" (\"JUNCTION\" in document.xml isn\\'t marked-up correctly)\\n#\"Bridge over line near Schoolhill ticket platform (ibid 8 June 1895). Separate structure or station used as collection point for...\" (\"Bridge\" in document.xml isn\\'t marked-up correctly)\\n'"
      ]
     },
     "metadata": {},
     "execution_count": 2
    }
   ],
   "source": [
    "'''\n",
    "mainstation_xpath = './w:r[1][not(w:rPr/w:sz[@w:val=\"16\"])]/w:t[1]'\n",
    "lowerstation_xpath = './w:r[1][not(w:rPr/w:sz[@w:val=\"18\"])]/w:t[1]'\n",
    "first_token_para_xpath = './w:r[1]/w:t[1]'\n",
    "\n",
    "stations = pd.DataFrame(columns=['station','type','description'])\n",
    "\n",
    "def station_type (para):\n",
    "    #if para.xpath(first_token_para_xpath, namespaces=ns)[0].text.islower() == 'True':\n",
    "        #return 'na'\n",
    "    if para.xpath(mainstation_xpath, namespaces=ns):\n",
    "        return 'main'        \n",
    "    elif para.xpath(lowerstation_xpath, namespaces=ns):\n",
    "        return 'lower'\n",
    "    else:\n",
    "        return 'na'\n",
    "\n",
    "\n",
    "def is_upper(para):\n",
    "    if para.xpath(first_token_para_xpath, namespaces=ns):\n",
    "        if para.xpath(first_token_para_xpath, namespaces=ns)[0].text.isupper():\n",
    "            return 'station'\n",
    "        else: \n",
    "            return 'new_line'\n",
    "\n",
    "\n",
    "for i, para in enumerate(et.xpath('//w:p', namespaces=ns)):\n",
    "    text = para.xpath('./w:r/w:t', namespaces=ns)\n",
    "    description = \" \".join([t.text for t in text]) \n",
    "    if is_upper(para) == 'station':\n",
    "        if station_type(para) =='main':\n",
    "            mainstation = para.xpath(mainstation_xpath, namespaces=ns)            \n",
    "            stations.at[i,'station'] = mainstation[0].text\n",
    "            stations.at[i,'type'] = 'main'\n",
    "            #print(\"MAIN:\", mainstation[0].text)\n",
    "        elif station_type(para) =='lower':\n",
    "            lowerstation = para.xpath(lowerstation_xpath, namespaces=ns)\n",
    "            stations.at[i,'station'] = lowerstation[0].text\n",
    "            stations.at[i,'type'] = 'secondary'\n",
    "            #print(\"SUB:\", lowerstation[0].text)\n",
    "    else:\n",
    "        stations.at[i,'station'] = '-'\n",
    "        stations.at[i,'type'] = '-'\n",
    "    stations.at[i,'description'] = description\n",
    "    #print(\"DESCRIPTION:\", description)\n",
    "    #print()\n",
    "\n",
    "\n",
    "stations.head(3)\n",
    "pd.options.display.max_colwidth = 100\n",
    "#stations.to_csv('output.csv')\n",
    "\n",
    "\n",
    "##notes: \n",
    "#\"ABERDARE JUNCTION  see ABERCYNON.\" (\"JUNCTION\" in document.xml isn't marked-up correctly)\n",
    "#\"Bridge over line near Schoolhill ticket platform (ibid 8 June 1895). Separate structure or station used as collection point for...\" (\"Bridge\" in document.xml isn't marked-up correctly)\n",
    "'''\n",
    "    \n"
   ]
  },
  {
   "cell_type": "code",
   "execution_count": 3,
   "metadata": {},
   "outputs": [],
   "source": [
    "stations = pd.read_pickle(\"quick_processed.pkl\")"
   ]
  },
  {
   "cell_type": "code",
   "execution_count": 4,
   "metadata": {},
   "outputs": [
    {
     "output_type": "execute_result",
     "data": {
      "text/plain": [
       "['A TOWN [NB] op 3 September 1856** as A; TOWN added 1889 tt (Cl) ; clo 7 September 1964 (RM October). Initially ABBEYHOLME (Brad).',\n",
       " 'A JUNCTION   [Cal] op 31 August 1870  (co ½ T 26 September) . Clo 20 May 1921 (see 192 1  April/ May**).',\n",
       " 'A JUNCTION   [NB] op 8 August 1870  (D&C 14) ; clo 1 September 1921 (Thursday)  (RCG)  – stops still shown until then in  Brad  ( all days August 1921)  but would seem to have been pointless after April/May 1921** .  L eft in case Cal line reopened? Did trains actually call?',\n",
       " 'Brad  and co tts seen all have Abbey Junction for the station concerned. OS maps show as effectively one station.']"
      ]
     },
     "metadata": {},
     "execution_count": 4
    }
   ],
   "source": [
    "stations.Description[0]"
   ]
  },
  {
   "cell_type": "code",
   "execution_count": 5,
   "metadata": {},
   "outputs": [
    {
     "output_type": "execute_result",
     "data": {
      "text/plain": [
       "                 Station                                        Description  \\\n",
       "0                  ABBEY  [A TOWN [NB] op 3 September 1856** as A; TOWN ...   \n",
       "1  ABBEY & WEST DEREHAM   [[GE] op 1 August 1882 (Thetford & Watton Time...   \n",
       "2        ABBEY FOREGATE                                 [– see SHREWSBURY.]   \n",
       "3          ABBEY HOUSES                                   [see BEAUCHIEF .]   \n",
       "4           ABBEY MILLS   [pumping station [private line south of West H...   \n",
       "\n",
       "  place_disambiguation railway_company  \\\n",
       "0                 None              NB   \n",
       "1                 None              GE   \n",
       "2                 None            None   \n",
       "3                 None            None   \n",
       "4                 None            None   \n",
       "\n",
       "                                                open  \\\n",
       "0  3 september 1856** as a; town added 1889 tt (c...   \n",
       "1  1 august 1882 (thetford & watton times 5 th ) ...   \n",
       "2                                               None   \n",
       "3                                               None   \n",
       "4                                               None   \n",
       "\n",
       "                           closed              additional_notes  \n",
       "0  7 september 1964 (rm october).  Initially ABBEYHOLME (Brad).  \n",
       "1        22 september 1930 (cl) .                          None  \n",
       "2                            None                          None  \n",
       "3                            None                          None  \n",
       "4                            None                          None  "
      ],
      "text/html": "<div>\n<style scoped>\n    .dataframe tbody tr th:only-of-type {\n        vertical-align: middle;\n    }\n\n    .dataframe tbody tr th {\n        vertical-align: top;\n    }\n\n    .dataframe thead th {\n        text-align: right;\n    }\n</style>\n<table border=\"1\" class=\"dataframe\">\n  <thead>\n    <tr style=\"text-align: right;\">\n      <th></th>\n      <th>Station</th>\n      <th>Description</th>\n      <th>place_disambiguation</th>\n      <th>railway_company</th>\n      <th>open</th>\n      <th>closed</th>\n      <th>additional_notes</th>\n    </tr>\n  </thead>\n  <tbody>\n    <tr>\n      <th>0</th>\n      <td>ABBEY</td>\n      <td>[A TOWN [NB] op 3 September 1856** as A; TOWN ...</td>\n      <td>None</td>\n      <td>NB</td>\n      <td>3 september 1856** as a; town added 1889 tt (c...</td>\n      <td>7 september 1964 (rm october).</td>\n      <td>Initially ABBEYHOLME (Brad).</td>\n    </tr>\n    <tr>\n      <th>1</th>\n      <td>ABBEY &amp; WEST DEREHAM</td>\n      <td>[[GE] op 1 August 1882 (Thetford &amp; Watton Time...</td>\n      <td>None</td>\n      <td>GE</td>\n      <td>1 august 1882 (thetford &amp; watton times 5 th ) ...</td>\n      <td>22 september 1930 (cl) .</td>\n      <td>None</td>\n    </tr>\n    <tr>\n      <th>2</th>\n      <td>ABBEY FOREGATE</td>\n      <td>[– see SHREWSBURY.]</td>\n      <td>None</td>\n      <td>None</td>\n      <td>None</td>\n      <td>None</td>\n      <td>None</td>\n    </tr>\n    <tr>\n      <th>3</th>\n      <td>ABBEY HOUSES</td>\n      <td>[see BEAUCHIEF .]</td>\n      <td>None</td>\n      <td>None</td>\n      <td>None</td>\n      <td>None</td>\n      <td>None</td>\n    </tr>\n    <tr>\n      <th>4</th>\n      <td>ABBEY MILLS</td>\n      <td>[pumping station [private line south of West H...</td>\n      <td>None</td>\n      <td>None</td>\n      <td>None</td>\n      <td>None</td>\n      <td>None</td>\n    </tr>\n  </tbody>\n</table>\n</div>"
     },
     "metadata": {},
     "execution_count": 5
    }
   ],
   "source": [
    "def find_between(s, start, end):\n",
    "  return s.partition(start)[2].partition(end)[0]\n",
    "\n",
    "def railway_company(s):\n",
    "  pattern = re.compile('\\[[a-zA-Z]+\\]')\n",
    "  m = pattern.findall(s)\n",
    "  if m:\n",
    "    return m[0].partition('[')[2].partition(']')[0]\n",
    "\n",
    "\n",
    "\n",
    "def date_open(s):\n",
    "  pattern = re.compile(r'op\\s.*?\\bclo\\b')\n",
    "  m = pattern.findall(s)\n",
    "  if m:\n",
    "     return m[0].partition('op')[2].partition('clo')[0].strip()\n",
    "  else:\n",
    "    pattern = re.compile(r'op\\s.*?[0-9]{4}')\n",
    "    m = pattern.findall(s)\n",
    "    if m:\n",
    "      return m[0].partition('op')[2].strip()\n",
    "\n",
    "\n",
    "def date_closed(s):\n",
    "  pattern = re.compile(r'clo\\s.*?[.]')\n",
    "  m = pattern.findall(s)\n",
    "  if m:\n",
    "     return m[0].partition('clo')[2].strip()\n",
    "  else:\n",
    "      pattern = re.compile(r'still open')\n",
    "      m = pattern.findall(s)\n",
    "      if m:\n",
    "        return m[0].strip()\n",
    "\n",
    "\n",
    "def place_disambiguation(s):\n",
    "  pattern = re.compile(r'[A-Z]+\\s*near\\s*[a-zA-Z]*\\s')\n",
    "  m = pattern.findall(s)\n",
    "  if m:\n",
    "     return m[0].partition('near')[2].strip()\n",
    "\n",
    "\n",
    "def additional_notes(s):\n",
    "  end = date_closed(s)\n",
    "  if end:\n",
    "    notes = s.partition(str(end))[2]\n",
    "    if notes:\n",
    "      return notes.strip()\n",
    "\n",
    "stations['place_disambiguation'] = stations.Description.apply(lambda x: place_disambiguation(x[0]))\n",
    "stations['railway_company'] = stations.Description.apply(lambda x: railway_company(x[0]))\n",
    "stations['open'] = stations.Description.apply(lambda x: date_open(x[0].lower()))\n",
    "stations['closed'] = stations.Description.apply(lambda x: date_closed(x[0].lower()))\n",
    "stations['additional_notes'] = stations.Description.apply(lambda x: additional_notes(x[0]))\n",
    "\n",
    "#stations.to_csv('output.csv', encoding='utf-8')\n",
    "stations.head(5)"
   ]
  },
  {
   "cell_type": "code",
   "execution_count": 7,
   "metadata": {},
   "outputs": [
    {
     "output_type": "stream",
     "name": "stdout",
     "text": [
      "ABER near Caerphilly \n"
     ]
    }
   ],
   "source": [
    "#####TEST SANDBOX####\n",
    "\n",
    "s =  \"ABER near Caerphilly [Rhy] op 1 April 1908 (Aber) as BEDDAU (BEDA, error, in Brad); became A JUNCTION 17 September 1926 (GW circ 3011), A 6 May 1968 (Aberdare); HALT \"\n",
    "pattern = re.compile(r'[A-Z]+\\s*near\\s*[a-zA-Z]*\\s')\n",
    "m = pattern.findall(s)\n",
    "if m:\n",
    "    print(m[0])"
   ]
  },
  {
   "cell_type": "code",
   "execution_count": null,
   "metadata": {},
   "outputs": [],
   "source": []
  },
  {
   "cell_type": "code",
   "execution_count": null,
   "metadata": {},
   "outputs": [],
   "source": []
  }
 ],
 "metadata": {
  "kernelspec": {
   "display_name": "Python 3",
   "language": "python",
   "name": "python3"
  },
  "language_info": {
   "codemirror_mode": {
    "name": "ipython",
    "version": 3
   },
   "file_extension": ".py",
   "mimetype": "text/x-python",
   "name": "python",
   "nbconvert_exporter": "python",
   "pygments_lexer": "ipython3",
   "version": "3.7.1-final"
  }
 },
 "nbformat": 4,
 "nbformat_minor": 4
}