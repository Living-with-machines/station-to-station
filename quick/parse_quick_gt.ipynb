{
 "cells": [
  {
   "cell_type": "code",
   "execution_count": 1,
   "metadata": {},
   "outputs": [],
   "source": [
    "import xml.etree.ElementTree as ET\n",
    "import pandas as pd\n",
    "import zipfile\n",
    "import re\n",
    "import dateparser\n",
    "from lxml import etree\n",
    "from xml.etree.ElementTree import XML\n",
    "docxFileName = \"quick_test.docx\"\n",
    "docxZip = zipfile.ZipFile(docxFileName)\n",
    "documentXML = docxZip.read('word/document.xml')\n",
    "et = etree.XML(documentXML)\n",
    "ns = {'w': 'http://schemas.openxmlformats.org/wordprocessingml/2006/main'}"
   ]
  },
  {
   "cell_type": "code",
   "execution_count": 2,
   "metadata": {
    "tags": []
   },
   "outputs": [],
   "source": [
    "mainstation_xpath = './w:r[1][not(w:rPr/w:sz[@w:val=\"16\"])]/w:t[1]'\n",
    "lowerstation_xpath = './w:r[1][not(w:rPr/w:sz[@w:val=\"18\"])]/w:t[1]'\n",
    "first_token_para_xpath = './w:r[1]/w:t[1]'\n",
    "\n",
    "stations = pd.DataFrame(columns=['station','type','description'])\n",
    "\n",
    "def station_type (para):\n",
    "    #if para.xpath(first_token_para_xpath, namespaces=ns)[0].text.islower() == 'True':\n",
    "        #return 'na'\n",
    "    if para.xpath(mainstation_xpath, namespaces=ns):\n",
    "        return 'main'        \n",
    "    elif para.xpath(lowerstation_xpath, namespaces=ns):\n",
    "        return 'lower'\n",
    "    else:\n",
    "        return 'na'\n",
    "\n",
    "\n",
    "def is_upper(para):\n",
    "    if para.xpath(first_token_para_xpath, namespaces=ns):\n",
    "        if para.xpath(first_token_para_xpath, namespaces=ns)[0].text.isupper():\n",
    "            return 'station'\n",
    "        else: \n",
    "            return 'new_line'\n",
    "\n",
    "\n",
    "for i, para in enumerate(et.xpath('//w:p', namespaces=ns)):\n",
    "    text = para.xpath('./w:r/w:t', namespaces=ns)\n",
    "    description = \" \".join([t.text for t in text]) \n",
    "    if is_upper(para) == 'station':\n",
    "        if station_type(para) =='main':\n",
    "            mainstation = para.xpath(mainstation_xpath, namespaces=ns)            \n",
    "            stations.at[i,'station'] = mainstation[0].text\n",
    "            stations.at[i,'type'] = 'main'\n",
    "            #print(\"MAIN:\", mainstation[0].text)\n",
    "        elif station_type(para) =='lower':\n",
    "            lowerstation = para.xpath(lowerstation_xpath, namespaces=ns)\n",
    "            stations.at[i,'station'] = lowerstation[0].text\n",
    "            stations.at[i,'type'] = 'secondary'\n",
    "            #print(\"SUB:\", lowerstation[0].text)\n",
    "    else:\n",
    "        stations.at[i,'station'] = '-'\n",
    "        stations.at[i,'type'] = '-'\n",
    "    stations.at[i,'description'] = description\n",
    "    #print(\"DESCRIPTION:\", description)\n",
    "    #print()\n",
    "\n",
    "\n",
    "stations.head(3)\n",
    "pd.options.display.max_colwidth = 100\n",
    "#stations.to_csv('output.csv')\n",
    "\n",
    "\n",
    "##notes: \n",
    "#\"ABERDARE JUNCTION  see ABERCYNON.\" (\"JUNCTION\" in document.xml isn't marked-up correctly)\n",
    "#\"Bridge over line near Schoolhill ticket platform (ibid 8 June 1895). Separate structure or station used as collection point for...\" (\"Bridge\" in document.xml isn't marked-up correctly)\n",
    "    \n",
    "    \n"
   ]
  },
  {
   "cell_type": "code",
   "execution_count": 3,
   "metadata": {},
   "outputs": [
    {
     "output_type": "execute_result",
     "data": {
      "text/plain": [
       "      station       type  \\\n",
       "0       ABBEY       main   \n",
       "1      A TOWN  secondary   \n",
       "2  A JUNCTION  secondary   \n",
       "3  A JUNCTION  secondary   \n",
       "4           -          -   \n",
       "\n",
       "                                                                                           description  \n",
       "0                                                                                                ABBEY  \n",
       "1  A TOWN   [NB] op 3 September 1856** as A; TOWN added 1889 tt  (Cl) ; clo 7 September 1964  (RM O...  \n",
       "2  A JUNCTION   [Cal] op 31 August 1870  (co ½ T 26 September) . Clo 20 May 1921 (see 192 1  April/...  \n",
       "3  A JUNCTION   [NB] op 8 August 1870  (D&C 14) ; clo 1 September 1921 (Thursday)  (RCG)  – stops s...  \n",
       "4  Brad  and co tts seen all have Abbey Junction for the station concerned. OS maps show as effecti...  "
      ],
      "text/html": "<div>\n<style scoped>\n    .dataframe tbody tr th:only-of-type {\n        vertical-align: middle;\n    }\n\n    .dataframe tbody tr th {\n        vertical-align: top;\n    }\n\n    .dataframe thead th {\n        text-align: right;\n    }\n</style>\n<table border=\"1\" class=\"dataframe\">\n  <thead>\n    <tr style=\"text-align: right;\">\n      <th></th>\n      <th>station</th>\n      <th>type</th>\n      <th>description</th>\n    </tr>\n  </thead>\n  <tbody>\n    <tr>\n      <th>0</th>\n      <td>ABBEY</td>\n      <td>main</td>\n      <td>ABBEY</td>\n    </tr>\n    <tr>\n      <th>1</th>\n      <td>A TOWN</td>\n      <td>secondary</td>\n      <td>A TOWN   [NB] op 3 September 1856** as A; TOWN added 1889 tt  (Cl) ; clo 7 September 1964  (RM O...</td>\n    </tr>\n    <tr>\n      <th>2</th>\n      <td>A JUNCTION</td>\n      <td>secondary</td>\n      <td>A JUNCTION   [Cal] op 31 August 1870  (co ½ T 26 September) . Clo 20 May 1921 (see 192 1  April/...</td>\n    </tr>\n    <tr>\n      <th>3</th>\n      <td>A JUNCTION</td>\n      <td>secondary</td>\n      <td>A JUNCTION   [NB] op 8 August 1870  (D&amp;C 14) ; clo 1 September 1921 (Thursday)  (RCG)  – stops s...</td>\n    </tr>\n    <tr>\n      <th>4</th>\n      <td>-</td>\n      <td>-</td>\n      <td>Brad  and co tts seen all have Abbey Junction for the station concerned. OS maps show as effecti...</td>\n    </tr>\n  </tbody>\n</table>\n</div>"
     },
     "metadata": {},
     "execution_count": 3
    }
   ],
   "source": [
    "stations.head(5)"
   ]
  },
  {
   "cell_type": "code",
   "execution_count": 7,
   "metadata": {},
   "outputs": [
    {
     "output_type": "execute_result",
     "data": {
      "text/plain": [
       "                station       type  \\\n",
       "0                 ABBEY       main   \n",
       "1                A TOWN  secondary   \n",
       "2            A JUNCTION  secondary   \n",
       "3            A JUNCTION  secondary   \n",
       "4                     -          -   \n",
       "..                  ...        ...   \n",
       "94         A JUNCTION [  secondary   \n",
       "95  ABERGELE & PENSARN        main   \n",
       "96         ABERGLASLYN        main   \n",
       "97           ABERGWILI        main   \n",
       "98                    -          -   \n",
       "\n",
       "                                                                                            description  \\\n",
       "0                                                                                                 ABBEY   \n",
       "1   A TOWN   [NB] op 3 September 1856** as A; TOWN added 1889 tt  (Cl) ; clo 7 September 1964  (RM O...   \n",
       "2   A JUNCTION   [Cal] op 31 August 1870  (co ½ T 26 September) . Clo 20 May 1921 (see 192 1  April/...   \n",
       "3   A JUNCTION   [NB] op 8 August 1870  (D&C 14) ; clo 1 September 1921 (Thursday)  (RCG)  – stops s...   \n",
       "4   Brad  and co tts seen all have Abbey Junction for the station concerned. OS maps show as effecti...   \n",
       "..                                                                                                  ...   \n",
       "94  A JUNCTION [ LNW] existed to provide link between Hereford to Newport line, already open, and Ab...   \n",
       "95  ABERGELE & PENSARN  [LNW] op 1 May 1848  (D&C 11; co n T 2 nd - line) ;  see 1879 August 17**;  ...   \n",
       "96  ABERGLASLYN  [WH] (ng)   op 1 June 1923  (NGSC 2)  as NANTMOR for ABERGLASLYN; see 1922 July 31*...   \n",
       "97  ABERGWILI    [ LNW] op 1 June 1865**; last trains shown March 1880  Brad ; back June 1880; clo 9...   \n",
       "98                                                                                                        \n",
       "\n",
       "   railway_company               open             closed  \n",
       "0             None               None               None  \n",
       "1             [NB]   3 september 1856   7 september 1964  \n",
       "2            [Cal]     31 august 1870        20 may 1921  \n",
       "3             [NB]      8 august 1870   1 september 1921  \n",
       "4             None               None               None  \n",
       "..             ...                ...                ...  \n",
       "94            None     1 october 1862        9 june 1958  \n",
       "95           [LNW]         1 may 1848               None  \n",
       "96            [WH]        1 june 1923               None  \n",
       "97            None        1 june 1865   9 september 1963  \n",
       "98            None               None               None  \n",
       "\n",
       "[99 rows x 6 columns]"
      ],
      "text/html": "<div>\n<style scoped>\n    .dataframe tbody tr th:only-of-type {\n        vertical-align: middle;\n    }\n\n    .dataframe tbody tr th {\n        vertical-align: top;\n    }\n\n    .dataframe thead th {\n        text-align: right;\n    }\n</style>\n<table border=\"1\" class=\"dataframe\">\n  <thead>\n    <tr style=\"text-align: right;\">\n      <th></th>\n      <th>station</th>\n      <th>type</th>\n      <th>description</th>\n      <th>railway_company</th>\n      <th>open</th>\n      <th>closed</th>\n    </tr>\n  </thead>\n  <tbody>\n    <tr>\n      <th>0</th>\n      <td>ABBEY</td>\n      <td>main</td>\n      <td>ABBEY</td>\n      <td>None</td>\n      <td>None</td>\n      <td>None</td>\n    </tr>\n    <tr>\n      <th>1</th>\n      <td>A TOWN</td>\n      <td>secondary</td>\n      <td>A TOWN   [NB] op 3 September 1856** as A; TOWN added 1889 tt  (Cl) ; clo 7 September 1964  (RM O...</td>\n      <td>[NB]</td>\n      <td>3 september 1856</td>\n      <td>7 september 1964</td>\n    </tr>\n    <tr>\n      <th>2</th>\n      <td>A JUNCTION</td>\n      <td>secondary</td>\n      <td>A JUNCTION   [Cal] op 31 August 1870  (co ½ T 26 September) . Clo 20 May 1921 (see 192 1  April/...</td>\n      <td>[Cal]</td>\n      <td>31 august 1870</td>\n      <td>20 may 1921</td>\n    </tr>\n    <tr>\n      <th>3</th>\n      <td>A JUNCTION</td>\n      <td>secondary</td>\n      <td>A JUNCTION   [NB] op 8 August 1870  (D&amp;C 14) ; clo 1 September 1921 (Thursday)  (RCG)  – stops s...</td>\n      <td>[NB]</td>\n      <td>8 august 1870</td>\n      <td>1 september 1921</td>\n    </tr>\n    <tr>\n      <th>4</th>\n      <td>-</td>\n      <td>-</td>\n      <td>Brad  and co tts seen all have Abbey Junction for the station concerned. OS maps show as effecti...</td>\n      <td>None</td>\n      <td>None</td>\n      <td>None</td>\n    </tr>\n    <tr>\n      <th>...</th>\n      <td>...</td>\n      <td>...</td>\n      <td>...</td>\n      <td>...</td>\n      <td>...</td>\n      <td>...</td>\n    </tr>\n    <tr>\n      <th>94</th>\n      <td>A JUNCTION [</td>\n      <td>secondary</td>\n      <td>A JUNCTION [ LNW] existed to provide link between Hereford to Newport line, already open, and Ab...</td>\n      <td>None</td>\n      <td>1 october 1862</td>\n      <td>9 june 1958</td>\n    </tr>\n    <tr>\n      <th>95</th>\n      <td>ABERGELE &amp; PENSARN</td>\n      <td>main</td>\n      <td>ABERGELE &amp; PENSARN  [LNW] op 1 May 1848  (D&amp;C 11; co n T 2 nd - line) ;  see 1879 August 17**;  ...</td>\n      <td>[LNW]</td>\n      <td>1 may 1848</td>\n      <td>None</td>\n    </tr>\n    <tr>\n      <th>96</th>\n      <td>ABERGLASLYN</td>\n      <td>main</td>\n      <td>ABERGLASLYN  [WH] (ng)   op 1 June 1923  (NGSC 2)  as NANTMOR for ABERGLASLYN; see 1922 July 31*...</td>\n      <td>[WH]</td>\n      <td>1 june 1923</td>\n      <td>None</td>\n    </tr>\n    <tr>\n      <th>97</th>\n      <td>ABERGWILI</td>\n      <td>main</td>\n      <td>ABERGWILI    [ LNW] op 1 June 1865**; last trains shown March 1880  Brad ; back June 1880; clo 9...</td>\n      <td>None</td>\n      <td>1 june 1865</td>\n      <td>9 september 1963</td>\n    </tr>\n    <tr>\n      <th>98</th>\n      <td>-</td>\n      <td>-</td>\n      <td></td>\n      <td>None</td>\n      <td>None</td>\n      <td>None</td>\n    </tr>\n  </tbody>\n</table>\n<p>99 rows × 6 columns</p>\n</div>"
     },
     "metadata": {},
     "execution_count": 7
    }
   ],
   "source": [
    "def find_between(s, start, end):\n",
    "  return s.partition(start)[2].partition(end)[0]\n",
    "\n",
    "def railway_company(s):\n",
    "  pattern = re.compile('\\[[a-zA-Z]+\\]')\n",
    "  matches = pattern.findall(s)\n",
    "  if len(matches) != 0:\n",
    "    return str(matches[0])\n",
    "\n",
    "def date_open(s):\n",
    "  pattern = re.compile(r'op\\s.*?[0-9]{4}')\n",
    "  m = pattern.findall(s)\n",
    "  if m:\n",
    "     return m[0].partition('op')[2]\n",
    "\n",
    "def date_closed(s):\n",
    "  pattern = re.compile(r'clo\\s.*?[0-9]{4}')\n",
    "  m = pattern.findall(s)\n",
    "  if m:\n",
    "     return m[0].partition('clo')[2]\n",
    "\n",
    "stations['railway_company'] = stations.description.apply(lambda x: railway_company(x))\n",
    "stations['open'] = stations.description.apply(lambda x: find_between(x.lower(),'op ',';'))\n",
    "stations['open'] = stations.description.apply(lambda x: date_open(x.lower()))\n",
    "stations['closed'] = stations.description.apply(lambda x: date_closed(x.lower()))\n",
    "stations\n"
   ]
  },
  {
   "cell_type": "code",
   "execution_count": 5,
   "metadata": {},
   "outputs": [
    {
     "output_type": "stream",
     "name": "stdout",
     "text": [
      "op 1 May 1848\n"
     ]
    }
   ],
   "source": [
    "s =  \"ABERGELE & PENSARN [LNW] op 1 May 1848 (D&C 11; co n T 2 nd - line) ; see 1879 August 17**; \"\n",
    "pattern = re.compile(r'op.*?[0-9]{4}')\n",
    "m = pattern.findall(s)\n",
    "if m:\n",
    "    print(m[0])"
   ]
  },
  {
   "cell_type": "code",
   "execution_count": 6,
   "metadata": {},
   "outputs": [
    {
     "output_type": "error",
     "ename": "SyntaxError",
     "evalue": "invalid syntax (<ipython-input-6-1f0d263cd300>, line 1)",
     "traceback": [
      "\u001b[0;36m  File \u001b[0;32m\"<ipython-input-6-1f0d263cd300>\"\u001b[0;36m, line \u001b[0;32m1\u001b[0m\n\u001b[0;31m    Hello.*?World\u001b[0m\n\u001b[0m          ^\u001b[0m\n\u001b[0;31mSyntaxError\u001b[0m\u001b[0;31m:\u001b[0m invalid syntax\n"
     ]
    }
   ],
   "source": [
    "Hello.*?World"
   ]
  },
  {
   "cell_type": "code",
   "execution_count": null,
   "metadata": {},
   "outputs": [],
   "source": []
  },
  {
   "cell_type": "code",
   "execution_count": null,
   "metadata": {},
   "outputs": [],
   "source": []
  },
  {
   "cell_type": "code",
   "execution_count": null,
   "metadata": {},
   "outputs": [],
   "source": []
  }
 ],
 "metadata": {
  "kernelspec": {
   "display_name": "Python 3",
   "language": "python",
   "name": "python3"
  },
  "language_info": {
   "codemirror_mode": {
    "name": "ipython",
    "version": 3
   },
   "file_extension": ".py",
   "mimetype": "text/x-python",
   "name": "python",
   "nbconvert_exporter": "python",
   "pygments_lexer": "ipython3",
   "version": "3.7.1-final"
  }
 },
 "nbformat": 4,
 "nbformat_minor": 4
}