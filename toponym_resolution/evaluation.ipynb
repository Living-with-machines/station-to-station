{
 "cells": [
  {
   "cell_type": "markdown",
   "metadata": {},
   "source": [
    "# Evaluation"
   ]
  },
  {
   "cell_type": "code",
   "execution_count": null,
   "metadata": {},
   "outputs": [],
   "source": [
    "import time\n",
    "import numpy as np\n",
    "import pandas as pd\n",
    "from pathlib import Path\n",
    "from collections import OrderedDict\n",
    "from tools import eval_methods, selection_methods\n",
    "from tqdm.auto import tqdm\n",
    "tqdm.pandas()"
   ]
  },
  {
   "cell_type": "markdown",
   "metadata": {},
   "source": [
    "### Evaluate candidate selection and ranking"
   ]
  },
  {
   "cell_type": "code",
   "execution_count": null,
   "metadata": {},
   "outputs": [],
   "source": [
    "approach = \"partial_match\"\n",
    "num_candidates = 3\n",
    "setting = \"test\"\n",
    "exact_station = True\n",
    "\n",
    "test_df = pd.read_pickle(\"../processed/resolution/candranking_\" + approach + \"_\" + setting + str(num_candidates) + \".pkl\")\n",
    "\n",
    "combinations = [[\"stations\"], [\"stations\", \"alts\"], [\"stations\", \"places\", \"alts\"]]\n",
    "candrank_approaches = [x.replace(\"cr_\", \"\").replace(\"_stations\", \"\") for x in test_df if x.startswith(\"cr_\") and x.endswith(\"stations\")]\n",
    "\n",
    "eval_results = []\n",
    "for combination in combinations:\n",
    "    for approach in candrank_approaches:\n",
    "        \n",
    "        if \"places\" in combination:\n",
    "            exact_station = False\n",
    "        \n",
    "        # Get relevant columns from dataframe:\n",
    "        relv_columns = []\n",
    "        for c in combination:\n",
    "            relv_columns.append(\"cr_\" + approach + \"_\" + c)\n",
    "        \n",
    "        # Report performance:\n",
    "        p = test_df.apply(lambda row: eval_methods.pAt(row, approach, relv_columns, exact_station), axis=1).mean()\n",
    "        mapAt = test_df.apply(lambda row: eval_methods.avgP(row, approach, relv_columns, exact_station), axis=1).mean()\n",
    "        isRetrieved = test_df.apply(lambda row: eval_methods.isRetrieved(row, approach, relv_columns, exact_station), axis=1).mean()\n",
    "        eval_results.append([approach + \": \" + \"+\".join(combination), p, mapAt, isRetrieved])\n",
    "        \n",
    "annotation = \"strict\" if exact_station else \"appr\"\n",
    "cr_eval_df = pd.DataFrame(eval_results, columns = [\"Approach:\" + annotation, \"p@\" + str(num_candidates), \"map@\" + str(num_candidates), \"retr@\" + str(num_candidates)])\n",
    "cr_eval_df.round(3)\n",
    "print(cr_eval_df.round(2).to_latex(index=False))"
   ]
  },
  {
   "cell_type": "code",
   "execution_count": null,
   "metadata": {},
   "outputs": [],
   "source": []
  }
 ],
 "metadata": {
  "kernelspec": {
   "display_name": "Python (py37deezy)",
   "language": "python",
   "name": "py37deezy"
  },
  "language_info": {
   "codemirror_mode": {
    "name": "ipython",
    "version": 3
   },
   "file_extension": ".py",
   "mimetype": "text/x-python",
   "name": "python",
   "nbconvert_exporter": "python",
   "pygments_lexer": "ipython3",
   "version": "3.7.9"
  }
 },
 "nbformat": 4,
 "nbformat_minor": 2
}
