{
 "cells": [
  {
   "cell_type": "markdown",
   "metadata": {},
   "source": [
    "# Entity resolution"
   ]
  },
  {
   "cell_type": "code",
   "execution_count": 1,
   "metadata": {},
   "outputs": [],
   "source": [
    "%load_ext autoreload\n",
    "%autoreload 2"
   ]
  },
  {
   "cell_type": "code",
   "execution_count": 2,
   "metadata": {
    "scrolled": true
   },
   "outputs": [
    {
     "name": "stderr",
     "output_type": "stream",
     "text": [
      "/data/anaconda/envs/py37deezy/lib/python3.7/site-packages/torch/cuda/__init__.py:52: UserWarning: CUDA initialization: The NVIDIA driver on your system is too old (found version 10000). Please update your GPU driver by downloading and installing a new version from the URL: http://www.nvidia.com/Download/index.aspx Alternatively, go to: https://pytorch.org to install a PyTorch version that has been compiled with your version of the CUDA driver. (Triggered internally at  /pytorch/c10/cuda/CUDAFunctions.cpp:109.)\n",
      "  return torch._C._cuda_getDeviceCount() > 0\n"
     ]
    }
   ],
   "source": [
    "import pandas as pd\n",
    "from pathlib import Path\n",
    "from tools import eval_methods, resolution_methods\n",
    "import numpy as np\n",
    "from sklearn.model_selection import train_test_split, GridSearchCV\n",
    "from sklearn.svm import LinearSVC, SVC\n",
    "from sklearn.ensemble import RandomForestClassifier\n",
    "from sklearn.metrics import classification_report, f1_score\n",
    "import random"
   ]
  },
  {
   "cell_type": "code",
   "execution_count": 3,
   "metadata": {},
   "outputs": [],
   "source": [
    "gazetteer_df = pd.read_csv(\"../processed/wikidata/british_isles_gazetteer.csv\", header=0, index_col=0, low_memory=False)"
   ]
  },
  {
   "cell_type": "code",
   "execution_count": 4,
   "metadata": {},
   "outputs": [],
   "source": [
    "import pickle\n",
    "with open(\"/resources/wikipedia/extractedResources/overall_entity_freq.pickle\", 'rb') as fp:\n",
    "    wikipedia_entity_overall_dict = pickle.load(fp)"
   ]
  },
  {
   "cell_type": "markdown",
   "metadata": {},
   "source": [
    "### Feature selection"
   ]
  },
  {
   "cell_type": "code",
   "execution_count": 5,
   "metadata": {},
   "outputs": [
    {
     "name": "stdout",
     "output_type": "stream",
     "text": [
      "perfect_match test done!\n",
      "perfect_match dev done!\n",
      "partial_match test done!\n",
      "partial_match dev done!\n",
      "deezy_match test done!\n",
      "deezy_match dev done!\n"
     ]
    }
   ],
   "source": [
    "# ------------------\n",
    "# Feature selection for dev and test\n",
    "settings = [\"test\", \"dev\"]\n",
    "candrank_approaches = [\"perfect_match\", \"partial_match\", \"deezy_match\"]\n",
    "for candrank in candrank_approaches:\n",
    "    for setting in settings:\n",
    "        features_file = \"features_\" + setting + \"_\" + candrank + \".tsv\"\n",
    "        if not Path(features_file).is_file():\n",
    "            df = pd.read_pickle(\"candranking_\" + setting + \".pkl\")\n",
    "            exp_df = resolution_methods.feature_selection(candrank, df, gazetteer_df, wikipedia_entity_overall_dict)\n",
    "            exp_df.drop_duplicates(subset=['Query','Candidate'], inplace=True)\n",
    "            exp_df.to_csv(features_file, sep=\"\\t\")\n",
    "        print(candrank + \" \" + setting + \" done!\")\n",
    "\n",
    "features_dev = pd.read_csv(\"features_dev_\" + candrank + \".tsv\",sep='\\t', index_col=0)\n",
    "features_test = pd.read_csv(\"features_test_\" + candrank + \".tsv\",sep='\\t', index_col=0)"
   ]
  },
  {
   "cell_type": "markdown",
   "metadata": {},
   "source": [
    "### Training classifiers"
   ]
  },
  {
   "cell_type": "code",
   "execution_count": 6,
   "metadata": {},
   "outputs": [],
   "source": [
    "candrank_method = \"partial_match\""
   ]
  },
  {
   "cell_type": "code",
   "execution_count": 7,
   "metadata": {},
   "outputs": [
    {
     "name": "stdout",
     "output_type": "stream",
     "text": [
      "Queries in train and test: 96 95\n",
      "Instances in train and test: 26886 10631\n",
      "{'C': 1000, 'gamma': 0.001, 'kernel': 'rbf'}\n",
      "Classification report on dev test set:\n",
      "              precision    recall  f1-score   support\n",
      "\n",
      "           0       1.00      1.00      1.00     10576\n",
      "           1       0.55      0.80      0.65        55\n",
      "\n",
      "    accuracy                           1.00     10631\n",
      "   macro avg       0.77      0.90      0.82     10631\n",
      "weighted avg       1.00      1.00      1.00     10631\n",
      "\n",
      "Queries in train and test: 21 20\n",
      "Instances in train and test: 2807 3399\n"
     ]
    },
    {
     "name": "stderr",
     "output_type": "stream",
     "text": [
      "/data/home/mcollardanuy/PlaceLinking/toponym_resolution/tools/resolution_methods.py:183: SettingWithCopyWarning: \n",
      "A value is trying to be set on a copy of a slice from a DataFrame\n",
      "\n",
      "See the caveats in the documentation: https://pandas.pydata.org/pandas-docs/stable/user_guide/indexing.html#returning-a-view-versus-a-copy\n",
      "  df.drop_duplicates(subset=['Query','Candidate'], inplace=True)\n"
     ]
    },
    {
     "name": "stdout",
     "output_type": "stream",
     "text": [
      "{'C': 1000, 'kernel': 'linear'}\n",
      "Classification report on dev test set:\n",
      "              precision    recall  f1-score   support\n",
      "\n",
      "           0       1.00      1.00      1.00      3396\n",
      "           1       0.19      1.00      0.32         3\n",
      "\n",
      "    accuracy                           1.00      3399\n",
      "   macro avg       0.59      1.00      0.66      3399\n",
      "weighted avg       1.00      1.00      1.00      3399\n",
      "\n",
      "Stations threshold: 0.0 0.0\n",
      "Stations threshold: 0.05 0.402\n",
      "Stations threshold: 0.1 0.402\n",
      "Stations threshold: 0.15 0.402\n",
      "Stations threshold: 0.2 0.402\n",
      "Stations threshold: 0.25 0.402\n",
      "Stations threshold: 0.3 0.402\n",
      "Stations threshold: 0.35 0.402\n",
      "Stations threshold: 0.4 0.402\n",
      "Stations threshold: 0.45 0.402\n",
      "Stations threshold: 0.5 0.402\n",
      "Stations threshold: 0.55 0.402\n",
      "Stations threshold: 0.6 0.402\n",
      "Stations threshold: 0.65 0.8858\n",
      "Stations threshold: 0.7 0.8858\n",
      "Stations threshold: 0.75 0.8858\n",
      "Stations threshold: 0.8 0.8858\n",
      "Stations threshold: 0.85 0.8828\n",
      "Stations threshold: 0.9 0.8828\n",
      "Stations threshold: 0.95 0.8828\n"
     ]
    }
   ],
   "source": [
    "# -------------------------------\n",
    "# Predict railway stations\n",
    "# -------------------------------\n",
    "# f0 (SubStFormatted-candidate DeezyMatch confidence)\n",
    "# f1 (MainStation-candidate DeezyMatch confidence)\n",
    "# f2 (Altname-candidate DeezyMatch confidence)\n",
    "# f3 (String similarity)\n",
    "# f4 (Wikidata class: is it an instance of railway station)\n",
    "# f5 (Wikidata class: is it an instance of populated place)\n",
    "# f6 (Closest place confidence)\n",
    "# f7 (Closest subst/altname confidence)\n",
    "# f8 (Relevance through wikipedia inlinks)\n",
    "\n",
    "dev_df = pd.read_csv(\"features_dev_\" + candrank_method + \".tsv\",sep='\\t', index_col=0) # development set feature vectors\n",
    "use_cols_stations = ['f_0','f_1','f_2','f_3','f_4','f_5','f_6','f_7','f_8'] # features to use\n",
    "run = \"dev\" # whether we're using for developing (\"dev\": we return a classifier trained\n",
    "            # on the train portion of the dev set) or testing (\"test\": we train a classifier\n",
    "            # trained on the full dev set).\n",
    "        \n",
    "# The following returns a classifier and the test set portion of the development set\n",
    "# (independently from the content of the run variable):\n",
    "clf_stations = resolution_methods.train_classifier(dev_df, use_cols_stations, run)\n",
    "\n",
    "# -------------------------------\n",
    "# Predict places\n",
    "# -------------------------------\n",
    "# f1 (MainStation-candidate DeezyMatch confidence)\n",
    "# f3 (String similarity)\n",
    "# f4 (Wikidata class: is it an instance of railway station)\n",
    "# f5 (Wikidata class: is it an instance of populated place)\n",
    "# f7 (Closest subst/altname confidence)\n",
    "# f8 (Relevance through wikipedia inlinks)\n",
    "\n",
    "dev_df = pd.read_csv(\"features_dev_\" + candrank_method + \".tsv\",sep='\\t', index_col=0) # development set feature vectors\n",
    "df_inexact = dev_df[dev_df[\"Exact\"] == 0]\n",
    "use_cols_places = ['f_1','f_3','f_4','f_5','f_7','f_8'] # features to use\n",
    "run = \"dev\" # whether we're using for developing (\"dev\": we return a classifier trained\n",
    "            # on the train portion of the dev set) or testing (\"test\": we train a classifier\n",
    "            # trained on the full dev set).\n",
    "        \n",
    "# The following returns a classifier and the test set portion of the development set\n",
    "# (independently from the content of the run variable):\n",
    "clf_places = resolution_methods.train_classifier(df_inexact, use_cols_places, run)\n",
    "\n",
    "# -------------------------------\n",
    "# Finding best stations threshold\n",
    "# -------------------------------\n",
    "\n",
    "minthr = 0\n",
    "maxthr = 1\n",
    "stepthr = 0.05\n",
    "mindist = 5\n",
    "resolution_methods.find_thresholds(dev_df, clf_stations, use_cols_stations, gazetteer_df, minthr, maxthr, stepthr, mindist)"
   ]
  },
  {
   "cell_type": "markdown",
   "metadata": {},
   "source": [
    "### Method and baselines"
   ]
  },
  {
   "cell_type": "code",
   "execution_count": 8,
   "metadata": {},
   "outputs": [],
   "source": [
    "# We will store the results of all methods/baselines as columns in the original structured dataframe:\n",
    "results_test_df = pd.read_pickle(\"../processed/quicks/quicks_test.pkl\")"
   ]
  },
  {
   "cell_type": "code",
   "execution_count": 10,
   "metadata": {},
   "outputs": [],
   "source": [
    "# -------------------------------\n",
    "# Apply our classification methods (column \"our_method\")\n",
    "# -------------------------------\n",
    "optimal_threshold = 0.5\n",
    "features_test_df = pd.read_csv(\"features_test_\" + candrank_method + \".tsv\",sep='\\t', index_col=0) # test set feature vectors\n",
    "\n",
    "results_test_df = resolution_methods.our_method(features_test_df, clf_stations, use_cols_stations, clf_places, use_cols_places, gazetteer_df, optimal_threshold, results_test_df)"
   ]
  },
  {
   "cell_type": "code",
   "execution_count": 11,
   "metadata": {},
   "outputs": [],
   "source": [
    "# -------------------------------\n",
    "# Baseline: Apply candrank-most-confident baseline\n",
    "# -------------------------------\n",
    "results_test_df = resolution_methods.candrank_most_confident(features_test_df, results_test_df)"
   ]
  },
  {
   "cell_type": "code",
   "execution_count": 12,
   "metadata": {},
   "outputs": [],
   "source": [
    "# -------------------------------\n",
    "# Baseline: Apply wikipedia-most-relevant baseline\n",
    "# -------------------------------\n",
    "results_test_df = resolution_methods.wikipedia_most_relevant(features_test_df, results_test_df)"
   ]
  },
  {
   "cell_type": "code",
   "execution_count": 13,
   "metadata": {},
   "outputs": [],
   "source": [
    "# -------------------------------\n",
    "# Baseline: Apply semantically_most_similar baseline\n",
    "# -------------------------------\n",
    "results_test_df = resolution_methods.semantically_most_similar(features_test_df, results_test_df)"
   ]
  },
  {
   "cell_type": "code",
   "execution_count": 14,
   "metadata": {},
   "outputs": [
    {
     "data": {
      "text/html": [
       "<div>\n",
       "<style scoped>\n",
       "    .dataframe tbody tr th:only-of-type {\n",
       "        vertical-align: middle;\n",
       "    }\n",
       "\n",
       "    .dataframe tbody tr th {\n",
       "        vertical-align: top;\n",
       "    }\n",
       "\n",
       "    .dataframe thead th {\n",
       "        text-align: right;\n",
       "    }\n",
       "</style>\n",
       "<table border=\"1\" class=\"dataframe\">\n",
       "  <thead>\n",
       "    <tr style=\"text-align: right;\">\n",
       "      <th></th>\n",
       "      <th>MainId</th>\n",
       "      <th>SubId</th>\n",
       "      <th>MainStation</th>\n",
       "      <th>SubStation</th>\n",
       "      <th>SubStFormatted</th>\n",
       "      <th>Description</th>\n",
       "      <th>Final Wikidata ID</th>\n",
       "      <th>DevTest</th>\n",
       "      <th>Disambiguator</th>\n",
       "      <th>Companies</th>\n",
       "      <th>...</th>\n",
       "      <th>LocsMapsDescr</th>\n",
       "      <th>Altnames</th>\n",
       "      <th>Referenced</th>\n",
       "      <th>FirstOpening</th>\n",
       "      <th>LastClosing</th>\n",
       "      <th>Interrupted</th>\n",
       "      <th>our_method</th>\n",
       "      <th>candrank_most_confident</th>\n",
       "      <th>wikipedia_most_relevant</th>\n",
       "      <th>semantically_most_similar</th>\n",
       "    </tr>\n",
       "  </thead>\n",
       "  <tbody>\n",
       "    <tr>\n",
       "      <th>0</th>\n",
       "      <td>763</td>\n",
       "      <td>1001</td>\n",
       "      <td>BERE FERRERS</td>\n",
       "      <td>BERE FERRERS</td>\n",
       "      <td>BERE FERRERS</td>\n",
       "      <td>[LSW] op 1 June 1890 (W D Merc 2 nd ) as BEER ...</td>\n",
       "      <td>Q2550845</td>\n",
       "      <td>Test</td>\n",
       "      <td>[]</td>\n",
       "      <td>[LSW]</td>\n",
       "      <td>...</td>\n",
       "      <td></td>\n",
       "      <td>[BEER FERRIS]</td>\n",
       "      <td>[]</td>\n",
       "      <td>1 June 1890</td>\n",
       "      <td>31 December 2001</td>\n",
       "      <td>False</td>\n",
       "      <td>Q2550845</td>\n",
       "      <td>Q2550845</td>\n",
       "      <td>Q1996192</td>\n",
       "      <td>Q4891152</td>\n",
       "    </tr>\n",
       "    <tr>\n",
       "      <th>1</th>\n",
       "      <td>7665</td>\n",
       "      <td>10050</td>\n",
       "      <td>SELBY</td>\n",
       "      <td>S BRAYTON GATES</td>\n",
       "      <td>SELBY BRAYTON GATES</td>\n",
       "      <td>op 16 February 1898  ([Yorkshire] Evening Pres...</td>\n",
       "      <td>Q48791901</td>\n",
       "      <td>Test</td>\n",
       "      <td>[]</td>\n",
       "      <td>[]</td>\n",
       "      <td>...</td>\n",
       "      <td></td>\n",
       "      <td>[]</td>\n",
       "      <td>[]</td>\n",
       "      <td>16 February 1898</td>\n",
       "      <td>None</td>\n",
       "      <td>False</td>\n",
       "      <td>Q527846</td>\n",
       "      <td>Q27087578</td>\n",
       "      <td>Q527846</td>\n",
       "      <td>Q7447561</td>\n",
       "    </tr>\n",
       "    <tr>\n",
       "      <th>2</th>\n",
       "      <td>775</td>\n",
       "      <td>1014</td>\n",
       "      <td>BERVIE</td>\n",
       "      <td>BERVIE</td>\n",
       "      <td>BERVIE</td>\n",
       "      <td>– see INVERBERVIE.</td>\n",
       "      <td>Q58407002</td>\n",
       "      <td>Test</td>\n",
       "      <td>[]</td>\n",
       "      <td>[]</td>\n",
       "      <td>...</td>\n",
       "      <td></td>\n",
       "      <td>[]</td>\n",
       "      <td>[INVERBERVIE]</td>\n",
       "      <td>None</td>\n",
       "      <td>None</td>\n",
       "      <td>False</td>\n",
       "      <td>Q58407002</td>\n",
       "      <td>Q58407002</td>\n",
       "      <td>Q568713</td>\n",
       "      <td>Q4784967</td>\n",
       "    </tr>\n",
       "    <tr>\n",
       "      <th>3</th>\n",
       "      <td>7746</td>\n",
       "      <td>10161</td>\n",
       "      <td>SHEPTON MALLET</td>\n",
       "      <td>SHEPTON MALLET</td>\n",
       "      <td>SHEPTON MALLET</td>\n",
       "      <td>Brad (index only) had S MALLETT at least 1883 ...</td>\n",
       "      <td>Q7494575</td>\n",
       "      <td>Test</td>\n",
       "      <td>[]</td>\n",
       "      <td>[]</td>\n",
       "      <td>...</td>\n",
       "      <td></td>\n",
       "      <td>[SHEPTON MALLETT]</td>\n",
       "      <td>[]</td>\n",
       "      <td>None</td>\n",
       "      <td>None</td>\n",
       "      <td>False</td>\n",
       "      <td>Q1236661</td>\n",
       "      <td>Q7494574</td>\n",
       "      <td>Q1236661</td>\n",
       "      <td>Q7494575</td>\n",
       "    </tr>\n",
       "    <tr>\n",
       "      <th>4</th>\n",
       "      <td>7748</td>\n",
       "      <td>10165</td>\n",
       "      <td>SHERBURN</td>\n",
       "      <td>SHERBURN</td>\n",
       "      <td>SHERBURN</td>\n",
       "      <td>– see WEAVERTHORPE.</td>\n",
       "      <td>Q92796796</td>\n",
       "      <td>Test</td>\n",
       "      <td>[]</td>\n",
       "      <td>[]</td>\n",
       "      <td>...</td>\n",
       "      <td></td>\n",
       "      <td>[]</td>\n",
       "      <td>[WEAVERTHORPE]</td>\n",
       "      <td>None</td>\n",
       "      <td>None</td>\n",
       "      <td>False</td>\n",
       "      <td>Q7978392</td>\n",
       "      <td>Q1881964</td>\n",
       "      <td>Q7494758</td>\n",
       "      <td>Q7978392</td>\n",
       "    </tr>\n",
       "  </tbody>\n",
       "</table>\n",
       "<p>5 rows × 23 columns</p>\n",
       "</div>"
      ],
      "text/plain": [
       "   MainId  SubId     MainStation       SubStation       SubStFormatted  \\\n",
       "0     763   1001    BERE FERRERS     BERE FERRERS         BERE FERRERS   \n",
       "1    7665  10050           SELBY  S BRAYTON GATES  SELBY BRAYTON GATES   \n",
       "2     775   1014          BERVIE           BERVIE               BERVIE   \n",
       "3    7746  10161  SHEPTON MALLET   SHEPTON MALLET       SHEPTON MALLET   \n",
       "4    7748  10165        SHERBURN         SHERBURN             SHERBURN   \n",
       "\n",
       "                                         Description Final Wikidata ID  \\\n",
       "0  [LSW] op 1 June 1890 (W D Merc 2 nd ) as BEER ...          Q2550845   \n",
       "1  op 16 February 1898  ([Yorkshire] Evening Pres...         Q48791901   \n",
       "2                                 – see INVERBERVIE.         Q58407002   \n",
       "3  Brad (index only) had S MALLETT at least 1883 ...          Q7494575   \n",
       "4                                – see WEAVERTHORPE.         Q92796796   \n",
       "\n",
       "  DevTest Disambiguator Companies  ... LocsMapsDescr           Altnames  \\\n",
       "0    Test            []     [LSW]  ...                    [BEER FERRIS]   \n",
       "1    Test            []        []  ...                               []   \n",
       "2    Test            []        []  ...                               []   \n",
       "3    Test            []        []  ...                [SHEPTON MALLETT]   \n",
       "4    Test            []        []  ...                               []   \n",
       "\n",
       "       Referenced      FirstOpening       LastClosing Interrupted our_method  \\\n",
       "0              []       1 June 1890  31 December 2001       False   Q2550845   \n",
       "1              []  16 February 1898              None       False    Q527846   \n",
       "2   [INVERBERVIE]              None              None       False  Q58407002   \n",
       "3              []              None              None       False   Q1236661   \n",
       "4  [WEAVERTHORPE]              None              None       False   Q7978392   \n",
       "\n",
       "  candrank_most_confident  wikipedia_most_relevant semantically_most_similar  \n",
       "0                Q2550845                 Q1996192                  Q4891152  \n",
       "1               Q27087578                  Q527846                  Q7447561  \n",
       "2               Q58407002                  Q568713                  Q4784967  \n",
       "3                Q7494574                 Q1236661                  Q7494575  \n",
       "4                Q1881964                 Q7494758                  Q7978392  \n",
       "\n",
       "[5 rows x 23 columns]"
      ]
     },
     "execution_count": 14,
     "metadata": {},
     "output_type": "execute_result"
    }
   ],
   "source": [
    "results_test_df.head()"
   ]
  },
  {
   "cell_type": "markdown",
   "metadata": {},
   "source": [
    "### Evaluate entity resolution"
   ]
  },
  {
   "cell_type": "code",
   "execution_count": 15,
   "metadata": {},
   "outputs": [
    {
     "name": "stdout",
     "output_type": "stream",
     "text": [
      "our_method partial_match\n",
      "-------------------------\n",
      "Hamming Loss: 0.4479638009049774\n",
      "Accuracy Score: 0.5520361990950227\n",
      "Jaccard Score: 0.4053156146179402\n",
      "Accuracy at 1: 0.6742081447963801\n",
      "Accuracy at 5: 0.7285067873303167\n",
      "Accuracy at 10: 0.7330316742081447\n",
      "\n",
      "candrank_most_confident partial_match\n",
      "-------------------------\n",
      "Hamming Loss: 0.4117647058823529\n",
      "Accuracy Score: 0.5882352941176471\n",
      "Jaccard Score: 0.44501718213058417\n",
      "Accuracy at 1: 0.7058823529411765\n",
      "Accuracy at 5: 0.751131221719457\n",
      "Accuracy at 10: 0.7601809954751131\n",
      "\n",
      "wikipedia_most_relevant partial_match\n",
      "-------------------------\n",
      "Hamming Loss: 0.8144796380090498\n",
      "Accuracy Score: 0.18552036199095023\n",
      "Jaccard Score: 0.10732984293193717\n",
      "Accuracy at 1: 0.5339366515837104\n",
      "Accuracy at 5: 0.6877828054298643\n",
      "Accuracy at 10: 0.6968325791855203\n",
      "\n",
      "semantically_most_similar partial_match\n",
      "-------------------------\n",
      "Hamming Loss: 0.7782805429864253\n",
      "Accuracy Score: 0.22171945701357465\n",
      "Jaccard Score: 0.13101604278074866\n",
      "Accuracy at 1: 0.48868778280542985\n",
      "Accuracy at 5: 0.669683257918552\n",
      "Accuracy at 10: 0.6877828054298643\n",
      "\n"
     ]
    }
   ],
   "source": [
    "for topres_approach in [\"our_method\", \"candrank_most_confident\", \"wikipedia_most_relevant\", \"semantically_most_similar\"]:\n",
    "    print(topres_approach, candrank_method)\n",
    "    print(\"-------------------------\")\n",
    "    eval_methods.topres_exactmetrics(results_test_df, topres_approach)\n",
    "    eval_methods.topres_distancemetrics(gazetteer_df, results_test_df, topres_approach)\n",
    "    print()"
   ]
  },
  {
   "cell_type": "code",
   "execution_count": null,
   "metadata": {},
   "outputs": [],
   "source": []
  }
 ],
 "metadata": {
  "kernelspec": {
   "display_name": "Python (py37deezy)",
   "language": "python",
   "name": "py37deezy"
  },
  "language_info": {
   "codemirror_mode": {
    "name": "ipython",
    "version": 3
   },
   "file_extension": ".py",
   "mimetype": "text/x-python",
   "name": "python",
   "nbconvert_exporter": "python",
   "pygments_lexer": "ipython3",
   "version": "3.7.9"
  }
 },
 "nbformat": 4,
 "nbformat_minor": 4
}
