{
 "cells": [
  {
   "cell_type": "code",
   "execution_count": 1,
   "metadata": {},
   "outputs": [],
   "source": [
    "%load_ext autoreload\n",
    "%autoreload 2"
   ]
  },
  {
   "cell_type": "markdown",
   "metadata": {},
   "source": [
    "# Entity resolution"
   ]
  },
  {
   "cell_type": "code",
   "execution_count": 2,
   "metadata": {
    "scrolled": true
   },
   "outputs": [
    {
     "name": "stderr",
     "output_type": "stream",
     "text": [
      "/data/anaconda/envs/py37deezy/lib/python3.7/site-packages/torch/cuda/__init__.py:52: UserWarning: CUDA initialization: The NVIDIA driver on your system is too old (found version 10000). Please update your GPU driver by downloading and installing a new version from the URL: http://www.nvidia.com/Download/index.aspx Alternatively, go to: https://pytorch.org to install a PyTorch version that has been compiled with your version of the CUDA driver. (Triggered internally at  /pytorch/c10/cuda/CUDAFunctions.cpp:109.)\n",
      "  return torch._C._cuda_getDeviceCount() > 0\n"
     ]
    }
   ],
   "source": [
    "import pandas as pd\n",
    "from pathlib import Path\n",
    "from tools import eval_methods, resolution_methods\n",
    "import numpy as np\n",
    "from sklearn.model_selection import train_test_split, GridSearchCV\n",
    "from sklearn.svm import LinearSVC, SVC\n",
    "from sklearn.ensemble import RandomForestClassifier\n",
    "from sklearn.metrics import classification_report, f1_score\n",
    "import random"
   ]
  },
  {
   "cell_type": "code",
   "execution_count": 3,
   "metadata": {},
   "outputs": [],
   "source": [
    "gazetteer_df = pd.read_csv(\"../processed/wikidata/british_isles_gazetteer.csv\", header=0, index_col=0, low_memory=False)"
   ]
  },
  {
   "cell_type": "code",
   "execution_count": 4,
   "metadata": {},
   "outputs": [],
   "source": [
    "import pickle\n",
    "with open(\"/resources/wikipedia/extractedResources/overall_entity_freq.pickle\", 'rb') as fp:\n",
    "    wikipedia_entity_overall_dict = pickle.load(fp)"
   ]
  },
  {
   "cell_type": "markdown",
   "metadata": {},
   "source": [
    "### Feature selection"
   ]
  },
  {
   "cell_type": "code",
   "execution_count": 5,
   "metadata": {},
   "outputs": [
    {
     "name": "stdout",
     "output_type": "stream",
     "text": [
      "deezy_match test 5 done!\n",
      "deezy_match dev 5 done!\n",
      "deezy_match test 3 done!\n",
      "deezy_match dev 3 done!\n",
      "deezy_match test 1 done!\n",
      "deezy_match dev 1 done!\n"
     ]
    }
   ],
   "source": [
    "# ------------------\n",
    "# Feature selection for dev and test\n",
    "num_candidates_list = [5, 3, 1]\n",
    "settings = [\"test\", \"dev\"]\n",
    "candrank_approaches = [\"deezy_match\"]\n",
    "for num_candidates in num_candidates_list:\n",
    "    for setting in settings:\n",
    "        for candrank in candrank_approaches:\n",
    "            features_file = \"../processed/resolution/features_\" + candrank + \"_\" + setting + str(num_candidates) + \".tsv\"\n",
    "            if not Path(features_file).is_file():\n",
    "                df = pd.read_pickle(\"../processed/resolution/candranking_\" + candrank + \"_\" + setting + str(num_candidates) + \".pkl\")\n",
    "                exp_df = resolution_methods.feature_selection(candrank, df, gazetteer_df, wikipedia_entity_overall_dict)\n",
    "                exp_df.drop_duplicates(subset=['Query','Candidate'], inplace=True)\n",
    "                exp_df.to_csv(features_file, sep=\"\\t\")\n",
    "            print(candrank + \" \" + setting + \" \" + str(num_candidates) + \" done!\")\n",
    "\n",
    "features_dev = pd.read_csv(\"../processed/resolution/features_\" + candrank + \"_dev\" + str(num_candidates) + \".tsv\",sep='\\t', index_col=0)\n",
    "features_test = pd.read_csv(\"../processed/resolution/features_\" + candrank + \"_test\" + str(num_candidates) + \".tsv\",sep='\\t', index_col=0)"
   ]
  },
  {
   "cell_type": "markdown",
   "metadata": {},
   "source": [
    "### Training classifiers"
   ]
  },
  {
   "cell_type": "code",
   "execution_count": 6,
   "metadata": {},
   "outputs": [],
   "source": [
    "num_candidates = 1\n",
    "candrank_method = \"deezy_match\"\n",
    "\n",
    "features_dev = pd.read_csv(\"../processed/resolution/features_\" + candrank + \"_dev\" + str(num_candidates) + \".tsv\",sep='\\t', index_col=0)\n",
    "features_test = pd.read_csv(\"../processed/resolution/features_\" + candrank + \"_test\" + str(num_candidates) + \".tsv\",sep='\\t', index_col=0)"
   ]
  },
  {
   "cell_type": "code",
   "execution_count": 7,
   "metadata": {},
   "outputs": [
    {
     "name": "stdout",
     "output_type": "stream",
     "text": [
      "Queries in train and test: 82 81\n",
      "Instances in train and test: 336 4555\n",
      "{'C': 0.1, 'kernel': 'linear'}\n",
      "Classification report on the test split of the dev set:\n",
      "              precision    recall  f1-score   support\n",
      "\n",
      "           0       1.00      1.00      1.00      4467\n",
      "           1       0.97      0.77      0.86        88\n",
      "\n",
      "    accuracy                           1.00      4555\n",
      "   macro avg       0.98      0.89      0.93      4555\n",
      "weighted avg       1.00      1.00      0.99      4555\n",
      "\n",
      "[[ 1.51967785e+00 -5.58781562e-02 -5.63567062e-04  8.28458809e-06\n",
      "   2.74448717e-02  0.00000000e+00  5.35876468e-01  0.00000000e+00\n",
      "  -1.81169897e-03]]\n",
      "Queries in train and test: 24 23\n",
      "Instances in train and test: 216 115\n",
      "{'C': 1000, 'kernel': 'linear'}\n",
      "Classification report on the test split of the dev set:\n",
      "              precision    recall  f1-score   support\n",
      "\n",
      "           0       0.96      0.91      0.93       109\n",
      "           1       0.17      0.33      0.22         6\n",
      "\n",
      "    accuracy                           0.88       115\n",
      "   macro avg       0.56      0.62      0.58       115\n",
      "weighted avg       0.92      0.88      0.90       115\n",
      "\n",
      "[[ 0.22313929 -3.23703532  0.          0.59404004  0.57320208 10.07739037]]\n"
     ]
    }
   ],
   "source": [
    "# -------------------------------\n",
    "# Predict railway stations\n",
    "# -------------------------------\n",
    "# f0 (SubStFormatted-candidate DeezyMatch confidence)\n",
    "# f1 (MainStation-candidate DeezyMatch confidence)\n",
    "# f2 (Altname-candidate DeezyMatch confidence)\n",
    "# f3 (String similarity)\n",
    "# f4 (Wikidata class: is it an instance of railway station)\n",
    "# f5 (Wikidata class: is it an instance of populated place)\n",
    "# f6 (Closest place confidence)\n",
    "# f7 (Closest subst/altname confidence)\n",
    "# f8 (Relevance through wikipedia inlinks)\n",
    "\n",
    "dev_df = features_dev # development set feature vectors\n",
    "df_exact = dev_df[dev_df[\"Exact\"] == 1]\n",
    "use_cols_stations = ['f_0','f_1','f_2','f_3','f_4','f_5','f_6','f_7','f_8'] # features to use\n",
    "        \n",
    "# The following returns a classifier and the test set portion of the development set\n",
    "# (independently from the content of the run variable):\n",
    "clf_stations = resolution_methods.train_classifier(df_exact, use_cols_stations)\n",
    "\n",
    "with open('../processed/resolution/clf_stations.pkl', 'wb') as f:\n",
    "    pickle.dump(clf_stations, f)\n",
    "\n",
    "# -------------------------------\n",
    "# Predict places\n",
    "# -------------------------------\n",
    "# f1 (MainStation-candidate DeezyMatch confidence)\n",
    "# f3 (String similarity)\n",
    "# f4 (Wikidata class: is it an instance of railway station)\n",
    "# f5 (Wikidata class: is it an instance of populated place)\n",
    "# f7 (Closest subst/altname confidence)\n",
    "# f8 (Relevance through wikipedia inlinks)\n",
    "\n",
    "dev_df = features_dev # development set feature vectors\n",
    "df_inexact = dev_df[dev_df[\"Exact\"] == 0]\n",
    "use_cols_places = ['f_1','f_3','f_4','f_5','f_7','f_8'] # features to use\n",
    "        \n",
    "# The following returns a classifier and the test set portion of the development set\n",
    "# (independently from the content of the run variable):\n",
    "clf_places = resolution_methods.train_classifier(df_inexact, use_cols_places)\n",
    "\n",
    "with open('../processed/resolution/clf_places.pkl', 'wb') as f:\n",
    "    pickle.dump(clf_places, f)"
   ]
  },
  {
   "cell_type": "markdown",
   "metadata": {},
   "source": [
    "### Find best threshold"
   ]
  },
  {
   "cell_type": "code",
   "execution_count": 8,
   "metadata": {},
   "outputs": [],
   "source": [
    "# Find optimal threshold for stations/placess\n",
    "# --------------------------------------------\n",
    "optimal_threshold = 0.0\n",
    "keep_acc = 0.0\n",
    "for th in np.arange(0, 1, 0.05):\n",
    "    th = round(th, 2)\n",
    "    results_dev_df = pd.read_pickle(\"../processed/quicks/quicks_dev.pkl\")\n",
    "    results_dev_df = resolution_methods.our_method(features_dev, clf_stations, use_cols_stations, clf_places, use_cols_places, gazetteer_df, th, results_dev_df)\n",
    "    acc = eval_methods.topres_exactmetrics(results_dev_df, \"our_method\")\n",
    "    if acc >= keep_acc:\n",
    "        optimal_threshold = th\n",
    "        keep_acc = acc"
   ]
  },
  {
   "cell_type": "markdown",
   "metadata": {},
   "source": [
    "### Method and baselines"
   ]
  },
  {
   "cell_type": "code",
   "execution_count": 9,
   "metadata": {},
   "outputs": [],
   "source": [
    "# We will store the results of all methods/baselines as columns in the original structured dataframe:\n",
    "results_test_df = pd.read_pickle(\"../processed/quicks/quicks_test.pkl\")"
   ]
  },
  {
   "cell_type": "code",
   "execution_count": 10,
   "metadata": {},
   "outputs": [],
   "source": [
    "# -------------------------------\n",
    "# Apply our classification methods (column \"our_method\")\n",
    "# -------------------------------\n",
    "features_test_df = features_test # test set feature vectors\n",
    "results_test_df = resolution_methods.our_method(features_test_df, clf_stations, use_cols_stations, clf_places, use_cols_places, gazetteer_df, optimal_threshold, results_test_df)"
   ]
  },
  {
   "cell_type": "code",
   "execution_count": 11,
   "metadata": {},
   "outputs": [],
   "source": [
    "# -------------------------------\n",
    "# Baseline: Apply candrank-most-confident baseline\n",
    "# -------------------------------\n",
    "results_test_df = resolution_methods.candrank_most_confident(features_test_df, results_test_df)"
   ]
  },
  {
   "cell_type": "code",
   "execution_count": 12,
   "metadata": {},
   "outputs": [],
   "source": [
    "# -------------------------------\n",
    "# Baseline: Apply wikipedia-most-relevant baseline\n",
    "# -------------------------------\n",
    "results_test_df = resolution_methods.wikipedia_most_relevant(features_test_df, results_test_df)"
   ]
  },
  {
   "cell_type": "code",
   "execution_count": 13,
   "metadata": {},
   "outputs": [],
   "source": [
    "# -------------------------------\n",
    "# Baseline: Apply semantically_most_similar baseline\n",
    "# -------------------------------\n",
    "results_test_df = resolution_methods.semantically_most_similar(features_test_df, results_test_df)"
   ]
  },
  {
   "cell_type": "markdown",
   "metadata": {},
   "source": [
    "### Evaluate entity resolution"
   ]
  },
  {
   "cell_type": "code",
   "execution_count": 14,
   "metadata": {},
   "outputs": [
    {
     "name": "stdout",
     "output_type": "stream",
     "text": [
      "our_method deezy_match\n",
      "-------------------------\n",
      "Exact: 0.7031963470319634\n",
      "Acc@1: 0.7671232876712328\n",
      "Acc@5: 0.821917808219178\n",
      "Acc@10: 0.8264840182648402\n",
      "\n",
      "candrank_most_confident deezy_match\n",
      "-------------------------\n",
      "Exact: 0.634703196347032\n",
      "Acc@1: 0.684931506849315\n",
      "Acc@5: 0.7534246575342466\n",
      "Acc@10: 0.7579908675799086\n",
      "\n",
      "wikipedia_most_relevant deezy_match\n",
      "-------------------------\n",
      "Exact: 0.1187214611872146\n",
      "Acc@1: 0.4611872146118721\n",
      "Acc@5: 0.7123287671232876\n",
      "Acc@10: 0.7214611872146118\n",
      "\n",
      "semantically_most_similar deezy_match\n",
      "-------------------------\n",
      "Exact: 0.3287671232876712\n",
      "Acc@1: 0.5205479452054794\n",
      "Acc@5: 0.6986301369863014\n",
      "Acc@10: 0.7077625570776256\n",
      "\n"
     ]
    }
   ],
   "source": [
    "for topres_approach in [\"our_method\", \"candrank_most_confident\", \"wikipedia_most_relevant\", \"semantically_most_similar\"]:\n",
    "    print(topres_approach, candrank_method)\n",
    "    print(\"-------------------------\")\n",
    "    exact_acc = eval_methods.topres_exactmetrics(results_test_df, topres_approach)\n",
    "    acc_at_1, acc_at_5, acc_at_10 = eval_methods.topres_distancemetrics(gazetteer_df, results_test_df, topres_approach)\n",
    "    print(\"Exact:\", exact_acc)\n",
    "    print(\"Acc@1:\", acc_at_1)\n",
    "    print(\"Acc@5:\", acc_at_5)\n",
    "    print(\"Acc@10:\", acc_at_10)\n",
    "    print()"
   ]
  },
  {
   "cell_type": "code",
   "execution_count": null,
   "metadata": {},
   "outputs": [],
   "source": []
  }
 ],
 "metadata": {
  "kernelspec": {
   "display_name": "Python (py37deezy)",
   "language": "python",
   "name": "py37deezy"
  },
  "language_info": {
   "codemirror_mode": {
    "name": "ipython",
    "version": 3
   },
   "file_extension": ".py",
   "mimetype": "text/x-python",
   "name": "python",
   "nbconvert_exporter": "python",
   "pygments_lexer": "ipython3",
   "version": "3.7.9"
  }
 },
 "nbformat": 4,
 "nbformat_minor": 4
}
