{
 "cells": [
  {
   "cell_type": "markdown",
   "metadata": {},
   "source": [
    "# Entity resolution"
   ]
  },
  {
   "cell_type": "code",
   "execution_count": null,
   "metadata": {
    "scrolled": true
   },
   "outputs": [],
   "source": [
    "import pandas as pd\n",
    "from pathlib import Path\n",
    "from tools import eval_methods, resolution_methods\n",
    "import numpy as np\n",
    "from sklearn.model_selection import train_test_split, GridSearchCV\n",
    "from sklearn.svm import LinearSVC, SVC\n",
    "from sklearn.ensemble import RandomForestClassifier\n",
    "from sklearn.metrics import classification_report, f1_score\n",
    "import random\n",
    "\n",
    "# import pickle"
   ]
  },
  {
   "cell_type": "code",
   "execution_count": null,
   "metadata": {},
   "outputs": [],
   "source": [
    "gazetteer_df = pd.read_csv(\"../processed/wikidata/british_isles_gazetteer.csv\", header=0, index_col=0, low_memory=False)"
   ]
  },
  {
   "cell_type": "code",
   "execution_count": null,
   "metadata": {},
   "outputs": [],
   "source": [
    "import pickle\n",
    "with open(\"/resources/wikipedia/extractedResources/overall_entity_freq.pickle\", 'rb') as fp:\n",
    "    wikipedia_entity_overall_dict = pickle.load(fp)"
   ]
  },
  {
   "cell_type": "markdown",
   "metadata": {},
   "source": [
    "### Feature selection"
   ]
  },
  {
   "cell_type": "code",
   "execution_count": null,
   "metadata": {},
   "outputs": [],
   "source": [
    "# ------------------\n",
    "# Feature selection for dev and test\n",
    "settings = [\"test\", \"dev\"]\n",
    "candrank_approaches = [\"deezy_match\"]\n",
    "for candrank in candrank_approaches:\n",
    "    for setting in settings:\n",
    "        features_file = \"features_\" + setting + \"_\" + candrank + \".tsv\"\n",
    "        if not Path(features_file).is_file():\n",
    "            df = pd.read_pickle(\"candranking_\" + setting + \".pkl\")\n",
    "            exp_df = resolution_methods.feature_selection(candrank, df, gazetteer_df, wikipedia_entity_overall_dict)\n",
    "            exp_df.drop_duplicates(subset=['Query','Candidate'], inplace=True)\n",
    "            exp_df.to_csv(features_file, sep=\"\\t\")\n",
    "        print(candrank + \" \" + setting + \" done!\")\n",
    "\n",
    "features_dev = pd.read_csv(\"features_dev_\" + candrank + \".tsv\",sep='\\t', index_col=0)\n",
    "features_test = pd.read_csv(\"features_test_\" + candrank + \".tsv\",sep='\\t', index_col=0)"
   ]
  },
  {
   "cell_type": "markdown",
   "metadata": {},
   "source": [
    "### Training classifiers"
   ]
  },
  {
   "cell_type": "code",
   "execution_count": null,
   "metadata": {},
   "outputs": [],
   "source": [
    "candrank_method = \"deezy_match\""
   ]
  },
  {
   "cell_type": "code",
   "execution_count": null,
   "metadata": {},
   "outputs": [],
   "source": [
    "# -------------------------------\n",
    "# Predict railway stations\n",
    "# -------------------------------\n",
    "# f0 (SubStFormatted-candidate DeezyMatch confidence)\n",
    "# f1 (MainStation-candidate DeezyMatch confidence)\n",
    "# f2 (Altname-candidate DeezyMatch confidence)\n",
    "# f3 (String similarity)\n",
    "# f4 (Wikidata class: is it an instance of railway station)\n",
    "# f5 (Wikidata class: is it an instance of populated place)\n",
    "# f6 (Closest place confidence)\n",
    "# f7 (Closest subst/altname confidence)\n",
    "# f8 (Relevance through wikipedia inlinks)\n",
    "\n",
    "dev_df = pd.read_csv(\"features_dev_\" + candrank_method + \".tsv\",sep='\\t', index_col=0) # development set feature vectors\n",
    "df_exact = dev_df[dev_df[\"Exact\"] == 1]\n",
    "use_cols_stations = ['f_0','f_1','f_2','f_3','f_4','f_5','f_6','f_7','f_8'] # features to use\n",
    "        \n",
    "# The following returns a classifier and the test set portion of the development set\n",
    "# (independently from the content of the run variable):\n",
    "clf_stations = resolution_methods.train_classifier(df_exact, use_cols_stations)\n",
    "\n",
    "with open('clf_stations.pkl', 'wb') as f:\n",
    "    pickle.dump(clf_stations, f)\n",
    "\n",
    "# -------------------------------\n",
    "# Predict places\n",
    "# -------------------------------\n",
    "# f1 (MainStation-candidate DeezyMatch confidence)\n",
    "# f3 (String similarity)\n",
    "# f4 (Wikidata class: is it an instance of railway station)\n",
    "# f5 (Wikidata class: is it an instance of populated place)\n",
    "# f7 (Closest subst/altname confidence)\n",
    "# f8 (Relevance through wikipedia inlinks)\n",
    "\n",
    "dev_df = pd.read_csv(\"features_dev_\" + candrank_method + \".tsv\",sep='\\t', index_col=0) # development set feature vectors\n",
    "df_inexact = dev_df[dev_df[\"Exact\"] == 0]\n",
    "use_cols_places = ['f_1','f_3','f_4','f_5','f_7','f_8'] # features to use\n",
    "        \n",
    "# The following returns a classifier and the test set portion of the development set\n",
    "# (independently from the content of the run variable):\n",
    "clf_places = resolution_methods.train_classifier(df_inexact, use_cols_places)"
   ]
  },
  {
   "cell_type": "markdown",
   "metadata": {},
   "source": [
    "### Find best threshold"
   ]
  },
  {
   "cell_type": "code",
   "execution_count": null,
   "metadata": {},
   "outputs": [],
   "source": [
    "# Find optimal threshold for stations/placess\n",
    "# --------------------------------------------\n",
    "optimal_threshold = 0.0\n",
    "keep_acc = 0.0\n",
    "for th in np.arange(0, 1, 0.05):\n",
    "    th = round(th, 2)\n",
    "    features_dev_df = pd.read_csv(\"features_dev_\" + candrank_method + \".tsv\",sep='\\t', index_col=0) # test set feature vectors\n",
    "    results_dev_df = pd.read_pickle(\"../processed/quicks/quicks_test.pkl\")\n",
    "    results_dev_df = resolution_methods.our_method(features_dev_df, clf_stations, use_cols_stations, clf_places, use_cols_places, gazetteer_df, th, results_dev_df)\n",
    "    acc = eval_methods.topres_exactmetrics(results_dev_df, \"our_method\")\n",
    "    if acc >= keep_acc:\n",
    "        optimal_threshold = th\n",
    "        keep_acc = acc"
   ]
  },
  {
   "cell_type": "markdown",
   "metadata": {},
   "source": [
    "### Method and baselines"
   ]
  },
  {
   "cell_type": "code",
   "execution_count": null,
   "metadata": {},
   "outputs": [],
   "source": [
    "# We will store the results of all methods/baselines as columns in the original structured dataframe:\n",
    "results_test_df = pd.read_pickle(\"../processed/quicks/quicks_test.pkl\")"
   ]
  },
  {
   "cell_type": "code",
   "execution_count": null,
   "metadata": {},
   "outputs": [],
   "source": [
    "# -------------------------------\n",
    "# Apply our classification methods (column \"our_method\")\n",
    "# -------------------------------\n",
    "features_test_df = pd.read_csv(\"features_test_\" + candrank_method + \".tsv\",sep='\\t', index_col=0) # test set feature vectors\n",
    "results_test_df = resolution_methods.our_method(features_test_df, clf_stations, use_cols_stations, clf_places, use_cols_places, gazetteer_df, optimal_threshold, results_test_df)"
   ]
  },
  {
   "cell_type": "code",
   "execution_count": null,
   "metadata": {},
   "outputs": [],
   "source": [
    "# -------------------------------\n",
    "# Baseline: Apply candrank-most-confident baseline\n",
    "# -------------------------------\n",
    "results_test_df = resolution_methods.candrank_most_confident(features_test_df, results_test_df)"
   ]
  },
  {
   "cell_type": "code",
   "execution_count": null,
   "metadata": {},
   "outputs": [],
   "source": [
    "# -------------------------------\n",
    "# Baseline: Apply wikipedia-most-relevant baseline\n",
    "# -------------------------------\n",
    "results_test_df = resolution_methods.wikipedia_most_relevant(features_test_df, results_test_df)"
   ]
  },
  {
   "cell_type": "code",
   "execution_count": null,
   "metadata": {},
   "outputs": [],
   "source": [
    "# -------------------------------\n",
    "# Baseline: Apply semantically_most_similar baseline\n",
    "# -------------------------------\n",
    "results_test_df = resolution_methods.semantically_most_similar(features_test_df, results_test_df)"
   ]
  },
  {
   "cell_type": "markdown",
   "metadata": {},
   "source": [
    "### Evaluate entity resolution"
   ]
  },
  {
   "cell_type": "code",
   "execution_count": null,
   "metadata": {},
   "outputs": [],
   "source": [
    "for topres_approach in [\"our_method\", \"candrank_most_confident\", \"wikipedia_most_relevant\", \"semantically_most_similar\"]:\n",
    "    print(topres_approach, candrank_method)\n",
    "    print(\"-------------------------\")\n",
    "    exact_acc = eval_methods.topres_exactmetrics(results_test_df, topres_approach)\n",
    "    acc_at_1, acc_at_5, acc_at_10 = eval_methods.topres_distancemetrics(gazetteer_df, results_test_df, topres_approach)\n",
    "    print(\"Exact:\", exact_acc)\n",
    "    print(\"Acc@1:\", acc_at_1)\n",
    "    print(\"Acc@5:\", acc_at_5)\n",
    "    print(\"Acc@10:\", acc_at_10)\n",
    "    print()"
   ]
  },
  {
   "cell_type": "code",
   "execution_count": null,
   "metadata": {},
   "outputs": [],
   "source": []
  }
 ],
 "metadata": {
  "kernelspec": {
   "display_name": "Python (py37deezy)",
   "language": "python",
   "name": "py37deezy"
  },
  "language_info": {
   "codemirror_mode": {
    "name": "ipython",
    "version": 3
   },
   "file_extension": ".py",
   "mimetype": "text/x-python",
   "name": "python",
   "nbconvert_exporter": "python",
   "pygments_lexer": "ipython3",
   "version": "3.7.9"
  }
 },
 "nbformat": 4,
 "nbformat_minor": 4
}
