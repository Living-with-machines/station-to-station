{
 "cells": [
  {
   "cell_type": "code",
   "execution_count": 1,
   "metadata": {},
   "outputs": [],
   "source": [
    "%load_ext autoreload\n",
    "%autoreload 2"
   ]
  },
  {
   "cell_type": "markdown",
   "metadata": {},
   "source": [
    "# Entity resolution"
   ]
  },
  {
   "cell_type": "code",
   "execution_count": 2,
   "metadata": {
    "scrolled": true
   },
   "outputs": [
    {
     "output_type": "stream",
     "name": "stderr",
     "text": [
      "/data/anaconda/envs/py37deezy/lib/python3.7/site-packages/torch/cuda/__init__.py:52: UserWarning: CUDA initialization: The NVIDIA driver on your system is too old (found version 10000). Please update your GPU driver by downloading and installing a new version from the URL: http://www.nvidia.com/Download/index.aspx Alternatively, go to: https://pytorch.org to install a PyTorch version that has been compiled with your version of the CUDA driver. (Triggered internally at  /pytorch/c10/cuda/CUDAFunctions.cpp:109.)\n  return torch._C._cuda_getDeviceCount() > 0\n"
     ]
    }
   ],
   "source": [
    "import pandas as pd\n",
    "from pathlib import Path\n",
    "from tools import eval_methods, resolution_methods\n",
    "import numpy as np\n",
    "from sklearn.model_selection import train_test_split, GridSearchCV\n",
    "from sklearn.svm import LinearSVC, SVC\n",
    "from sklearn.ensemble import RandomForestClassifier\n",
    "from sklearn.metrics import classification_report, f1_score\n",
    "import random"
   ]
  },
  {
   "cell_type": "code",
   "execution_count": 3,
   "metadata": {},
   "outputs": [],
   "source": [
    "gazetteer_df = pd.read_csv(\"../processed/wikidata/british_isles_gazetteer.csv\", header=0, index_col=0, low_memory=False)"
   ]
  },
  {
   "cell_type": "code",
   "execution_count": 4,
   "metadata": {},
   "outputs": [],
   "source": [
    "import pickle\n",
    "with open(\"/resources/wikipedia/extractedResources/overall_entity_freq.pickle\", 'rb') as fp:\n",
    "    wikipedia_entity_overall_dict = pickle.load(fp)"
   ]
  },
  {
   "cell_type": "markdown",
   "metadata": {},
   "source": [
    "### Feature selection"
   ]
  },
  {
   "cell_type": "code",
   "execution_count": 5,
   "metadata": {},
   "outputs": [
    {
     "output_type": "stream",
     "name": "stdout",
     "text": [
      "deezy_match test 5 done!\ndeezy_match dev 5 done!\n"
     ]
    }
   ],
   "source": [
    "# ------------------\n",
    "# Feature selection for dev and test\n",
    "num_candidates_list = [5, 3, 1]\n",
    "settings = [\"test\", \"dev\"]\n",
    "candrank_approaches = [\"deezy_match\"]\n",
    "for num_candidates in num_candidates_list:\n",
    "    for setting in settings:\n",
    "        for candrank in candrank_approaches:\n",
    "            features_file = \"../processed/resolution/features_\" + candrank + \"_\" + setting + str(num_candidates) + \".tsv\"\n",
    "            if not Path(features_file).is_file():\n",
    "                df = pd.read_pickle(\"../processed/resolution/candranking_\" + candrank + \"_\" + setting + str(num_candidates) + \".pkl\")\n",
    "                exp_df = resolution_methods.feature_selection(candrank, df, gazetteer_df, wikipedia_entity_overall_dict)\n",
    "                exp_df.drop_duplicates(subset=['Query','Candidate'], inplace=True)\n",
    "                exp_df.to_csv(features_file, sep=\"\\t\")\n",
    "            print(candrank + \" \" + setting + \" \" + str(num_candidates) + \" done!\")\n",
    "\n",
    "features_dev = pd.read_csv(\"../processed/resolution/features_\" + candrank + \"_dev\" + str(num_candidates) + \".tsv\",sep='\\t', index_col=0)\n",
    "features_test = pd.read_csv(\"../processed/resolution/features_\" + candrank + \"_test\" + str(num_candidates) + \".tsv\",sep='\\t', index_col=0)"
   ]
  },
  {
   "cell_type": "markdown",
   "metadata": {},
   "source": [
    "### Training classifiers"
   ]
  },
  {
   "cell_type": "code",
   "execution_count": 6,
   "metadata": {},
   "outputs": [],
   "source": [
    "num_candidates = 5\n",
    "candrank_method = \"deezy_match\"\n",
    "\n",
    "features_dev = pd.read_csv(\"../processed/resolution/features_\" + candrank + \"_dev\" + str(num_candidates) + \".tsv\",sep='\\t', index_col=0)"
   ]
  },
  {
   "cell_type": "code",
   "execution_count": 7,
   "metadata": {},
   "outputs": [
    {
     "output_type": "stream",
     "name": "stdout",
     "text": [
      "Queries in train and test: 82 81\n",
      "Instances in train and test: 1142 5309\n",
      "{'C': 1, 'kernel': 'linear'}\n",
      "Classification report on the test split of the dev set:\n",
      "              precision    recall  f1-score   support\n",
      "\n",
      "           0       1.00      1.00      1.00      5216\n",
      "           1       0.96      0.73      0.83        93\n",
      "\n",
      "    accuracy                           0.99      5309\n",
      "   macro avg       0.98      0.87      0.91      5309\n",
      "weighted avg       0.99      0.99      0.99      5309\n",
      "\n",
      "[[ 3.23994632e+00 -3.45294800e-01  1.18777888e+00 -1.36732036e-01\n",
      "   2.74003921e-03  0.00000000e+00  8.70943809e-01  0.00000000e+00\n",
      "  -4.26472676e-02]]\n",
      "Queries in train and test: 24 23\n",
      "Instances in train and test: 399 304\n",
      "{'C': 10, 'kernel': 'linear'}\n",
      "Classification report on the test split of the dev set:\n",
      "              precision    recall  f1-score   support\n",
      "\n",
      "           0       0.99      0.97      0.98       298\n",
      "           1       0.17      0.33      0.22         6\n",
      "\n",
      "    accuracy                           0.95       304\n",
      "   macro avg       0.58      0.65      0.60       304\n",
      "weighted avg       0.97      0.95      0.96       304\n",
      "\n",
      "[[ 0.01133494 -0.06678346  0.          0.31059625  0.38686037  3.93137147]]\n"
     ]
    }
   ],
   "source": [
    "# -------------------------------\n",
    "# Predict railway stations\n",
    "# -------------------------------\n",
    "# f0 (SubStFormatted-candidate DeezyMatch confidence)\n",
    "# f1 (MainStation-candidate DeezyMatch confidence)\n",
    "# f2 (Altname-candidate DeezyMatch confidence)\n",
    "# f3 (String similarity)\n",
    "# f4 (Wikidata class: is it an instance of railway station)\n",
    "# f5 (Wikidata class: is it an instance of populated place)\n",
    "# f6 (Closest place confidence)\n",
    "# f7 (Closest subst/altname confidence)\n",
    "# f8 (Relevance through wikipedia inlinks)\n",
    "\n",
    "dev_df = features_dev # development set feature vectors\n",
    "df_exact = dev_df[dev_df[\"Exact\"] == 1]\n",
    "use_cols_stations = ['f_0','f_1','f_2','f_3','f_4','f_5','f_6','f_7','f_8'] # features to use\n",
    "        \n",
    "# The following returns a classifier and the test set portion of the development set\n",
    "# (independently from the content of the run variable):\n",
    "clf_stations = resolution_methods.train_classifier(df_exact, use_cols_stations)\n",
    "\n",
    "with open('../processed/resolution/clf_stations.pkl', 'wb') as f:\n",
    "    pickle.dump(clf_stations, f)\n",
    "\n",
    "# -------------------------------\n",
    "# Predict places\n",
    "# -------------------------------\n",
    "# f1 (MainStation-candidate DeezyMatch confidence)\n",
    "# f3 (String similarity)\n",
    "# f4 (Wikidata class: is it an instance of railway station)\n",
    "# f5 (Wikidata class: is it an instance of populated place)\n",
    "# f7 (Closest subst/altname confidence)\n",
    "# f8 (Relevance through wikipedia inlinks)\n",
    "\n",
    "dev_df = features_dev # development set feature vectors\n",
    "df_inexact = dev_df[dev_df[\"Exact\"] == 0]\n",
    "use_cols_places = ['f_1','f_3','f_4','f_5','f_7','f_8'] # features to use\n",
    "        \n",
    "# The following returns a classifier and the test set portion of the development set\n",
    "# (independently from the content of the run variable):\n",
    "clf_places = resolution_methods.train_classifier(df_inexact, use_cols_places)\n",
    "\n",
    "with open('../processed/resolution/clf_places.pkl', 'wb') as f:\n",
    "    pickle.dump(clf_places, f)"
   ]
  },
  {
   "cell_type": "markdown",
   "metadata": {},
   "source": [
    "### Find best threshold"
   ]
  },
  {
   "cell_type": "code",
   "execution_count": 8,
   "metadata": {},
   "outputs": [
    {
     "output_type": "stream",
     "name": "stdout",
     "text": [
      "0.3\n"
     ]
    }
   ],
   "source": [
    "# Find optimal threshold for stations/placess\n",
    "# --------------------------------------------\n",
    "optimal_threshold = 0.0\n",
    "keep_acc = 0.0\n",
    "for th in np.arange(0, 1, 0.05):\n",
    "    th = round(th, 2)\n",
    "    results_dev_df = pd.read_pickle(\"../processed/quicks/quicks_dev.pkl\")\n",
    "    results_dev_df = resolution_methods.our_method(features_dev, clf_stations, use_cols_stations, clf_places, use_cols_places, gazetteer_df, th, results_dev_df)\n",
    "    acc = eval_methods.topres_exactmetrics(results_dev_df, \"our_method\", False)\n",
    "    if acc >= keep_acc:\n",
    "        optimal_threshold = th\n",
    "        keep_acc = acc\n",
    "        \n",
    "print(optimal_threshold)"
   ]
  },
  {
   "cell_type": "markdown",
   "metadata": {},
   "source": [
    "### Method and baselines"
   ]
  },
  {
   "cell_type": "code",
   "execution_count": 9,
   "metadata": {},
   "outputs": [],
   "source": [
    "# We will store the results of all methods/baselines as columns in the original structured dataframe:\n",
    "results_test_df = pd.read_pickle(\"../processed/quicks/quicks_test.pkl\")\n",
    "features_test = pd.read_csv(\"../processed/resolution/features_\" + candrank + \"_test\" + str(num_candidates) + \".tsv\",sep='\\t', index_col=0)"
   ]
  },
  {
   "cell_type": "code",
   "execution_count": 10,
   "metadata": {},
   "outputs": [],
   "source": [
    "# -------------------------------\n",
    "# Apply our classification methods (column \"our_method\")\n",
    "# -------------------------------\n",
    "features_test_df = features_test # test set feature vectors\n",
    "results_test_df = resolution_methods.our_method(features_test_df, clf_stations, use_cols_stations, clf_places, use_cols_places, gazetteer_df, optimal_threshold, results_test_df)"
   ]
  },
  {
   "cell_type": "code",
   "execution_count": 11,
   "metadata": {},
   "outputs": [],
   "source": [
    "# -------------------------------\n",
    "# Baseline: Apply candrank-most-confident baseline\n",
    "# -------------------------------\n",
    "results_test_df = resolution_methods.candrank_most_confident(features_test_df, results_test_df)"
   ]
  },
  {
   "cell_type": "code",
   "execution_count": 12,
   "metadata": {},
   "outputs": [],
   "source": [
    "# -------------------------------\n",
    "# Baseline: Apply wikipedia-most-relevant baseline\n",
    "# -------------------------------\n",
    "results_test_df = resolution_methods.wikipedia_most_relevant(features_test_df, results_test_df)"
   ]
  },
  {
   "cell_type": "code",
   "execution_count": 13,
   "metadata": {},
   "outputs": [],
   "source": [
    "# -------------------------------\n",
    "# Baseline: Apply semantically_most_similar baseline\n",
    "# -------------------------------\n",
    "results_test_df = resolution_methods.semantically_most_similar(features_test_df, results_test_df)"
   ]
  },
  {
   "cell_type": "code",
   "execution_count": 26,
   "metadata": {},
   "outputs": [
    {
     "output_type": "stream",
     "name": "stdout",
     "text": [
      "feature used: 1 2 3 4 5 6 7 8 9\n",
      "P@1 on training data: 0.7798\n",
      "---------------------------------\n",
      "Summary:\n",
      "P@1\t|   Train\t| Test\n",
      "----------------------------------\n",
      "Fold 1\t|   0.8214\t|  0.7619\t\n",
      "Fold 2\t|   0.8274\t|  0.7381\t\n",
      "Fold 3\t|   0.8155\t|  0.7857\t\n",
      "Fold 4\t|   0.8036\t|  0.8333\t\n",
      "Fold 5\t|   0.7798\t|  0.9286\t\n",
      "----------------------------------\n",
      "Avg.\t|   0.8095\t|  0.8095\t\n",
      "----------------------------------\n",
      "Total\t|   \t\t|  0.8095\t\n",
      "\n"
     ]
    }
   ],
   "source": [
    "\n",
    "code_folder = \"/home/fnanni/Projects/\"\n",
    "filter=\"all\"\n",
    "cross_val = False\n",
    "\n",
    "if cross_val:\n",
    "    out = resolution_methods.ranklib(features_dev,features_test_df,filter,code_folder,cross_val,results_test_df)\n",
    "    print (\"\\n\".join(out))\n",
    "else:\n",
    "    results_test_df = resolution_methods.ranklib(features_dev,features_test_df,filter,code_folder,cross_val,results_test_df)"
   ]
  },
  {
   "cell_type": "code",
   "execution_count": 24,
   "metadata": {},
   "outputs": [],
   "source": [
    "# -------------------------------\n",
    "# Skyline: Best possible result given candidates\n",
    "# -------------------------------\n",
    "results_test_df = resolution_methods.skyline(features_test_df, results_test_df)"
   ]
  },
  {
   "cell_type": "markdown",
   "metadata": {},
   "source": [
    "### Evaluate entity resolution"
   ]
  },
  {
   "cell_type": "code",
   "execution_count": 25,
   "metadata": {},
   "outputs": [
    {
     "output_type": "stream",
     "name": "stdout",
     "text": [
      "skyline deezy_match (strict: False) (numCands: 5)\n",
      "candrank_most_confident deezy_match (strict: False) (numCands: 5)\n",
      "wikipedia_most_relevant deezy_match (strict: False) (numCands: 5)\n",
      "semantically_most_similar deezy_match (strict: False) (numCands: 5)\n",
      "our_method deezy_match (strict: False) (numCands: 5)\n",
      "ranklib deezy_match (strict: False) (numCands: 5)\n",
      "\n",
      "\\begin{tabular}{llrlll}\n",
      "\\toprule\n",
      "Eval &            Approach &  Prec &   Acc@1km &   Acc@5km &  Acc@10km \\\\\n",
      "\\midrule\n",
      "appr &             skyline &  0.40 &         - &         - &         - \\\\\n",
      "appr &   string confidence &  0.34 &  0.371041 &  0.375566 &   0.38009 \\\\\n",
      "appr & wikipedia relevance &  0.03 &  0.162896 &  0.208145 &  0.217195 \\\\\n",
      "appr &  semantic coherence &  0.12 &   0.18552 &  0.208145 &  0.208145 \\\\\n",
      "appr &          our method &  0.36 &  0.384615 &  0.393665 &   0.39819 \\\\\n",
      "appr &             ranklib &  0.40 &  0.425339 &  0.429864 &  0.429864 \\\\\n",
      "\\bottomrule\n",
      "\\end{tabular}\n",
      "\n"
     ]
    }
   ],
   "source": [
    "eval_results = []\n",
    "eval_strict = False\n",
    "dApproachNames = {\"candrank_most_confident\":\"string confidence\", \"wikipedia_most_relevant\":\"wikipedia relevance\", \"semantically_most_similar\":\"semantic coherence\", \"our_method\":\"our method\", \"skyline\": \"skyline\",\"ranklib\":\"ranklib\"}\n",
    "for topres_approach in [\"skyline\", \"candrank_most_confident\", \"wikipedia_most_relevant\", \"semantically_most_similar\", \"our_method\",\"ranklib\"]:\n",
    "    print(topres_approach, candrank_method, \"(strict: \" + str(eval_strict) + \")\", \"(numCands: \" + str(num_candidates) + \")\")\n",
    "    exact_acc = eval_methods.topres_exactmetrics(results_test_df, topres_approach, eval_strict)\n",
    "    acc_at = (\"-\", \"-\", \"-\")\n",
    "    if topres_approach != \"skyline\":\n",
    "        acc_at = eval_methods.topres_distancemetrics(gazetteer_df, results_test_df, topres_approach, eval_strict)\n",
    "\n",
    "    eval_mode = \"strict\"\n",
    "    if eval_strict == False:\n",
    "        eval_mode = \"appr\"\n",
    "        \n",
    "    eval_results.append([eval_mode, dApproachNames[topres_approach], exact_acc, acc_at[0], acc_at[1], acc_at[2]])\n",
    "\n",
    "tr_eval_df = pd.DataFrame(eval_results, columns = [\"Eval\", \"Approach\", \"Prec\", \"Acc@1km\", \"Acc@5km\", \"Acc@10km\"])\n",
    "tr_eval_df.round(3)\n",
    "print()\n",
    "print(tr_eval_df.round(2).to_latex(index=False))"
   ]
  },
  {
   "cell_type": "code",
   "execution_count": null,
   "metadata": {},
   "outputs": [],
   "source": []
  }
 ],
 "metadata": {
  "kernelspec": {
   "name": "python37964bitpy37deezyconda345db098591f4e42a77f9422c18be69a",
   "display_name": "Python 3.7.9 64-bit ('py37deezy': conda)"
  },
  "language_info": {
   "codemirror_mode": {
    "name": "ipython",
    "version": 3
   },
   "file_extension": ".py",
   "mimetype": "text/x-python",
   "name": "python",
   "nbconvert_exporter": "python",
   "pygments_lexer": "ipython3",
   "version": "3.7.9"
  },
  "metadata": {
   "interpreter": {
    "hash": "f8f99ba867f8acd4dfef7d85ca8ca3fc6c0cf34252ca432008145451d1a4a38c"
   }
  }
 },
 "nbformat": 4,
 "nbformat_minor": 4
}