{
 "cells": [
  {
   "cell_type": "code",
   "execution_count": null,
   "metadata": {},
   "outputs": [],
   "source": [
    "%load_ext autoreload\n",
    "%autoreload 2"
   ]
  },
  {
   "cell_type": "markdown",
   "metadata": {},
   "source": [
    "# Entity resolution"
   ]
  },
  {
   "cell_type": "code",
   "execution_count": null,
   "metadata": {
    "scrolled": true
   },
   "outputs": [],
   "source": [
    "import pandas as pd\n",
    "from pathlib import Path\n",
    "from tools import eval_methods, resolution_methods\n",
    "import numpy as np\n",
    "from sklearn.model_selection import train_test_split, GridSearchCV\n",
    "from sklearn.svm import LinearSVC, SVC\n",
    "from sklearn.ensemble import RandomForestClassifier\n",
    "from sklearn.metrics import classification_report, f1_score\n",
    "import random\n",
    "import itertools\n",
    "from tqdm import tqdm"
   ]
  },
  {
   "cell_type": "code",
   "execution_count": null,
   "metadata": {},
   "outputs": [],
   "source": [
    "gazetteer_df = pd.read_csv(\"../processed/wikidata/british_isles_gazetteer.csv\", header=0, index_col=0, low_memory=False)"
   ]
  },
  {
   "cell_type": "code",
   "execution_count": null,
   "metadata": {},
   "outputs": [],
   "source": [
    "import pickle\n",
    "with open(\"/resources/wikipedia/extractedResources/overall_entity_freq.pickle\", 'rb') as fp:\n",
    "    wikipedia_entity_overall_dict = pickle.load(fp)"
   ]
  },
  {
   "cell_type": "markdown",
   "metadata": {},
   "source": [
    "### Feature selection"
   ]
  },
  {
   "cell_type": "code",
   "execution_count": null,
   "metadata": {},
   "outputs": [],
   "source": [
    "# ------------------\n",
    "# Feature selection for dev and test\n",
    "num_candidates_list = [5, 3, 1]\n",
    "settings = [\"test\", \"dev\"]\n",
    "candrank_approaches = [\"deezy_match\"]\n",
    "for num_candidates in num_candidates_list:\n",
    "    for setting in settings:\n",
    "        for candrank in candrank_approaches:\n",
    "            features_file = \"../processed/resolution/features_\" + candrank + \"_\" + setting + str(num_candidates) + \".tsv\"\n",
    "            if not Path(features_file).is_file():\n",
    "                df = pd.read_pickle(\"../processed/resolution/candranking_\" + candrank + \"_\" + setting + str(num_candidates) + \".pkl\")\n",
    "                exp_df = resolution_methods.feature_selection(candrank, df, gazetteer_df, wikipedia_entity_overall_dict)\n",
    "                exp_df.drop_duplicates(subset=['Query','Candidate'], inplace=True)\n",
    "                exp_df.to_csv(features_file, sep=\"\\t\")\n",
    "            print(candrank + \" \" + setting + \" \" + str(num_candidates) + \" done!\")\n",
    "\n",
    "features_dev = pd.read_csv(\"../processed/resolution/features_\" + candrank + \"_dev\" + str(num_candidates) + \".tsv\",sep='\\t', index_col=0)\n",
    "features_test = pd.read_csv(\"../processed/resolution/features_\" + candrank + \"_test\" + str(num_candidates) + \".tsv\",sep='\\t', index_col=0)"
   ]
  },
  {
   "cell_type": "markdown",
   "metadata": {},
   "source": [
    "### Settings"
   ]
  },
  {
   "cell_type": "code",
   "execution_count": null,
   "metadata": {},
   "outputs": [],
   "source": [
    "num_candidates = 1\n",
    "candrank_method = \"deezy_match\"\n",
    "\n",
    "features_dev = pd.read_csv(\"../processed/resolution/features_\" + candrank + \"_dev\" + str(num_candidates) + \".tsv\",sep='\\t', index_col=0)"
   ]
  },
  {
   "cell_type": "markdown",
   "metadata": {},
   "source": [
    "### Method and baselines"
   ]
  },
  {
   "cell_type": "code",
   "execution_count": null,
   "metadata": {},
   "outputs": [],
   "source": [
    "# We will store the results of all methods/baselines as columns in the original structured dataframe:\n",
    "results_test_df = pd.read_pickle(\"../processed/quicks/quicks_test.pkl\")\n",
    "features_test = pd.read_csv(\"../processed/resolution/features_\" + candrank + \"_test\" + str(num_candidates) + \".tsv\",sep='\\t', index_col=0)"
   ]
  },
  {
   "cell_type": "code",
   "execution_count": null,
   "metadata": {},
   "outputs": [],
   "source": [
    "# -------------------------------\n",
    "# Apply our classification method (column \"our_method_all\")\n",
    "# -------------------------------\n",
    "\n",
    "# ------------------------------\n",
    "# Train the classifier with all the features\n",
    "dev_df = features_dev # development set feature vectors\n",
    "use_cols_all = ['f_0','f_1','f_2','f_3','f_4','f_5','f_6','f_7','f_8'] # features to use\n",
    "clf_all = resolution_methods.train_classifier(dev_df, use_cols_all)\n",
    "\n",
    "# ------------------------------\n",
    "# Apply the classifier with all the features\n",
    "features_test_df = features_test # test set feature vectors\n",
    "results_test_df = resolution_methods.our_method_simple(features_test_df, clf_all, use_cols_all, gazetteer_df, results_test_df)"
   ]
  },
  {
   "cell_type": "code",
   "execution_count": null,
   "metadata": {},
   "outputs": [],
   "source": [
    "# -------------------------------\n",
    "# Baseline: Apply candrank-most-confident baseline\n",
    "# -------------------------------\n",
    "results_test_df = resolution_methods.candrank_most_confident(features_test_df, results_test_df)"
   ]
  },
  {
   "cell_type": "code",
   "execution_count": null,
   "metadata": {},
   "outputs": [],
   "source": [
    "# -------------------------------\n",
    "# Baseline: Apply wikipedia-most-relevant baseline\n",
    "# -------------------------------\n",
    "results_test_df = resolution_methods.wikipedia_most_relevant(features_test_df, results_test_df)"
   ]
  },
  {
   "cell_type": "code",
   "execution_count": null,
   "metadata": {},
   "outputs": [],
   "source": [
    "# -------------------------------\n",
    "# Baseline: Apply semantically_most_similar baseline\n",
    "# -------------------------------\n",
    "results_test_df = resolution_methods.semantically_most_similar(features_test_df, results_test_df)"
   ]
  },
  {
   "cell_type": "code",
   "execution_count": null,
   "metadata": {},
   "outputs": [],
   "source": [
    "# -------------------------------\n",
    "# RankLib: Apply learning to rank (note: performed and averaged 5 runs because results fluctuated quite a lot)\n",
    "# -------------------------------\n",
    "\n",
    "code_folder = str(Path(\"../../\").resolve()) + \"/\"\n",
    "filter=\"all\"\n",
    "feature_combination = \"allfeatures\" # Uncomment if you want to use all features \n",
    "cross_val = False\n",
    "\n",
    "# Apply all features combination to test set:\n",
    "results_test_df = resolution_methods.ranklib(features_dev,features_test_df,filter,code_folder,cross_val,results_test_df,feature_combination,num_candidates)"
   ]
  },
  {
   "cell_type": "code",
   "execution_count": null,
   "metadata": {},
   "outputs": [],
   "source": [
    "results_test_df.head()"
   ]
  },
  {
   "cell_type": "code",
   "execution_count": null,
   "metadata": {},
   "outputs": [],
   "source": [
    "# -------------------------------\n",
    "# Skyline: Best possible result given candidates\n",
    "# -------------------------------\n",
    "results_test_df = resolution_methods.skyline(features_test_df, results_test_df)"
   ]
  },
  {
   "cell_type": "code",
   "execution_count": null,
   "metadata": {},
   "outputs": [],
   "source": [
    "# -------------------------------\n",
    "# Our method comb: Combine stations and places classifiers\n",
    "# -------------------------------\n",
    "\n",
    "use_cols_all = [\"f_0\", \"f_1\", \"f_2\", \"f_3\", \"f_4\", \"f_5\", \"f_6\", \"f_7\", \"f_8\"] \n",
    "\n",
    "# Train railway stations classifier (exact setting)\n",
    "# --------------------------------------------\n",
    "dev_df = features_dev # development set feature vectors\n",
    "df_exact = dev_df[dev_df[\"Exact\"] == 1]\n",
    "use_cols_stations = use_cols_all\n",
    "# Train the classifier:\n",
    "clf_stations = resolution_methods.train_classifier(df_exact, use_cols_all)\n",
    "\n",
    "# Train places classifier (not exact setting)\n",
    "# --------------------------------------------\n",
    "dev_df = features_dev # development set feature vectors\n",
    "df_inexact = dev_df[dev_df[\"Exact\"] == 0]\n",
    "use_cols_places = use_cols_all\n",
    "# Train the classifier:\n",
    "clf_places = resolution_methods.train_classifier(df_inexact, use_cols_all)\n",
    "\n",
    "# Find optimal threshold for stations/placess\n",
    "# --------------------------------------------\n",
    "optimal_threshold = 0.0\n",
    "keep_acc = 0.0\n",
    "for th in np.arange(0, 1, 0.05):\n",
    "    th = round(th, 2)\n",
    "    results_dev_df = pd.read_pickle(\"../processed/quicks/quicks_dev.pkl\")\n",
    "    results_dev_df = resolution_methods.our_method_comb(features_dev, clf_stations, use_cols_stations, clf_places, use_cols_places, gazetteer_df, th, results_dev_df)\n",
    "    acc = eval_methods.topres_exactmetrics(results_dev_df, \"our_method_comb\", False)\n",
    "    if acc >= keep_acc:\n",
    "        optimal_threshold = th\n",
    "        keep_acc = acc\n",
    "        \n",
    "print(optimal_threshold, keep_acc)\n",
    "\n",
    "# Apply our classification methods (column \"our_method\")\n",
    "# -------------------------------\n",
    "features_test_df = features_test # test set feature vectors\n",
    "results_test_df = resolution_methods.our_method_comb(features_test_df, clf_stations, use_cols_stations, clf_places, use_cols_places, gazetteer_df, optimal_threshold, results_test_df)"
   ]
  },
  {
   "cell_type": "markdown",
   "metadata": {},
   "source": [
    "### Evaluate entity resolution"
   ]
  },
  {
   "cell_type": "code",
   "execution_count": null,
   "metadata": {
    "scrolled": true
   },
   "outputs": [],
   "source": [
    "eval_results = []\n",
    "eval_strict = False\n",
    "dApproachNames = {\"candrank_most_confident\":\"string confidence\", \"wikipedia_most_relevant\":\"wikipedia relevance\", \"semantically_most_similar\":\"semantic coherence\", \"our_method_all\":\"SVM simple\", \"our_method_comb\":\"SVM combined\", \"skyline\": \"skyline\",\"ranklib\":\"ranklib all features\"}\n",
    "for topres_approach in [\"skyline\", \"candrank_most_confident\", \"wikipedia_most_relevant\", \"semantically_most_similar\",\"ranklib\", \"our_method_all\", \"our_method_comb\"]:\n",
    "    print(topres_approach, candrank_method, \"(strict: \" + str(eval_strict) + \")\", \"(numCands: \" + str(num_candidates) + \")\")\n",
    "    exact_acc = eval_methods.topres_exactmetrics(results_test_df, topres_approach, eval_strict)\n",
    "    acc_at = (\"-\", \"-\", \"-\")\n",
    "    if topres_approach != \"skyline\":\n",
    "        acc_at = eval_methods.topres_distancemetrics(gazetteer_df, results_test_df, topres_approach, eval_strict)\n",
    "\n",
    "    eval_mode = \"strict\"\n",
    "    if eval_strict == False:\n",
    "        eval_mode = \"appr\"\n",
    "        \n",
    "    eval_results.append([eval_mode, dApproachNames[topres_approach], exact_acc, acc_at[0], acc_at[1], acc_at[2]])\n",
    "\n",
    "tr_eval_df = pd.DataFrame(eval_results, columns = [\"Eval\", \"Approach\", \"Prec\", \"Acc@1km\", \"Acc@5km\", \"Acc@10km\"])\n",
    "tr_eval_df.round(3)\n",
    "print()\n",
    "print(tr_eval_df.round(2).to_latex(index=False))"
   ]
  },
  {
   "cell_type": "markdown",
   "metadata": {},
   "source": [
    "### Feature analysis"
   ]
  },
  {
   "cell_type": "code",
   "execution_count": null,
   "metadata": {},
   "outputs": [],
   "source": [
    "# ------------------------------\n",
    "# Inspect best features in ranklib\n",
    "code_folder = str(Path(\"../../\").resolve()) + \"/\"\n",
    "features_folder = str(Path(\"supervised_ranking/features/\").resolve()) + \"/\"\n",
    "Path(features_folder).mkdir(parents=True, exist_ok=True)\n",
    "Path(\"supervised_ranking/feature_combs/\").mkdir(parents=True, exist_ok=True)\n",
    "cross_val = True\n",
    "for filt in [\"exact\", \"notexact\"]:\n",
    "    if not Path(\"supervised_ranking/feature_combs/\" + filt + str(num_candidates) + \".txt\").is_file():\n",
    "        feature_combination = resolution_methods.find_feature_comb(features_folder, filt, cross_val, code_folder, features_dev, features_test_df, results_test_df, num_candidates)"
   ]
  },
  {
   "cell_type": "code",
   "execution_count": null,
   "metadata": {},
   "outputs": [],
   "source": []
  }
 ],
 "metadata": {
  "kernelspec": {
   "display_name": "Python (py37deezy)",
   "language": "python",
   "name": "py37deezy"
  },
  "language_info": {
   "codemirror_mode": {
    "name": "ipython",
    "version": 3
   },
   "file_extension": ".py",
   "mimetype": "text/x-python",
   "name": "python",
   "nbconvert_exporter": "python",
   "pygments_lexer": "ipython3",
   "version": "3.7.9"
  },
  "metadata": {
   "interpreter": {
    "hash": "f8f99ba867f8acd4dfef7d85ca8ca3fc6c0cf34252ca432008145451d1a4a38c"
   }
  }
 },
 "nbformat": 4,
 "nbformat_minor": 4
}
