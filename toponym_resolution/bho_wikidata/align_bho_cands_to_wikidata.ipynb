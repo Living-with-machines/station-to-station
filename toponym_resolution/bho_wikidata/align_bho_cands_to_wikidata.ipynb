{
 "cells": [
  {
   "cell_type": "code",
   "execution_count": null,
   "metadata": {},
   "outputs": [],
   "source": [
    "import pandas as pd\n",
    "from tqdm.auto import tqdm\n",
    "tqdm.pandas()\n",
    "\n",
    "bho_cands = pd.read_pickle(\"/home/mcollardanuy/PlaceLinking/toponym_matching/ranker_results/bho_queries_britwikidata_candidates_wikigaz_en_002.pkl\")\n",
    "#bho_cands = bho_cands.head(100)\n",
    "\n",
    "britwikidata_gazetteer = pd.read_pickle(\"/home/mcollardanuy/PlaceLinking/toponym_matching/gazetteers/britwikidata_gazetteer.pkl\")\n",
    "britwikidata_gazetteer.head()"
   ]
  },
  {
   "cell_type": "code",
   "execution_count": null,
   "metadata": {},
   "outputs": [],
   "source": [
    "def match_cands_wikidata(row,gazetteer,ranking):\n",
    "    wikidata_cands = {}\n",
    "    cands = row[ranking]\n",
    "    for cand,score in cands.items():\n",
    "        wikidataIds = gazetteer[gazetteer[\"altname\"] == cand][\"wkid\"]\n",
    "        for _id in wikidataIds:\n",
    "            if _id not in wikidata_cands:\n",
    "                wikidata_cands[_id] = score\n",
    "    return wikidata_cands\n",
    "\n",
    "tqdm.pandas()    \n",
    "bho_cands['wikidata_cands'] = bho_cands.progress_apply(lambda row : match_cands_wikidata(row,britwikidata_gazetteer,\"faiss_distance\"), axis=1) \n",
    "bho_cands.to_pickle(\"bho_queries_britwikidata_candidates+ids_wikigaz_en_002.pkl\")  # where to save it, usually as a .pkl"
   ]
  },
  {
   "cell_type": "code",
   "execution_count": null,
   "metadata": {},
   "outputs": [],
   "source": []
  }
 ],
 "metadata": {
  "kernelspec": {
   "display_name": "Python 3",
   "language": "python",
   "name": "python3"
  },
  "language_info": {
   "codemirror_mode": {
    "name": "ipython",
    "version": 3
   },
   "file_extension": ".py",
   "mimetype": "text/x-python",
   "name": "python",
   "nbconvert_exporter": "python",
   "pygments_lexer": "ipython3",
   "version": "3.7.9"
  }
 },
 "nbformat": 4,
 "nbformat_minor": 2
}
