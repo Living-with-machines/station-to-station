{
 "cells": [
  {
   "cell_type": "code",
   "execution_count": null,
   "metadata": {},
   "outputs": [],
   "source": [
    "import time\n",
    "import numpy as np\n",
    "import pandas as pd\n",
    "from pathlib import Path\n",
    "from tools import eval_methods, selection_methods, resolution_methods\n",
    "from tqdm.auto import tqdm\n",
    "tqdm.pandas()\n",
    "\n",
    "df = pd.read_pickle(\"../processed/quicks/quicks_dev.pkl\")\n",
    "wikidata_df = pd.read_pickle(\"../processed/wikidata/altname_british_isles_stations_gazetteer.pkl\")"
   ]
  },
  {
   "cell_type": "code",
   "execution_count": null,
   "metadata": {
    "scrolled": true
   },
   "outputs": [],
   "source": [
    "# ---------------\n",
    "# Perfect Match\n",
    "approach = \"cr_perfect_match\"\n",
    "df[approach] = df.apply(lambda row: selection_methods.perfect_match(row[\"SubStFormatted\"], wikidata_df), axis=1)\n",
    "\n",
    "# ---------------\n",
    "# Partial Match\n",
    "approach = \"cr_partial_match\"\n",
    "df[approach] = df.apply(lambda row: selection_methods.partial_match(row[\"SubStFormatted\"], wikidata_df), axis=1)\n",
    "\n",
    "# ---------------\n",
    "# Skyline: best possible result considering NIL entities\n",
    "approach = \"cr_skyline\"\n",
    "df[approach] = df.apply(lambda row: selection_methods.skyline(row[\"Final Wikidata ID\"], wikidata_df), axis=1)\n",
    "\n",
    "# ---------------\n",
    "# DeezyMatch\n",
    "approach = \"cr_deezy_match\"\n",
    "candidates = \"british_isles_stations\"\n",
    "dm_model = \"wikidata_british_isles\"\n",
    "inputfile = \"input_dfm\"\n",
    "queries = \"quicks_stations\"\n",
    "candrank_metric = \"faiss\" # 'faiss', 'cosine', 'conf'\n",
    "candrank_thr = 10\n",
    "num_candidates = 10\n",
    "\n",
    "df[approach] = selection_methods.find_deezymatch_candidates(wikidata_df, df, dm_model, inputfile, candidates, queries, candrank_metric, candrank_thr, num_candidates)\n",
    "\n",
    "# ---------------\n",
    "# Store candidate selection\n",
    "df.to_pickle(\"candranking_df.pkl\")"
   ]
  },
  {
   "cell_type": "code",
   "execution_count": 3,
   "metadata": {},
   "outputs": [
    {
     "name": "stdout",
     "output_type": "stream",
     "text": [
      "cr_perfect_match\n",
      "p1: 0.5674418604651162\n",
      "p5: 0.6046511627906976\n",
      "p10: 0.6046511627906976\n",
      "map5: 0.586046511627907\n",
      "map10: 0.586046511627907\n",
      "\n",
      "cr_partial_match\n",
      "p1: 0.4697674418604651\n",
      "p5: 0.6\n",
      "p10: 0.627906976744186\n",
      "map5: 0.5267441860465116\n",
      "map10: 0.5312846068660022\n",
      "\n",
      "cr_skyline\n",
      "p1: 0.8\n",
      "p5: 0.8\n",
      "p10: 0.8\n",
      "map5: 0.8\n",
      "map10: 0.8\n",
      "\n",
      "cr_deezy_match\n",
      "p1: 0.6\n",
      "p5: 0.641860465116279\n",
      "p10: 0.641860465116279\n",
      "map5: 0.6197674418604651\n",
      "map10: 0.6197674418604651\n",
      "\n"
     ]
    }
   ],
   "source": [
    "df = pd.read_pickle(\"candranking_df.pkl\")\n",
    "candrank_approaches = [x for x in df if x.startswith(\"cr_\")]\n",
    "\n",
    "for approach in candrank_approaches:\n",
    "    print(approach)\n",
    "    print(\"p1:\", df.apply(lambda row: eval_methods.pAt(row, approach, 1, False), axis=1).mean())\n",
    "    print(\"p5:\", df.apply(lambda row: eval_methods.pAt(row, approach, 5, False), axis=1).mean())\n",
    "    print(\"p10:\", df.apply(lambda row: eval_methods.pAt(row, approach, 10, False), axis=1).mean())\n",
    "    print(\"map5:\", df.apply(lambda row: eval_methods.avgP(row, approach, 5, False), axis=1).mean())\n",
    "    print(\"map10:\", df.apply(lambda row: eval_methods.avgP(row, approach, 10, False), axis=1).mean())\n",
    "    print()"
   ]
  },
  {
   "cell_type": "code",
   "execution_count": null,
   "metadata": {},
   "outputs": [],
   "source": []
  }
 ],
 "metadata": {
  "kernelspec": {
   "display_name": "Python (py37deezy)",
   "language": "python",
   "name": "py37deezy"
  },
  "language_info": {
   "codemirror_mode": {
    "name": "ipython",
    "version": 3
   },
   "file_extension": ".py",
   "mimetype": "text/x-python",
   "name": "python",
   "nbconvert_exporter": "python",
   "pygments_lexer": "ipython3",
   "version": "3.7.9"
  }
 },
 "nbformat": 4,
 "nbformat_minor": 2
}
