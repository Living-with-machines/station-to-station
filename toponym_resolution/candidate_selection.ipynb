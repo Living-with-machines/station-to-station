{
 "cells": [
  {
   "cell_type": "markdown",
   "metadata": {},
   "source": [
    "# Candidate selection"
   ]
  },
  {
   "cell_type": "code",
   "execution_count": null,
   "metadata": {},
   "outputs": [],
   "source": [
    "import time\n",
    "import numpy as np\n",
    "import pandas as pd\n",
    "from pathlib import Path\n",
    "from collections import OrderedDict\n",
    "from tools import eval_methods, selection_methods\n",
    "from tqdm.auto import tqdm\n",
    "tqdm.pandas()\n",
    "\n",
    "setting = \"dev\" # dev or test\n",
    "approach = \"deezy_match\" # perfect_match, partial_match, deezy_match \n",
    "num_candidates = 5"
   ]
  },
  {
   "cell_type": "markdown",
   "metadata": {},
   "source": [
    "### Perform candidate selection and ranking"
   ]
  },
  {
   "cell_type": "code",
   "execution_count": null,
   "metadata": {
    "scrolled": true
   },
   "outputs": [],
   "source": [
    "if not Path(\"../processed/resolution/candranking_\" + approach + \"_\" + setting + str(num_candidates) + \".pkl\").is_file():\n",
    "\n",
    "    df = pd.read_pickle(\"../processed/quicks/quicks_\" + setting + \".pkl\")\n",
    "    alts_df = pd.read_pickle(\"../processed/quicks/quicks_altname_\" + setting + \".pkl\")\n",
    "    wkdt_df_places = pd.read_pickle(\"../processed/wikidata/altname_british_isles_gazetteer.pkl\")\n",
    "    wkdt_df_stations = pd.read_pickle(\"../processed/wikidata/altname_british_isles_stations_gazetteer.pkl\")\n",
    "    \n",
    "    # ---------------\n",
    "    # Skyline\n",
    "    df[\"skyline\"] = df.apply(lambda row: selection_methods.skyline_match(row[\"Final Wikidata ID\"], wkdt_df_places), axis=1)\n",
    "    print(\"Skyline done!\")\n",
    "    \n",
    "    if approach == \"perfect_match\":\n",
    "        # ---------------\n",
    "        # Perfect Match\n",
    "        df[\"cr_perfect_match_stations\"] = df.apply(lambda row: selection_methods.perfect_match(row[\"SubStFormatted\"], wkdt_df_stations), axis=1)\n",
    "        df[\"cr_perfect_match_places\"] = df.apply(lambda row: selection_methods.perfect_match(row[\"MainStation\"], wkdt_df_places), axis=1)\n",
    "        alts_df[\"cr_perfect_match_alts\"] = alts_df.apply(lambda row: selection_methods.perfect_match(row[\"Altname\"], wkdt_df_stations), axis=1)\n",
    "        print(\"Perfect match done!\") \n",
    "    \n",
    "    if approach == \"partial_match\":\n",
    "        # ---------------\n",
    "        # Partial Match\n",
    "        df[\"cr_partial_match_stations\"] = df.apply(lambda row: selection_methods.partial_match(row[\"SubStFormatted\"], wkdt_df_stations, num_candidates), axis=1)\n",
    "        df[\"cr_partial_match_places\"] = df.apply(lambda row: selection_methods.partial_match(row[\"MainStation\"], wkdt_df_places, num_candidates), axis=1)\n",
    "        alts_df[\"cr_partial_match_alts\"] = alts_df.apply(lambda row: selection_methods.partial_match(row[\"Altname\"], wkdt_df_stations, num_candidates), axis=1)\n",
    "        print(\"Partial match done!\")\n",
    "\n",
    "    if approach == \"deezy_match\":\n",
    "        # ---------------\n",
    "        # DeezyMatch\n",
    "        candidates = \"british_isles_stations\"\n",
    "        dm_model = \"wikidata_british_isles\"\n",
    "        inputfile = \"input_dfm\"\n",
    "        queries = \"quicks_stations\"\n",
    "        candrank_metric = \"faiss\" # 'faiss', 'cosine', 'conf'\n",
    "        candrank_thr = 5\n",
    "        quicks_query_column = \"SubStFormatted\"\n",
    "        df[\"cr_deezy_match_stations\"] = selection_methods.find_deezymatch_candidates(wkdt_df_stations, df, quicks_query_column, dm_model, inputfile, candidates, queries, candrank_metric, candrank_thr, num_candidates)\n",
    "\n",
    "        candidates = \"british_isles\"\n",
    "        dm_model = \"wikidata_british_isles\"\n",
    "        inputfile = \"input_dfm\"\n",
    "        queries = \"quicks_places\"\n",
    "        candrank_metric = \"faiss\" # 'faiss', 'cosine', 'conf'\n",
    "        candrank_thr = 5\n",
    "        quicks_query_column = \"MainStation\"\n",
    "        df[\"cr_deezy_match_places\"] = selection_methods.find_deezymatch_candidates(wkdt_df_places, df, quicks_query_column, dm_model, inputfile, candidates, queries, candrank_metric, candrank_thr, num_candidates)\n",
    "\n",
    "        candidates = \"british_isles_stations\"\n",
    "        dm_model = \"wikidata_british_isles\"\n",
    "        inputfile = \"input_dfm\"\n",
    "        queries = \"quicks_altns\"\n",
    "        candrank_metric = \"faiss\" # 'faiss', 'cosine', 'conf'\n",
    "        candrank_thr = 5\n",
    "        quicks_query_column = \"Altname\"\n",
    "        alts_df[\"cr_deezy_match_alts\"] = selection_methods.find_deezymatch_candidates(wkdt_df_stations, alts_df, quicks_query_column, dm_model, inputfile, candidates, queries, candrank_metric, candrank_thr, num_candidates)\n",
    "        print(\"Deezy match done!\")\n",
    "\n",
    "    # Add altnames to dataframe:\n",
    "    # Add deezymatch altnames to dataframe:\n",
    "    dAlts = dict()\n",
    "    altn_candidates = []\n",
    "    for i, row in alts_df.iterrows():\n",
    "        if row[\"SubId\"] in dAlts:\n",
    "            dAlts[row[\"SubId\"]].update(row[\"cr_\" + approach + \"_alts\"])\n",
    "        else:\n",
    "            dAlts[row[\"SubId\"]] = row[\"cr_\" + approach + \"_alts\"]\n",
    "    for i, row in df.iterrows():\n",
    "        if row[\"SubId\"] in dAlts:\n",
    "            altn_candidates.append(dict(OrderedDict(dAlts[row[\"SubId\"]])))\n",
    "        else:\n",
    "            altn_candidates.append(dict())\n",
    "    df[\"cr_\" + approach + \"_alts\"] = altn_candidates\n",
    "\n",
    "    # ---------------\n",
    "    # Store candidate selection\n",
    "    df.to_pickle(\"../processed/resolution/candranking_\" + approach + \"_\" + setting + str(num_candidates) + \".pkl\")"
   ]
  },
  {
   "cell_type": "markdown",
   "metadata": {},
   "source": [
    "### Evaluate candidate selection and raking"
   ]
  },
  {
   "cell_type": "code",
   "execution_count": null,
   "metadata": {},
   "outputs": [],
   "source": [
    "approach = \"deezy_match\"\n",
    "num_candidates = 1\n",
    "setting = \"dev\"\n",
    "\n",
    "test_df = pd.read_pickle(\"../processed/resolution/candranking_\" + approach + \"_\" + setting + str(num_candidates) + \".pkl\")\n",
    "\n",
    "combinations = [[\"stations\"], [\"stations\", \"alts\"], [\"stations\", \"places\"], [\"stations\", \"places\", \"alts\"]]\n",
    "candrank_approaches = [x.replace(\"cr_\", \"\").replace(\"_stations\", \"\") for x in test_df if x.startswith(\"cr_\") and x.endswith(\"stations\")]\n",
    "\n",
    "eval_results = []\n",
    "for combination in combinations:\n",
    "    for approach in candrank_approaches:\n",
    "        \n",
    "        # Get relevant columns from dataframe:\n",
    "        relv_columns = []\n",
    "        for c in combination:\n",
    "            relv_columns.append(\"cr_\" + approach + \"_\" + c)\n",
    "            \n",
    "        reverse_values = False if approach == \"deezy_match\" else True\n",
    "        \n",
    "        # Report performance:\n",
    "        p = test_df.apply(lambda row: eval_methods.pAt(row, approach, relv_columns, reverse_values), axis=1).mean()\n",
    "        mapAt = test_df.apply(lambda row: eval_methods.avgP(row, approach, relv_columns, reverse_values), axis=1).mean()\n",
    "        isRetrieved = test_df.apply(lambda row: eval_methods.isRetrieved(row, approach, relv_columns, reverse_values), axis=1).mean()\n",
    "        eval_results.append([approach + \": \" + \"+\".join(combination) + str(num_candidates), p, mapAt, isRetrieved])\n",
    "        \n",
    "cr_eval_df = pd.DataFrame(eval_results, columns = [\"Approach\", \"p@\" + str(num_candidates), \"map@\" + str(num_candidates), \"retr@\" + str(num_candidates)])\n",
    "cr_eval_df.round(3)\n",
    "print(cr_eval_df.round(2).to_latex(index=False))"
   ]
  },
  {
   "cell_type": "code",
   "execution_count": null,
   "metadata": {},
   "outputs": [],
   "source": []
  }
 ],
 "metadata": {
  "kernelspec": {
   "display_name": "Python (py37deezy)",
   "language": "python",
   "name": "py37deezy"
  },
  "language_info": {
   "codemirror_mode": {
    "name": "ipython",
    "version": 3
   },
   "file_extension": ".py",
   "mimetype": "text/x-python",
   "name": "python",
   "nbconvert_exporter": "python",
   "pygments_lexer": "ipython3",
   "version": "3.7.9"
  }
 },
 "nbformat": 4,
 "nbformat_minor": 2
}
