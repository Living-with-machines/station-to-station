{
 "cells": [
  {
   "cell_type": "code",
   "execution_count": null,
   "metadata": {},
   "outputs": [],
   "source": [
    "import time\n",
    "import numpy as np\n",
    "import pandas as pd\n",
    "from pathlib import Path\n",
    "from collections import OrderedDict\n",
    "from tools import eval_methods, selection_methods\n",
    "from tqdm.auto import tqdm\n",
    "tqdm.pandas()\n",
    "\n",
    "setting = \"dev\" # dev or test\n",
    "\n",
    "df = pd.read_pickle(\"../processed/quicks/quicks_\" + setting + \".pkl\")\n",
    "alts_df = pd.read_pickle(\"../processed/quicks/quicks_altname_\" + setting + \".pkl\")\n",
    "wkdt_df = pd.read_pickle(\"../processed/wikidata/altname_british_isles_gazetteer.pkl\")\n",
    "wkdt_alts_df = pd.read_pickle(\"../processed/wikidata/altname_british_isles_stations_gazetteer.pkl\")"
   ]
  },
  {
   "cell_type": "code",
   "execution_count": null,
   "metadata": {
    "scrolled": true
   },
   "outputs": [],
   "source": [
    "# ---------------\n",
    "# Skyline: best possible result considering NIL entities\n",
    "df[\"cr_skyline\"] = df.apply(lambda row: selection_methods.skyline(row[\"Final Wikidata ID\"], wkdt_alts_df), axis=1)\n",
    "\n",
    "# ---------------\n",
    "# Perfect Match\n",
    "df[\"cr_perfect_match\"] = df.apply(lambda row: selection_methods.perfect_match(row[\"SubStFormatted\"], wkdt_alts_df), axis=1)\n",
    "\n",
    "# ---------------\n",
    "# Partial Match\n",
    "df[\"cr_partial_match\"] = df.apply(lambda row: selection_methods.partial_match(row[\"SubStFormatted\"], wkdt_alts_df), axis=1)\n",
    "\n",
    "# ---------------\n",
    "# DeezyMatch\n",
    "candidates = \"british_isles_stations\"\n",
    "dm_model = \"wikidata_british_isles\"\n",
    "inputfile = \"input_dfm\"\n",
    "queries = \"quicks_stations\"\n",
    "candrank_metric = \"faiss\" # 'faiss', 'cosine', 'conf'\n",
    "candrank_thr = 5\n",
    "num_candidates = 10\n",
    "quicks_query_column = \"SubStFormatted\"\n",
    "\n",
    "df[\"cr_deezy_match\"] = selection_methods.find_deezymatch_candidates(wkdt_alts_df, df, quicks_query_column, dm_model, inputfile, candidates, queries, candrank_metric, candrank_thr, num_candidates)\n",
    "\n",
    "# ----------------\n",
    "# DeezyMatch: main place names\n",
    "candidates = \"british_isles\"\n",
    "dm_model = \"wikidata_british_isles\"\n",
    "inputfile = \"input_dfm\"\n",
    "queries = \"quicks_stations\"\n",
    "candrank_metric = \"faiss\" # 'faiss', 'cosine', 'conf'\n",
    "candrank_thr = 5\n",
    "num_candidates = 10\n",
    "quicks_query_column = \"MainStation\"\n",
    "\n",
    "df[\"cr_deezy_match_places\"] = selection_methods.find_deezymatch_candidates(wkdt_df, df, quicks_query_column, dm_model, inputfile, candidates, queries, candrank_metric, candrank_thr, num_candidates)\n",
    "\n",
    "# ----------------\n",
    "# DeezyMatch: altnames\n",
    "candidates = \"british_isles_stations\"\n",
    "dm_model = \"wikidata_british_isles\"\n",
    "inputfile = \"input_dfm\"\n",
    "queries = \"quicks_stations\"\n",
    "candrank_metric = \"faiss\" # 'faiss', 'cosine', 'conf'\n",
    "candrank_thr = 5\n",
    "num_candidates = 3\n",
    "quicks_query_column = \"Altname\"\n",
    "\n",
    "alts_df[\"cr_deezy_match_alts\"] = selection_methods.find_deezymatch_candidates(wkdt_alts_df, alts_df, quicks_query_column, dm_model, inputfile, candidates, queries, candrank_metric, candrank_thr, num_candidates)\n",
    "\n",
    "# Add deezymatch altnames to dataframe:\n",
    "dAlts = dict()\n",
    "altn_candidates = []\n",
    "for i, row in alts_df.iterrows():\n",
    "    if row[\"SubId\"] in dAlts:\n",
    "        dAlts[row[\"SubId\"]].update(row[\"cr_deezy_match_alts\"])\n",
    "    else:\n",
    "        dAlts[row[\"SubId\"]] = row[\"cr_deezy_match_alts\"]\n",
    "for i, row in df.iterrows():\n",
    "    if row[\"SubId\"] in dAlts:\n",
    "        altn_candidates.append(dict(OrderedDict(dAlts[row[\"SubId\"]])))\n",
    "    else:\n",
    "        altn_candidates.append(dict())\n",
    "df[\"cr_deezy_match_alts\"] = altn_candidates\n",
    "\n",
    "# ---------------\n",
    "# Store candidate selection\n",
    "df.to_pickle(\"candranking_\" + setting + \".pkl\")"
   ]
  },
  {
   "cell_type": "code",
   "execution_count": null,
   "metadata": {
    "scrolled": true
   },
   "outputs": [],
   "source": [
    "df = pd.read_pickle(\"candranking_\" + setting + \".pkl\")\n",
    "candrank_approaches = [x for x in df if x.startswith(\"cr_\")]\n",
    "\n",
    "for approach in candrank_approaches:\n",
    "    print(approach)\n",
    "    print(\"p1:\", df.apply(lambda row: eval_methods.pAt(row, approach, 1, False), axis=1).mean())\n",
    "    print(\"p5:\", df.apply(lambda row: eval_methods.pAt(row, approach, 5, False), axis=1).mean())\n",
    "    print(\"p10:\", df.apply(lambda row: eval_methods.pAt(row, approach, 10, False), axis=1).mean())\n",
    "    print(\"map5:\", df.apply(lambda row: eval_methods.avgP(row, approach, 5, False), axis=1).mean())\n",
    "    print(\"map10:\", df.apply(lambda row: eval_methods.avgP(row, approach, 10, False), axis=1).mean())\n",
    "    print()"
   ]
  }
 ],
 "metadata": {
  "kernelspec": {
   "display_name": "Python (py37deezy)",
   "language": "python",
   "name": "py37deezy"
  },
  "language_info": {
   "codemirror_mode": {
    "name": "ipython",
    "version": 3
   },
   "file_extension": ".py",
   "mimetype": "text/x-python",
   "name": "python",
   "nbconvert_exporter": "python",
   "pygments_lexer": "ipython3",
   "version": "3.7.9"
  }
 },
 "nbformat": 4,
 "nbformat_minor": 2
}
