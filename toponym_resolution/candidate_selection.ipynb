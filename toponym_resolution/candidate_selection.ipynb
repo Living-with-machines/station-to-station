{
 "cells": [
  {
   "cell_type": "code",
   "execution_count": null,
   "metadata": {},
   "outputs": [],
   "source": [
    "import pandas as pd\n",
    "from tools import eval_methods, selection_methods\n",
    "\n",
    "df = pd.read_pickle(\"../processed/quicks/quicks_dev.pkl\")\n",
    "wikidata_df = pd.read_pickle(\"../processed/wikidata/altname_british_isles_stations_gazetteer.pkl\")"
   ]
  },
  {
   "cell_type": "code",
   "execution_count": null,
   "metadata": {
    "scrolled": true
   },
   "outputs": [],
   "source": [
    "approach = \"perfect_match\"\n",
    "df[approach] = df.apply(lambda row: selection_methods.perfect_match(row[\"SubStFormatted\"], wikidata_df), axis=1)\n",
    "print (approach)\n",
    "print (\"p1:\", df.apply(lambda row: eval_methods.p1(row, approach), axis=1).mean())\n",
    "print (\"map:\", df.apply(lambda row: eval_methods.avgP(row, approach), axis=1).mean())\n",
    "\n",
    "approach = \"partial_match\"\n",
    "df[approach] = df.apply(lambda row: selection_methods.partial_match(row[\"SubStFormatted\"], wikidata_df), axis=1)\n",
    "print (approach)\n",
    "print (\"p1:\", df.apply(lambda row: eval_methods.p1(row, approach), axis=1).mean())\n",
    "print (\"map:\", df.apply(lambda row: eval_methods.avgP(row, approach), axis=1).mean())\n",
    "\n",
    "# we need to decide if we want to extend the df with these new columns or save it as a new one"
   ]
  },
  {
   "cell_type": "code",
   "execution_count": null,
   "metadata": {},
   "outputs": [],
   "source": []
  }
 ],
 "metadata": {
  "kernelspec": {
   "display_name": "Python (py37deezy)",
   "language": "python",
   "name": "py37deezy"
  },
  "language_info": {
   "codemirror_mode": {
    "name": "ipython",
    "version": 3
   },
   "file_extension": ".py",
   "mimetype": "text/x-python",
   "name": "python",
   "nbconvert_exporter": "python",
   "pygments_lexer": "ipython3",
   "version": "3.7.9"
  }
 },
 "nbformat": 4,
 "nbformat_minor": 2
}
